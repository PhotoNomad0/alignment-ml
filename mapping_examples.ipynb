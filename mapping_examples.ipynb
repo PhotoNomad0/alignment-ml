{
 "cells": [
  {
   "cell_type": "code",
   "execution_count": 1,
   "metadata": {},
   "outputs": [],
   "source": [
    "# User-defined function to pass to map()\n",
    "# function as the first argument\n",
    "def getLength(iterable):\n",
    "    return len(iterable)\n",
    "\n",
    "# Function to print the map output\n",
    "def show_result(map_object):\n",
    "    for item in map_object:\n",
    "        print(item, end=' ')\n",
    "    print('')  # for new line\n",
    "\n",
    "# Generic Function to print the iterator and its content\n",
    "def print_Iter(iter_in):\n",
    "    if isinstance(iter_in, str):\n",
    "        print(\"The input iterable, '{}' is a String. Its length is {}.\".format(iter_in, len(iter_in)))\n",
    "    if isinstance(iter_in, (list, tuple, set)):\n",
    "        print(\"The input iterable, {} is a {}. It has {} elements.\".format(iter_in, type(iter_in).__name__, len(iter_in)))\n",
    "        for item in iter_in:\n",
    "            print(\"The {} contains '{}' and its length is {}.\".format(type(iter_in).__name__, item, len(item)))\n",
    "    if isinstance(iter_in, dict):\n",
    "        print(\"The input iterable, {} is a {}. It has {} elements.\".format(iter_in, type(iter_in).__name__, len(iter_in)))\n",
    "        for key, value in iter_in.items():\n",
    "            print(\"Dict key is '{}' and value is {}.\".format(key, value))\n",
    "\n"
   ]
  },
  {
   "cell_type": "code",
   "execution_count": 8,
   "metadata": {},
   "outputs": [
    {
     "output_type": "stream",
     "name": "stdout",
     "text": [
      "The input iterable, ['Python', 'CSharp', 'Java'] is a list. It has 3 elements.\nThe list contains 'Python' and its length is 6.\nThe list contains 'CSharp' and its length is 6.\nThe list contains 'Java' and its length is 4.\nType of map_result is <class 'map'>\n[6, 6, 4]\n"
     ]
    }
   ],
   "source": [
    "\"\"\"\n",
    " Desc:\n",
    "  Python map() function to apply on a List iterable\n",
    "\"\"\"\n",
    "\n",
    "# Considering List as our iterable parameter\n",
    "iter_List = [\"Python\", \"CSharp\", \"Java\"]\n",
    "print_Iter(iter_List)\n",
    "\n",
    "# Calling map() function on a list\n",
    "map_result =  map(getLength, iter_List)\n",
    "print(\"Type of map_result is {}\".format(type(map_result)))\n",
    "print(list(map_result))"
   ]
  },
  {
   "cell_type": "code",
   "execution_count": 7,
   "metadata": {},
   "outputs": [
    {
     "output_type": "stream",
     "name": "stdout",
     "text": [
      "<map object at 0x7fe8175b62b0>\n"
     ]
    }
   ],
   "source": [
    "print(map_result)"
   ]
  },
  {
   "cell_type": "code",
   "execution_count": null,
   "metadata": {},
   "outputs": [],
   "source": []
  }
 ],
 "metadata": {
  "kernelspec": {
   "display_name": "Python 3",
   "language": "python",
   "name": "python3"
  },
  "language_info": {
   "codemirror_mode": {
    "name": "ipython",
    "version": 3
   },
   "file_extension": ".py",
   "mimetype": "text/x-python",
   "name": "python",
   "nbconvert_exporter": "python",
   "pygments_lexer": "ipython3",
   "version": "3.7.1-final"
  }
 },
 "nbformat": 4,
 "nbformat_minor": 4
}