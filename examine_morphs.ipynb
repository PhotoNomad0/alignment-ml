{
 "cells": [
  {
   "cell_type": "code",
   "execution_count": 1,
   "metadata": {},
   "outputs": [],
   "source": [
    "# Install a pip package in the current Jupyter kernel\n",
    "# import sys\n",
    "# !{sys.executable} -m pip install pandas"
   ]
  },
  {
   "cell_type": "code",
   "execution_count": 2,
   "metadata": {},
   "outputs": [
    {
     "name": "stdout",
     "output_type": "stream",
     "text": [
      "Connection to SQLite DB successful\n"
     ]
    }
   ],
   "source": [
    "import pandas as pd\n",
    "import utils.db_utils as db\n",
    "import utils.file_utils as file\n",
    "import utils.bible_utils as bible\n",
    "\n",
    "original_words_table = db.original_words_table\n",
    "target_words_table = db.target_words_table\n",
    "alignment_table = db.alignment_table\n",
    "dbPath = './data/alignmentsData.sqlite'\n",
    "origLangPathGreek = './data/OrigLangJson/ugnt/v0.14'\n",
    "origLangPathHebrew = './data/OrigLangJson/uhb/v2.1.15'\n",
    "\n",
    "connection = db.initAlignmentDB(dbPath)\n",
    "\n",
    "searchOriginal = True\n",
    "searchTarget = False\n",
    "searchLemma = True\n",
    "caseInsensitive = True\n",
    "\n"
   ]
  },
  {
   "cell_type": "code",
   "execution_count": 3,
   "metadata": {},
   "outputs": [
    {
     "name": "stdout",
     "output_type": "stream",
     "text": [
      "51861 greek words in original_words_table\n",
      "Frequency of greek morph usage:\n",
      "Gr,CC,,,,,,,,    4898\n",
      "Gr,D,,,,,,,,,    2035\n",
      "Gr,P,,,,,A,,,    1660\n",
      "Gr,P,,,,,D,,,    1331\n",
      "Gr,P,,,,,G,,,    1260\n",
      "                 ... \n",
      "Gr,ER,,,,ANP,       1\n",
      "Gr,RI,,,,VMP,       1\n",
      "Gr,V,ILA1,,S,       1\n",
      "Gr,V,PEA,NFP,       1\n",
      "Gr,V,PEA,ANP,       1\n",
      "Name: morph, Length: 923, dtype: int64\n",
      "Alphabetized greek morph list:\n",
      "['Gr,AA,,,,AFP,', 'Gr,AA,,,,AFPC', 'Gr,AA,,,,AFS,', 'Gr,AA,,,,AFSC', 'Gr,AA,,,,AFSS', 'Gr,AA,,,,AMP,', 'Gr,AA,,,,AMPC', 'Gr,AA,,,,AMS,', 'Gr,AA,,,,AMSC', 'Gr,AA,,,,ANP,', 'Gr,AA,,,,ANPC', 'Gr,AA,,,,ANS,', 'Gr,AA,,,,ANSC', 'Gr,AA,,,,DFP,', 'Gr,AA,,,,DFS,', 'Gr,AA,,,,DMP,', 'Gr,AA,,,,DMPC', 'Gr,AA,,,,DMS,', 'Gr,AA,,,,DMSC', 'Gr,AA,,,,DMSS', 'Gr,AA,,,,DNP,', 'Gr,AA,,,,DNS,', 'Gr,AA,,,,GFP,', 'Gr,AA,,,,GFS,', 'Gr,AA,,,,GMP,', 'Gr,AA,,,,GMS,', 'Gr,AA,,,,GNP,', 'Gr,AA,,,,GNPC', 'Gr,AA,,,,GNS,', 'Gr,AA,,,,NFP,', 'Gr,AA,,,,NFS,', 'Gr,AA,,,,NMP,', 'Gr,AA,,,,NMPC', 'Gr,AA,,,,NMS,', 'Gr,AA,,,,NMSC', 'Gr,AA,,,,NNP,', 'Gr,AA,,,,NNS,', 'Gr,AA,,,,VFS,', 'Gr,AA,,,,VMP,', 'Gr,AA,,,,VMS,', 'Gr,AA,,,,VMSS', 'Gr,AA,,,,VNS,', 'Gr,AR,,,,AFP,', 'Gr,AR,,,,AFS,', 'Gr,AR,,,,AMS,', 'Gr,AR,,,,ANP,', 'Gr,AR,,,,ANS,', 'Gr,AR,,,,DFS,', 'Gr,AR,,,,DMS,', 'Gr,AR,,,,DNP,', 'Gr,AR,,,,DNS,', 'Gr,AR,,,,GFP,', 'Gr,AR,,,,GFS,', 'Gr,AR,,,,GMS,', 'Gr,AR,,,,GNS,', 'Gr,AR,,,,NFS,', 'Gr,AR,,,,NMS,', 'Gr,AR,,,,NMSC', 'Gr,AR,,,,NNP,', 'Gr,AR,,,,NNS,', 'Gr,CC,,,,,,,,', 'Gr,CO,,,,,,,,', 'Gr,CS,,,,,,,,', 'Gr,D,,,,,,,,,', 'Gr,D,,,,,,,,C', 'Gr,D,,,,,,,,S', 'Gr,DO,,,,,,,,', 'Gr,EA,,,,AFP,', 'Gr,EA,,,,AFS,', 'Gr,EA,,,,AMP,', 'Gr,EA,,,,AMS,', 'Gr,EA,,,,ANP,', 'Gr,EA,,,,ANS,', 'Gr,EA,,,,DFP,', 'Gr,EA,,,,DFS,', 'Gr,EA,,,,DMP,', 'Gr,EA,,,,DMS,', 'Gr,EA,,,,DNP,', 'Gr,EA,,,,DNS,', 'Gr,EA,,,,GFP,', 'Gr,EA,,,,GFS,', 'Gr,EA,,,,GMP,', 'Gr,EA,,,,GMS,', 'Gr,EA,,,,GNP,', 'Gr,EA,,,,GNS,', 'Gr,EA,,,,NFP,', 'Gr,EA,,,,NFS,', 'Gr,EA,,,,NMP,', 'Gr,EA,,,,NMS,', 'Gr,EA,,,,NNP,', 'Gr,EA,,,,NNS,', 'Gr,EA,,,,VFP,', 'Gr,EA,,,,VFS,', 'Gr,EA,,,,VMP,', 'Gr,EA,,,,VMS,', 'Gr,EA,,,,VNP,', 'Gr,EA,,,,VNS,', 'Gr,ED,,,,AFP,', 'Gr,ED,,,,AFS,', 'Gr,ED,,,,AMP,', 'Gr,ED,,,,AMS,', 'Gr,ED,,,,ANP,', 'Gr,ED,,,,ANS,', 'Gr,ED,,,,DFP,', 'Gr,ED,,,,DFS,', 'Gr,ED,,,,DMP,', 'Gr,ED,,,,DMS,', 'Gr,ED,,,,DNS,', 'Gr,ED,,,,GFP,', 'Gr,ED,,,,GFS,', 'Gr,ED,,,,GMP,', 'Gr,ED,,,,GMS,', 'Gr,ED,,,,GNP,', 'Gr,ED,,,,GNS,', 'Gr,ED,,,,NFP,', 'Gr,ED,,,,NFS,', 'Gr,ED,,,,NMP,', 'Gr,ED,,,,NMS,', 'Gr,ED,,,,NNP,', 'Gr,ED,,,,NNS,', 'Gr,EF,,,,AFP,', 'Gr,EF,,,,AFS,', 'Gr,EF,,,,AMP,', 'Gr,EF,,,,AMS,', 'Gr,EF,,,,ANP,', 'Gr,EF,,,,ANS,', 'Gr,EF,,,,DFP,', 'Gr,EF,,,,DFS,', 'Gr,EF,,,,DMP,', 'Gr,EF,,,,DMS,', 'Gr,EF,,,,DNS,', 'Gr,EF,,,,GFS,', 'Gr,EF,,,,GMP,', 'Gr,EF,,,,GMS,', 'Gr,EF,,,,NMP,', 'Gr,EF,,,,NMS,', 'Gr,EN,,,,AFP,', 'Gr,EN,,,,AFPI', 'Gr,EN,,,,AFS,', 'Gr,EN,,,,AMP,', 'Gr,EN,,,,AMPI', 'Gr,EN,,,,AMS,', 'Gr,EN,,,,ANP,', 'Gr,EN,,,,ANPI', 'Gr,EN,,,,ANS,', 'Gr,EN,,,,DFP,', 'Gr,EN,,,,DFPI', 'Gr,EN,,,,DFS,', 'Gr,EN,,,,DMP,', 'Gr,EN,,,,DMPI', 'Gr,EN,,,,DMS,', 'Gr,EN,,,,DNP,', 'Gr,EN,,,,DNPI', 'Gr,EN,,,,DNS,', 'Gr,EN,,,,GFP,', 'Gr,EN,,,,GFPI', 'Gr,EN,,,,GFS,', 'Gr,EN,,,,GMP,', 'Gr,EN,,,,GMS,', 'Gr,EN,,,,GNP,', 'Gr,EN,,,,GNPI', 'Gr,EN,,,,NFP,', 'Gr,EN,,,,NFPI', 'Gr,EN,,,,NFS,', 'Gr,EN,,,,NMP,', 'Gr,EN,,,,NMPI', 'Gr,EN,,,,NMS,', 'Gr,EN,,,,NNP,', 'Gr,EN,,,,NNPI', 'Gr,EN,,,,NNS,', 'Gr,EO,,,,AFS,', 'Gr,EO,,,,AMS,', 'Gr,EO,,,,ANS,', 'Gr,EO,,,,DFP,', 'Gr,EO,,,,DFS,', 'Gr,EO,,,,DMS,', 'Gr,EO,,,,GFS,', 'Gr,EO,,,,NFS,', 'Gr,EO,,,,NMS,', 'Gr,EP,,,,AFP,', 'Gr,EP,,,,AFS,', 'Gr,EP,,,,AMP,', 'Gr,EP,,,,AMS,', 'Gr,EP,,,,ANP,', 'Gr,EP,,,,ANS,', 'Gr,EP,,,,DFP,', 'Gr,EP,,,,DFS,', 'Gr,EP,,,,DMP,', 'Gr,EP,,,,DMS,', 'Gr,EP,,,,DNP,', 'Gr,EP,,,,DNS,', 'Gr,EP,,,,GFP,', 'Gr,EP,,,,GFS,', 'Gr,EP,,,,GMP,', 'Gr,EP,,,,GMS,', 'Gr,EP,,,,GNS,', 'Gr,EP,,,,NFP,', 'Gr,EP,,,,NFS,', 'Gr,EP,,,,NMS,', 'Gr,EP,,,1AFS,', 'Gr,EP,,,1AMP,', 'Gr,EP,,,1ANP,', 'Gr,EP,,,1DFP,', 'Gr,EP,,,1DFS,', 'Gr,EP,,,1DMP,', 'Gr,EP,,,1GFS,', 'Gr,EP,,,1NFS,', 'Gr,EP,,,2DFS,', 'Gr,EP,,,2GFS,', 'Gr,EQ,,,,AFP,', 'Gr,EQ,,,,AFS,', 'Gr,EQ,,,,AMP,', 'Gr,EQ,,,,AMS,', 'Gr,EQ,,,,ANP,', 'Gr,EQ,,,,ANS,', 'Gr,EQ,,,,DFP,', 'Gr,EQ,,,,DFS,', 'Gr,EQ,,,,DMP,', 'Gr,EQ,,,,DMPC', 'Gr,EQ,,,,DMS,', 'Gr,EQ,,,,DNP,', 'Gr,EQ,,,,DNS,', 'Gr,EQ,,,,GFP,', 'Gr,EQ,,,,GFS,', 'Gr,EQ,,,,GMP,', 'Gr,EQ,,,,GMS,', 'Gr,EQ,,,,GNP,', 'Gr,EQ,,,,GNS,', 'Gr,EQ,,,,NFP,', 'Gr,EQ,,,,NFS,', 'Gr,EQ,,,,NMP,', 'Gr,EQ,,,,NMS,', 'Gr,EQ,,,,NNP,', 'Gr,EQ,,,,NNS,', 'Gr,EQ,,,,VMP,', 'Gr,ER,,,,AFS,', 'Gr,ER,,,,AMP,', 'Gr,ER,,,,AMS,', 'Gr,ER,,,,ANP,', 'Gr,ER,,,,DFS,', 'Gr,ER,,,,GFS,', 'Gr,ER,,,,NMP,', 'Gr,ET,,,,AFS,', 'Gr,ET,,,,AMS,', 'Gr,ET,,,,ANS,', 'Gr,ET,,,,DFS,', 'Gr,ET,,,,DMS,', 'Gr,ET,,,,DNP,', 'Gr,ET,,,,DNS,', 'Gr,ET,,,,GFS,', 'Gr,ET,,,,NFP,', 'Gr,ET,,,,NFS,', 'Gr,ET,,,,NMP,', 'Gr,ET,,,,NMS,', 'Gr,ET,,,,NNS,', 'Gr,IDMAA2,,S,', 'Gr,IE,,,,,,,,', 'Gr,IE,,,,,,,I', 'Gr,IEMPA2,,S,', 'Gr,IENPA,,,,,', 'Gr,IR,,,,,,,,', 'Gr,N,,,,,AFP,', 'Gr,N,,,,,AFPD', 'Gr,N,,,,,AFS,', 'Gr,N,,,,,AFSD', 'Gr,N,,,,,AFSI', 'Gr,N,,,,,AMP,', 'Gr,N,,,,,AMS,', 'Gr,N,,,,,AMSD', 'Gr,N,,,,,AMSI', 'Gr,N,,,,,ANP,', 'Gr,N,,,,,ANPD', 'Gr,N,,,,,ANS,', 'Gr,N,,,,,ANSD', 'Gr,N,,,,,ANSI', 'Gr,N,,,,,DFP,', 'Gr,N,,,,,DFS,', 'Gr,N,,,,,DFSI', 'Gr,N,,,,,DMP,', 'Gr,N,,,,,DMS,', 'Gr,N,,,,,DMSI', 'Gr,N,,,,,DNP,', 'Gr,N,,,,,DNPD', 'Gr,N,,,,,DNS,', 'Gr,N,,,,,DNSD', 'Gr,N,,,,,DNSI', 'Gr,N,,,,,GFP,', 'Gr,N,,,,,GFS,', 'Gr,N,,,,,GFSD', 'Gr,N,,,,,GFSI', 'Gr,N,,,,,GMP,', 'Gr,N,,,,,GMS,', 'Gr,N,,,,,GMSI', 'Gr,N,,,,,GNP,', 'Gr,N,,,,,GNPD', 'Gr,N,,,,,GNS,', 'Gr,N,,,,,GNSD', 'Gr,N,,,,,GNSI', 'Gr,N,,,,,NFP,', 'Gr,N,,,,,NFS,', 'Gr,N,,,,,NFSD', 'Gr,N,,,,,NFSI', 'Gr,N,,,,,NMP,', 'Gr,N,,,,,NMPD', 'Gr,N,,,,,NMS,', 'Gr,N,,,,,NMSI', 'Gr,N,,,,,NNP,', 'Gr,N,,,,,NNPD', 'Gr,N,,,,,NNS,', 'Gr,N,,,,,NNSD', 'Gr,N,,,,,NNSI', 'Gr,N,,,,,VFP,', 'Gr,N,,,,,VFS,', 'Gr,N,,,,,VFSI', 'Gr,N,,,,,VMP,', 'Gr,N,,,,,VMPD', 'Gr,N,,,,,VMS,', 'Gr,N,,,,,VMSD', 'Gr,N,,,,,VMSI', 'Gr,N,,,,,VNP,', 'Gr,N,,,,,VNPD', 'Gr,N,,,,,VNS,', 'Gr,N,,,,,VNSD', 'Gr,NP,,,,AFS,', 'Gr,NP,,,,AMP,', 'Gr,NP,,,,AMS,', 'Gr,NP,,,,ANP,', 'Gr,NP,,,,ANS,', 'Gr,NP,,,,DFS,', 'Gr,NP,,,,DMP,', 'Gr,NP,,,,DNS,', 'Gr,NP,,,,GFP,', 'Gr,NP,,,,GFS,', 'Gr,NP,,,,GMP,', 'Gr,NP,,,,GMS,', 'Gr,NP,,,,GNP,', 'Gr,NP,,,,NFP,', 'Gr,NP,,,,NFPC', 'Gr,NP,,,,NFS,', 'Gr,NP,,,,NFSC', 'Gr,NP,,,,NMP,', 'Gr,NP,,,,NMPC', 'Gr,NP,,,,NMS,', 'Gr,NP,,,,NMSC', 'Gr,NP,,,,NNP,', 'Gr,NP,,,,NNPC', 'Gr,NP,,,,NNS,', 'Gr,NP,,,,NNSC', 'Gr,NS,,,,AFP,', 'Gr,NS,,,,AFPC', 'Gr,NS,,,,AFS,', 'Gr,NS,,,,AFSC', 'Gr,NS,,,,AMP,', 'Gr,NS,,,,AMPC', 'Gr,NS,,,,AMPI', 'Gr,NS,,,,AMS,', 'Gr,NS,,,,AMSC', 'Gr,NS,,,,ANP,', 'Gr,NS,,,,ANPI', 'Gr,NS,,,,ANS,', 'Gr,NS,,,,ANSC', 'Gr,NS,,,,ANSS', 'Gr,NS,,,,DFP,', 'Gr,NS,,,,DFS,', 'Gr,NS,,,,DMP,', 'Gr,NS,,,,DMPC', 'Gr,NS,,,,DMPI', 'Gr,NS,,,,DMS,', 'Gr,NS,,,,DMSC', 'Gr,NS,,,,DNP,', 'Gr,NS,,,,DNPS', 'Gr,NS,,,,DNS,', 'Gr,NS,,,,DNSS', 'Gr,NS,,,,GFP,', 'Gr,NS,,,,GFS,', 'Gr,NS,,,,GMP,', 'Gr,NS,,,,GMPC', 'Gr,NS,,,,GMS,', 'Gr,NS,,,,GMSC', 'Gr,NS,,,,GMSS', 'Gr,NS,,,,GNP,', 'Gr,NS,,,,GNPC', 'Gr,NS,,,,GNS,', 'Gr,NS,,,,NFP,', 'Gr,NS,,,,NFPI', 'Gr,NS,,,,NFS,', 'Gr,NS,,,,NMP,', 'Gr,NS,,,,NMPC', 'Gr,NS,,,,NMPI', 'Gr,NS,,,,NMS,', 'Gr,NS,,,,NMSC', 'Gr,NS,,,,NMSS', 'Gr,NS,,,,NNP,', 'Gr,NS,,,,NNS,', 'Gr,NS,,,,NNSC', 'Gr,NS,,,,VFS,', 'Gr,NS,,,,VMP,', 'Gr,NS,,,,VMPC', 'Gr,NS,,,,VMS,', 'Gr,P,,,,,,,,,', 'Gr,P,,,,,A,,,', 'Gr,P,,,,,D,,,', 'Gr,P,,,,,G,,,', 'Gr,PI,,,,,,,,', 'Gr,PI,,,,D,,,', 'Gr,PI,,,,G,,,', 'Gr,RC,,,,AMP,', 'Gr,RC,,,,DMP,', 'Gr,RC,,,,DNP,', 'Gr,RC,,,,GMP,', 'Gr,RD,,,,AFP,', 'Gr,RD,,,,AFS,', 'Gr,RD,,,,AMP,', 'Gr,RD,,,,AMS,', 'Gr,RD,,,,ANP,', 'Gr,RD,,,,ANS,', 'Gr,RD,,,,DFP,', 'Gr,RD,,,,DFS,', 'Gr,RD,,,,DMP,', 'Gr,RD,,,,DMS,', 'Gr,RD,,,,DNP,', 'Gr,RD,,,,DNS,', 'Gr,RD,,,,GFP,', 'Gr,RD,,,,GFS,', 'Gr,RD,,,,GMP,', 'Gr,RD,,,,GMS,', 'Gr,RD,,,,GNP,', 'Gr,RD,,,,GNS,', 'Gr,RD,,,,NFP,', 'Gr,RD,,,,NFS,', 'Gr,RD,,,,NMP,', 'Gr,RD,,,,NMS,', 'Gr,RD,,,,NNP,', 'Gr,RD,,,,NNS,', 'Gr,RD,,,,VFS,', 'Gr,RD,,,,VMP,', 'Gr,RD,,,,VMS,', 'Gr,RE,,,,AFS,', 'Gr,RE,,,,ANS,', 'Gr,RE,,,1AMP,', 'Gr,RE,,,1AMS,', 'Gr,RE,,,1DMS,', 'Gr,RE,,,1GMS,', 'Gr,RE,,,1NMP,', 'Gr,RE,,,1NMS,', 'Gr,RE,,,2AFP,', 'Gr,RE,,,2AMP,', 'Gr,RE,,,2AMS,', 'Gr,RE,,,2ANP,', 'Gr,RE,,,2DMP,', 'Gr,RE,,,2DMS,', 'Gr,RE,,,2GMP,', 'Gr,RE,,,2GMS,', 'Gr,RE,,,2NMP,', 'Gr,RE,,,2NMS,', 'Gr,RE,,,3AFP,', 'Gr,RE,,,3AFS,', 'Gr,RE,,,3AMP,', 'Gr,RE,,,3AMS,', 'Gr,RE,,,3DFS,', 'Gr,RE,,,3DMP,', 'Gr,RE,,,3DMS,', 'Gr,RE,,,3GFS,', 'Gr,RE,,,3GMP,', 'Gr,RE,,,3GMS,', 'Gr,RE,,,3GNS,', 'Gr,RE,,,3NMP,', 'Gr,RE,,,3NMS,', 'Gr,RI,,,,AFP,', 'Gr,RI,,,,AFS,', 'Gr,RI,,,,AMP,', 'Gr,RI,,,,AMS,', 'Gr,RI,,,,ANP,', 'Gr,RI,,,,ANS,', 'Gr,RI,,,,DFS,', 'Gr,RI,,,,DMP,', 'Gr,RI,,,,DMS,', 'Gr,RI,,,,DNP,', 'Gr,RI,,,,DNS,', 'Gr,RI,,,,GFP,', 'Gr,RI,,,,GFS,', 'Gr,RI,,,,GMP,', 'Gr,RI,,,,GMS,', 'Gr,RI,,,,GNP,', 'Gr,RI,,,,GNS,', 'Gr,RI,,,,NFP,', 'Gr,RI,,,,NFS,', 'Gr,RI,,,,NMP,', 'Gr,RI,,,,NMS,', 'Gr,RI,,,,NNP,', 'Gr,RI,,,,NNS,', 'Gr,RI,,,,VMP,', 'Gr,RP,,,,AFS,', 'Gr,RP,,,,AMP,', 'Gr,RP,,,,AMS,', 'Gr,RP,,,,DFP,', 'Gr,RP,,,,DFS,', 'Gr,RP,,,,DMP,', 'Gr,RP,,,,DMS,', 'Gr,RP,,,,GFS,', 'Gr,RP,,,,GMS,', 'Gr,RP,,,,NFS,', 'Gr,RP,,,,NMP,', 'Gr,RP,,,,NMS,', 'Gr,RP,,,1A,P,', 'Gr,RP,,,1A,S,', 'Gr,RP,,,1D,P,', 'Gr,RP,,,1D,S,', 'Gr,RP,,,1G,P,', 'Gr,RP,,,1G,S,', 'Gr,RP,,,1GFP,', 'Gr,RP,,,1N,P,', 'Gr,RP,,,1N,S,', 'Gr,RP,,,1NMP,', 'Gr,RP,,,1NNP,', 'Gr,RP,,,2A,P,', 'Gr,RP,,,2A,S,', 'Gr,RP,,,2ANP,', 'Gr,RP,,,2ANS,', 'Gr,RP,,,2D,P,', 'Gr,RP,,,2D,S,', 'Gr,RP,,,2G,P,', 'Gr,RP,,,2G,S,', 'Gr,RP,,,2GFS,', 'Gr,RP,,,2N,P,', 'Gr,RP,,,2N,S,', 'Gr,RP,,,2NFP,', 'Gr,RP,,,2NMP,', 'Gr,RP,,,2NNP,', 'Gr,RP,,,2NNS,', 'Gr,RP,,,3AFP,', 'Gr,RP,,,3AFS,', 'Gr,RP,,,3AMP,', 'Gr,RP,,,3AMS,', 'Gr,RP,,,3ANP,', 'Gr,RP,,,3ANS,', 'Gr,RP,,,3DFP,', 'Gr,RP,,,3DFS,', 'Gr,RP,,,3DMP,', 'Gr,RP,,,3DMS,', 'Gr,RP,,,3DNP,', 'Gr,RP,,,3DNS,', 'Gr,RP,,,3GFP,', 'Gr,RP,,,3GFS,', 'Gr,RP,,,3GMP,', 'Gr,RP,,,3GMS,', 'Gr,RP,,,3GNP,', 'Gr,RP,,,3GNS,', 'Gr,RP,,,3NFS,', 'Gr,RP,,,3NMP,', 'Gr,RP,,,3NMS,', 'Gr,RR,,,,AFP,', 'Gr,RR,,,,AFS,', 'Gr,RR,,,,AMP,', 'Gr,RR,,,,AMS,', 'Gr,RR,,,,ANP,', 'Gr,RR,,,,ANS,', 'Gr,RR,,,,DFP,', 'Gr,RR,,,,DFS,', 'Gr,RR,,,,DMP,', 'Gr,RR,,,,DMS,', 'Gr,RR,,,,DNP,', 'Gr,RR,,,,DNS,', 'Gr,RR,,,,GFP,', 'Gr,RR,,,,GFS,', 'Gr,RR,,,,GMP,', 'Gr,RR,,,,GMS,', 'Gr,RR,,,,GNP,', 'Gr,RR,,,,GNS,', 'Gr,RR,,,,NFP,', 'Gr,RR,,,,NFS,', 'Gr,RR,,,,NMP,', 'Gr,RR,,,,NMS,', 'Gr,RR,,,,NNP,', 'Gr,RR,,,,NNS,', 'Gr,RT,,,,AMS,', 'Gr,RT,,,,ANP,', 'Gr,RT,,,,ANS,', 'Gr,RT,,,,DMS,', 'Gr,RT,,,,DNS,', 'Gr,RT,,,,GFS,', 'Gr,RT,,,,GMP,', 'Gr,RT,,,,GMS,', 'Gr,RT,,,,GNP,', 'Gr,RT,,,,GNS,', 'Gr,RT,,,,NFS,', 'Gr,RT,,,,NMP,', 'Gr,RT,,,,NMS,', 'Gr,RT,,,,NNP,', 'Gr,RT,,,,NNS,', 'Gr,T,,,,,,,,,', 'Gr,V,IAA1,,P,', 'Gr,V,IAA1,,S,', 'Gr,V,IAA2,,P,', 'Gr,V,IAA2,,S,', 'Gr,V,IAA3,,P,', 'Gr,V,IAA3,,S,', 'Gr,V,IAM1,,P,', 'Gr,V,IAM1,,S,', 'Gr,V,IAM2,,P,', 'Gr,V,IAM2,,S,', 'Gr,V,IAM3,,P,', 'Gr,V,IAM3,,S,', 'Gr,V,IAP1,,P,', 'Gr,V,IAP1,,S,', 'Gr,V,IAP2,,P,', 'Gr,V,IAP2,,S,', 'Gr,V,IAP3,,P,', 'Gr,V,IAP3,,S,', 'Gr,V,IEA1,,P,', 'Gr,V,IEA1,,S,', 'Gr,V,IEA2,,P,', 'Gr,V,IEA2,,S,', 'Gr,V,IEA3,,P,', 'Gr,V,IEA3,,S,', 'Gr,V,IEM1,,P,', 'Gr,V,IEM1,,S,', 'Gr,V,IEM2,,S,', 'Gr,V,IEM3,,S,', 'Gr,V,IEP1,,S,', 'Gr,V,IEP2,,S,', 'Gr,V,IEP3,,P,', 'Gr,V,IEP3,,S,', 'Gr,V,IFA1,,P,', 'Gr,V,IFA1,,S,', 'Gr,V,IFA2,,P,', 'Gr,V,IFA2,,S,', 'Gr,V,IFA3,,P,', 'Gr,V,IFA3,,S,', 'Gr,V,IFM1,,P,', 'Gr,V,IFM1,,S,', 'Gr,V,IFM2,,P,', 'Gr,V,IFM2,,S,', 'Gr,V,IFM3,,P,', 'Gr,V,IFM3,,S,', 'Gr,V,IFP1,,P,', 'Gr,V,IFP1,,S,', 'Gr,V,IFP2,,P,', 'Gr,V,IFP2,,S,', 'Gr,V,IFP3,,P,', 'Gr,V,IFP3,,S,', 'Gr,V,IIA1,,P,', 'Gr,V,IIA1,,S,', 'Gr,V,IIA2,,P,', 'Gr,V,IIA3,,P,', 'Gr,V,IIA3,,S,', 'Gr,V,IIM1,,P,', 'Gr,V,IIM1,,S,', 'Gr,V,IIM2,,P,', 'Gr,V,IIM2,,S,', 'Gr,V,IIM3,,P,', 'Gr,V,IIM3,,S,', 'Gr,V,IIP1,,P,', 'Gr,V,IIP3,,P,', 'Gr,V,IIP3,,S,', 'Gr,V,ILA1,,S,', 'Gr,V,ILA2,,P,', 'Gr,V,ILA2,,S,', 'Gr,V,ILA3,,P,', 'Gr,V,ILA3,,S,', 'Gr,V,ILM3,,S,', 'Gr,V,ILP3,,S,', 'Gr,V,IPA1,,P,', 'Gr,V,IPA1,,S,', 'Gr,V,IPA2,,P,', 'Gr,V,IPA2,,S,', 'Gr,V,IPA3,,P,', 'Gr,V,IPA3,,S,', 'Gr,V,IPM1,,P,', 'Gr,V,IPM1,,S,', 'Gr,V,IPM2,,P,', 'Gr,V,IPM2,,S,', 'Gr,V,IPM3,,P,', 'Gr,V,IPM3,,S,', 'Gr,V,IPP1,,P,', 'Gr,V,IPP1,,S,', 'Gr,V,IPP2,,P,', 'Gr,V,IPP2,,S,', 'Gr,V,IPP3,,P,', 'Gr,V,IPP3,,S,', 'Gr,V,MAA2,,P,', 'Gr,V,MAA2,,S,', 'Gr,V,MAA3,,P,', 'Gr,V,MAA3,,S,', 'Gr,V,MAM2,,P,', 'Gr,V,MAM2,,S,', 'Gr,V,MAM3,,S,', 'Gr,V,MAP2,,P,', 'Gr,V,MAP2,,S,', 'Gr,V,MAP3,,S,', 'Gr,V,MEA2,,P,', 'Gr,V,MEP2,,P,', 'Gr,V,MPA2,,P,', 'Gr,V,MPA2,,S,', 'Gr,V,MPA3,,P,', 'Gr,V,MPA3,,S,', 'Gr,V,MPM2,,P,', 'Gr,V,MPM2,,S,', 'Gr,V,MPM3,,P,', 'Gr,V,MPM3,,S,', 'Gr,V,MPP2,,P,', 'Gr,V,MPP2,,S,', 'Gr,V,MPP3,,P,', 'Gr,V,MPP3,,S,', 'Gr,V,NAA,,,,,', 'Gr,V,NAM,,,,,', 'Gr,V,NAP,,,,,', 'Gr,V,NEA,,,,,', 'Gr,V,NEP,,,,,', 'Gr,V,NFM,,,,,', 'Gr,V,NPA,,,,,', 'Gr,V,NPM,,,,,', 'Gr,V,NPP,,,,,', 'Gr,V,OAA3,,P,', 'Gr,V,OAA3,,S,', 'Gr,V,OAM1,,S,', 'Gr,V,OAM3,,S,', 'Gr,V,OAP3,,S,', 'Gr,V,OPA3,,P,', 'Gr,V,OPA3,,S,', 'Gr,V,OPM1,,S,', 'Gr,V,OPM3,,P,', 'Gr,V,OPM3,,S,', 'Gr,V,PAA,AFP,', 'Gr,V,PAA,AFS,', 'Gr,V,PAA,AMP,', 'Gr,V,PAA,AMS,', 'Gr,V,PAA,ANS,', 'Gr,V,PAA,DFP,', 'Gr,V,PAA,DMP,', 'Gr,V,PAA,DMS,', 'Gr,V,PAA,GFS,', 'Gr,V,PAA,GMP,', 'Gr,V,PAA,GMS,', 'Gr,V,PAA,GNS,', 'Gr,V,PAA,NFP,', 'Gr,V,PAA,NFS,', 'Gr,V,PAA,NMP,', 'Gr,V,PAA,NMS,', 'Gr,V,PAA,NNP,', 'Gr,V,PAA,NNS,', 'Gr,V,PAM,AFS,', 'Gr,V,PAM,AMP,', 'Gr,V,PAM,AMS,', 'Gr,V,PAM,ANP,', 'Gr,V,PAM,ANS,', 'Gr,V,PAM,DMP,', 'Gr,V,PAM,GFP,', 'Gr,V,PAM,GFS,', 'Gr,V,PAM,GMP,', 'Gr,V,PAM,GMS,', 'Gr,V,PAM,GNS,', 'Gr,V,PAM,NFP,', 'Gr,V,PAM,NMP,', 'Gr,V,PAM,NMS,', 'Gr,V,PAP,AFS,', 'Gr,V,PAP,AMP,', 'Gr,V,PAP,AMS,', 'Gr,V,PAP,ANP,', 'Gr,V,PAP,ANS,', 'Gr,V,PAP,DMS,', 'Gr,V,PAP,GFP,', 'Gr,V,PAP,GFS,', 'Gr,V,PAP,GMP,', 'Gr,V,PAP,GMS,', 'Gr,V,PAP,GNP,', 'Gr,V,PAP,GNS,', 'Gr,V,PAP,NFP,', 'Gr,V,PAP,NFS,', 'Gr,V,PAP,NMP,', 'Gr,V,PAP,NMS,', 'Gr,V,PAP,NNS,', 'Gr,V,PEA,AFS,', 'Gr,V,PEA,AMP,', 'Gr,V,PEA,AMS,', 'Gr,V,PEA,ANP,', 'Gr,V,PEA,ANS,', 'Gr,V,PEA,DMP,', 'Gr,V,PEA,DMS,', 'Gr,V,PEA,DNS,', 'Gr,V,PEA,GFS,', 'Gr,V,PEA,GMP,', 'Gr,V,PEA,GMS,', 'Gr,V,PEA,GNP,', 'Gr,V,PEA,NFP,', 'Gr,V,PEA,NFS,', 'Gr,V,PEA,NMP,', 'Gr,V,PEA,NMS,', 'Gr,V,PEA,NNS,', 'Gr,V,PEM,DFP,', 'Gr,V,PEM,NMP,', 'Gr,V,PEM,NMS,', 'Gr,V,PEP,AFP,', 'Gr,V,PEP,AFS,', 'Gr,V,PEP,AMP,', 'Gr,V,PEP,AMS,', 'Gr,V,PEP,ANP,', 'Gr,V,PEP,ANS,', 'Gr,V,PEP,DFS,', 'Gr,V,PEP,DMP,', 'Gr,V,PEP,DMS,', 'Gr,V,PEP,DNP,', 'Gr,V,PEP,GFS,', 'Gr,V,PEP,GMP,', 'Gr,V,PEP,GNP,', 'Gr,V,PEP,GNS,', 'Gr,V,PEP,NFP,', 'Gr,V,PEP,NFS,', 'Gr,V,PEP,NMP,', 'Gr,V,PEP,NMS,', 'Gr,V,PEP,NNP,', 'Gr,V,PEP,NNS,', 'Gr,V,PEP,VFS,', 'Gr,V,PEP,VMP,', 'Gr,V,PEP,VMS,', 'Gr,V,PFA,ANP,', 'Gr,V,PFA,NMS,', 'Gr,V,PFM,ANS,', 'Gr,V,PPA,AFP,', 'Gr,V,PPA,AFS,', 'Gr,V,PPA,AMP,', 'Gr,V,PPA,AMS,', 'Gr,V,PPA,ANP,', 'Gr,V,PPA,ANS,', 'Gr,V,PPA,DFP,', 'Gr,V,PPA,DFS,', 'Gr,V,PPA,DMP,', 'Gr,V,PPA,DMS,', 'Gr,V,PPA,DNP,', 'Gr,V,PPA,DNS,', 'Gr,V,PPA,GFP,', 'Gr,V,PPA,GFS,', 'Gr,V,PPA,GMP,', 'Gr,V,PPA,GMS,', 'Gr,V,PPA,GNP,', 'Gr,V,PPA,GNS,', 'Gr,V,PPA,NFP,', 'Gr,V,PPA,NFS,', 'Gr,V,PPA,NMP,', 'Gr,V,PPA,NMS,', 'Gr,V,PPA,NNP,', 'Gr,V,PPA,NNS,', 'Gr,V,PPA,VFS,', 'Gr,V,PPA,VMP,', 'Gr,V,PPA,VMS,', 'Gr,V,PPM,AFP,', 'Gr,V,PPM,AFS,', 'Gr,V,PPM,AMP,', 'Gr,V,PPM,AMS,', 'Gr,V,PPM,ANP,', 'Gr,V,PPM,ANS,', 'Gr,V,PPM,DFP,', 'Gr,V,PPM,DFS,', 'Gr,V,PPM,DMP,', 'Gr,V,PPM,DMS,', 'Gr,V,PPM,DNP,', 'Gr,V,PPM,DNS,', 'Gr,V,PPM,GFS,', 'Gr,V,PPM,GMP,', 'Gr,V,PPM,GMS,', 'Gr,V,PPM,GNP,', 'Gr,V,PPM,GNS,', 'Gr,V,PPM,NFP,', 'Gr,V,PPM,NFS,', 'Gr,V,PPM,NMP,', 'Gr,V,PPM,NMS,', 'Gr,V,PPM,NNS,', 'Gr,V,PPM,VMP,', 'Gr,V,PPP,AFP,', 'Gr,V,PPP,AFS,', 'Gr,V,PPP,AMP,', 'Gr,V,PPP,AMS,', 'Gr,V,PPP,ANP,', 'Gr,V,PPP,ANS,', 'Gr,V,PPP,DFS,', 'Gr,V,PPP,DMP,', 'Gr,V,PPP,DMS,', 'Gr,V,PPP,DNP,', 'Gr,V,PPP,GFS,', 'Gr,V,PPP,GMP,', 'Gr,V,PPP,GMS,', 'Gr,V,PPP,GNP,', 'Gr,V,PPP,GNS,', 'Gr,V,PPP,NFS,', 'Gr,V,PPP,NMP,', 'Gr,V,PPP,NMS,', 'Gr,V,PPP,NNP,', 'Gr,V,PPP,NNS,', 'Gr,V,SAA1,,P,', 'Gr,V,SAA1,,S,', 'Gr,V,SAA2,,P,', 'Gr,V,SAA2,,S,', 'Gr,V,SAA3,,P,', 'Gr,V,SAA3,,S,', 'Gr,V,SAM1,,P,', 'Gr,V,SAM1,,S,', 'Gr,V,SAM2,,P,', 'Gr,V,SAM2,,S,', 'Gr,V,SAM3,,P,', 'Gr,V,SAM3,,S,', 'Gr,V,SAP1,,P,', 'Gr,V,SAP1,,S,', 'Gr,V,SAP2,,P,', 'Gr,V,SAP2,,S,', 'Gr,V,SAP3,,P,', 'Gr,V,SAP3,,S,', 'Gr,V,SEA2,,P,', 'Gr,V,SEA2,,S,', 'Gr,V,SPA1,,P,', 'Gr,V,SPA1,,S,', 'Gr,V,SPA2,,P,', 'Gr,V,SPA2,,S,', 'Gr,V,SPA3,,P,', 'Gr,V,SPA3,,S,', 'Gr,V,SPM1,,P,', 'Gr,V,SPM1,,S,', 'Gr,V,SPM2,,P,', 'Gr,V,SPM2,,S,', 'Gr,V,SPM3,,P,', 'Gr,V,SPM3,,S,', 'Gr,V,SPP2,,P,', 'Gr,V,SPP3,,P,', 'Gr,V,SPP3,,S,']\n"
     ]
    }
   ],
   "source": [
    "#################\n",
    "\n",
    "# get all greek words\n",
    "items_orig_greek = db.fetchRecords(connection, original_words_table, \"morph LIKE 'Gr%'\")\n",
    "print (f\"{len(items_orig_greek)} greek words in original_words_table\")\n",
    "original_df = pd.DataFrame(items_orig_greek)\n",
    "morphs_greek = original_df['morph']\n",
    "\n",
    "# get count of times each used\n",
    "frequency_greek = morphs_greek.value_counts()\n",
    "print(\"Frequency of greek morph usage:\")\n",
    "print(frequency_greek)\n",
    "\n",
    "# get alphabetized list of morphs\n",
    "morphs_list_greek = list(dict(frequency_greek).keys())\n",
    "morphs_list_greek.sort()\n",
    "print(\"Alphabetized greek morph list:\")\n",
    "print(morphs_list_greek)"
   ]
  },
  {
   "cell_type": "code",
   "execution_count": 4,
   "outputs": [
    {
     "data": {
      "text/plain": "'Gr,CC,,,,,,,,'"
     },
     "execution_count": 4,
     "metadata": {},
     "output_type": "execute_result"
    }
   ],
   "source": [
    "#################\n",
    "\n",
    "unique_morph_list = list(frequency_greek.keys())\n",
    "morph = unique_morph_list[0]\n",
    "morph"
   ],
   "metadata": {
    "collapsed": false,
    "pycharm": {
     "name": "#%%\n"
    }
   }
  },
  {
   "cell_type": "code",
   "execution_count": 5,
   "outputs": [
    {
     "data": {
      "text/plain": "['N', 'A', 'E', 'R', 'V', 'I', 'P', 'D', 'C', 'T']"
     },
     "execution_count": 5,
     "metadata": {},
     "output_type": "execute_result"
    }
   ],
   "source": [
    "import utils.morph_utils as mu\n",
    "\n",
    "roles = mu.getGreekRoles()\n",
    "roles"
   ],
   "metadata": {
    "collapsed": false,
    "pycharm": {
     "name": "#%%\n"
    }
   }
  },
  {
   "cell_type": "code",
   "execution_count": 12,
   "outputs": [],
   "source": [
    "def extract(text, match, start, end):\n",
    "    subStr = text[start:end]\n",
    "    if (subStr == match):\n",
    "        return True\n",
    "    else:\n",
    "        return False\n",
    "\n",
    "def filterSyntacticalRole(sequence, role):\n",
    "    def filterFunc(variable):\n",
    "        results = extract(variable, role, 3, 4)\n",
    "        return results\n",
    "\n",
    "    filtered = filter(filterFunc, sequence)\n",
    "    return filtered\n",
    "\n",
    "verbs = list(filterSyntacticalRole(unique_morph_list, 'V'))"
   ],
   "metadata": {
    "collapsed": false,
    "pycharm": {
     "name": "#%%\n"
    }
   }
  },
  {
   "cell_type": "code",
   "execution_count": 23,
   "outputs": [
    {
     "data": {
      "text/plain": "{'morph': 'Gr,V,IAA3,,S,',\n 'role': 'V',\n 'type': ',',\n 'mood': 'I',\n 'tense': 'A',\n 'voice': 'A',\n 'person': '3',\n 'case': ',',\n 'gender': ',',\n 'number': 'S'}"
     },
     "execution_count": 23,
     "metadata": {},
     "output_type": "execute_result"
    }
   ],
   "source": [
    "def morphToDict(morph):\n",
    "    return {\n",
    "        'morph': morph,\n",
    "        'role': morph[3:4],\n",
    "        'type': morph[4:5],\n",
    "        'mood': morph[5:6],\n",
    "        'tense': morph[6:7],\n",
    "        'voice': morph[7:8],\n",
    "        'person': morph[8:9],\n",
    "        'case': morph[9:10],\n",
    "        'gender': morph[10:11],\n",
    "        'number': morph[11:12],\n",
    "    }\n",
    "\n",
    "morphToDict('Gr,V,IAA3,,S,')"
   ],
   "metadata": {
    "collapsed": false,
    "pycharm": {
     "name": "#%%\n"
    }
   }
  },
  {
   "cell_type": "code",
   "execution_count": 42,
   "outputs": [
    {
     "name": "stdout",
     "output_type": "stream",
     "text": [
      "Number of verb types: 332\n",
      "\n",
      "Frequency of role:\n",
      "V    332\n",
      "Name: role, dtype: int64\n",
      "\n",
      "Frequency of type:\n",
      ",    332\n",
      "Name: type, dtype: int64\n",
      "\n",
      "Frequency of mood:\n",
      "P    165\n",
      "I     89\n",
      "S     35\n",
      "M     24\n",
      "O     10\n",
      "N      9\n",
      "Name: mood, dtype: int64\n",
      "\n",
      "Frequency of tense:\n",
      "P    123\n",
      "A    103\n",
      "E     63\n",
      "F     22\n",
      "I     14\n",
      "L      7\n",
      "Name: tense, dtype: int64\n",
      "\n",
      "Frequency of voice:\n",
      "A    128\n",
      "P    107\n",
      "M     97\n",
      "Name: voice, dtype: int64\n",
      "\n",
      "Frequency of person:\n",
      ",    174\n",
      "3     63\n",
      "2     54\n",
      "1     41\n",
      "Name: person, dtype: int64\n",
      "\n",
      "Frequency of case:\n",
      ",    167\n",
      "A     46\n",
      "N     44\n",
      "G     39\n",
      "D     29\n",
      "V      7\n",
      "Name: case, dtype: int64\n",
      "\n",
      "Frequency of gender:\n",
      ",    167\n",
      "M     69\n",
      "F     48\n",
      "N     48\n",
      "Name: gender, dtype: int64\n",
      "\n",
      "Frequency of number:\n",
      "S    172\n",
      "P    151\n",
      ",      9\n",
      "Name: number, dtype: int64\n"
     ]
    }
   ],
   "source": [
    "verb_list_ =  list(map(morphToDict, verbs))\n",
    "print(f\"Number of verb types: {len(verb_list_)}\")\n",
    "\n",
    "verbs_frame = pd.DataFrame(verb_list_)\n",
    "\n",
    "fields = [ 'role','type','mood','tense','voice','person','case','gender','number']\n",
    "\n",
    "for field in fields:\n",
    "    field_frequency = verbs_frame[field].value_counts()\n",
    "    print(f\"\\nFrequency of {field}:\")\n",
    "    print(field_frequency)"
   ],
   "metadata": {
    "collapsed": false,
    "pycharm": {
     "name": "#%%\n"
    }
   }
  },
  {
   "cell_type": "code",
   "execution_count": 43,
   "outputs": [
    {
     "data": {
      "text/plain": "P    165\nI     89\nS     35\nM     24\nO     10\nN      9\nName: mood, dtype: int64"
     },
     "execution_count": 43,
     "metadata": {},
     "output_type": "execute_result"
    }
   ],
   "source": [
    "mood = verbs_frame['mood'].value_counts()\n",
    "mood"
   ],
   "metadata": {
    "collapsed": false,
    "pycharm": {
     "name": "#%%\n"
    }
   }
  },
  {
   "cell_type": "code",
   "execution_count": 44,
   "outputs": [
    {
     "name": "stdout",
     "output_type": "stream",
     "text": [
      "\n",
      "For role: 'N'\n",
      "\n",
      "Instances of role:\n",
      "['N']\n",
      "\n",
      "Instances of type:\n",
      "[',', 'S', 'P']\n",
      "\n",
      "Instances of mood:\n",
      "[',']\n",
      "\n",
      "Instances of tense:\n",
      "[',']\n",
      "\n",
      "Instances of voice:\n",
      "[',']\n",
      "\n",
      "Instances of person:\n",
      "[',']\n",
      "\n",
      "Instances of case:\n",
      "['N', 'A', 'G', 'D', 'V']\n",
      "\n",
      "Instances of gender:\n",
      "['M', 'N', 'F']\n",
      "\n",
      "Instances of number:\n",
      "['S', 'P']\n"
     ]
    }
   ],
   "source": [
    "role = 'N'\n",
    "\n",
    "roles = mu.getGreekRoles()\n",
    "def findFieldsForRole(unique_morph_list, role):\n",
    "    field_data = {}\n",
    "    print(f\"\\nFor role: '{role}'\")\n",
    "\n",
    "    role_list = list(filterSyntacticalRole(unique_morph_list, role))\n",
    "\n",
    "    role_dict =  list(map(morphToDict, role_list))\n",
    "\n",
    "    role_frame = pd.DataFrame(role_dict)\n",
    "\n",
    "    fields = [ 'role','type','mood','tense','voice','person','case','gender','number']\n",
    "\n",
    "    for field in fields:\n",
    "        field_frequency = role_frame[field].value_counts()\n",
    "        print(f\"\\nInstances of {field}:\")\n",
    "        # print(field_frequency)\n",
    "        field_list = list(dict(field_frequency).keys())\n",
    "        print(field_list)\n",
    "        field_list.sort()\n",
    "        field_data[field] = field_list\n",
    "    return field_data\n",
    "\n",
    "field_data = findFieldsForRole(unique_morph_list, role)"
   ],
   "metadata": {
    "collapsed": false,
    "pycharm": {
     "name": "#%%\n"
    }
   }
  },
  {
   "cell_type": "code",
   "execution_count": null,
   "outputs": [],
   "source": [],
   "metadata": {
    "collapsed": false,
    "pycharm": {
     "name": "#%%\n"
    }
   }
  }
 ],
 "metadata": {
  "kernelspec": {
   "display_name": "Python 3",
   "language": "python",
   "name": "python3"
  },
  "language_info": {
   "codemirror_mode": {
    "name": "ipython",
    "version": 3
   },
   "file_extension": ".py",
   "mimetype": "text/x-python",
   "name": "python",
   "nbconvert_exporter": "python",
   "pygments_lexer": "ipython3",
   "version": "3.7.1-final"
  }
 },
 "nbformat": 4,
 "nbformat_minor": 4
}