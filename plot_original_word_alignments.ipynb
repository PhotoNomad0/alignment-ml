{
 "cells": [
  {
   "cell_type": "markdown",
   "metadata": {},
   "source": [
    "### Plotting alignment data"
   ]
  },
  {
   "cell_type": "code",
   "execution_count": 1,
   "metadata": {},
   "outputs": [
    {
     "name": "stdout",
     "output_type": "stream",
     "text": [
      "Connection to SQLite DB successful\n"
     ]
    }
   ],
   "source": [
    "%matplotlib inline\n",
    "import pandas as pd\n",
    "import utils.db_utils as db\n",
    "import utils.plot_utils as plot\n",
    "\n",
    "targetLang = 'en'\n",
    "bibleType = 'en_ult'\n",
    "dbPath = f'./data/{bibleType}_alignments.sqlite'\n",
    "\n",
    "connection = db.initAlignmentDB(dbPath)"
   ]
  },
  {
   "cell_type": "code",
   "execution_count": 2,
   "metadata": {
    "pycharm": {
     "name": "#%%\n"
    }
   },
   "outputs": [],
   "source": [
    "def getDataFrameForOriginalWords(connection, word, searchLemma = True):\n",
    "    # print(f\"searchLemma = {searchLemma}\")\n",
    "    words = [word]\n",
    "    alignments_ = db.getAlignmentsForOriginalWords(connection, words, searchLemma)\n",
    "    alignments = pd.DataFrame(alignments_[word])\n",
    "    return alignments"
   ]
  },
  {
   "cell_type": "code",
   "execution_count": 3,
   "outputs": [
    {
     "name": "stdout",
     "output_type": "stream",
     "text": [
      "updating 'θεός'\n",
      "splitLemmasAndAddData - found original word 'Θεός' for lemma\n",
      "splitLemmasAndAddData - found original word 'Θεὸς' for lemma\n",
      "splitLemmasAndAddData - found original word 'Θεοῦ' for lemma\n",
      "Replacing \"God s\" with \"God's\"\n",
      "Replacing \"the things that are God s\" with \"the things that are God's\"\n",
      "Replacing \"God s\" with \"God's\"\n",
      "Replacing \"God s\" with \"God's\"\n",
      "Replacing \"of God s\" with \"of God's\"\n",
      "Replacing \"God s\" with \"God's\"\n",
      "Replacing \"God s\" with \"God's\"\n",
      "Replacing \"God s\" with \"God's\"\n",
      "Replacing \"God s\" with \"God's\"\n",
      "Replacing \"God s\" with \"God's\"\n",
      "Replacing \"of God s\" with \"of God's\"\n",
      "Replacing \"God s\" with \"God's\"\n",
      "Replacing \"God s\" with \"God's\"\n",
      "Replacing \"God s\" with \"God's\"\n",
      "Replacing \"God s\" with \"God's\"\n",
      "Replacing \"God s\" with \"God's\"\n",
      "Replacing \"God s\" with \"God's\"\n",
      "Replacing \"God s\" with \"God's\"\n",
      "Replacing \"God s\" with \"God's\"\n",
      "Replacing \"God s\" with \"God's\"\n",
      "Replacing \"God s\" with \"God's\"\n",
      "Replacing \"God s\" with \"God's\"\n",
      "Replacing \"God s\" with \"God's\"\n",
      "Replacing \"God s\" with \"God's\"\n",
      "Replacing \"God s\" with \"God's\"\n",
      "Replacing \"God s\" with \"God's\"\n",
      "Replacing \"God s\" with \"God's\"\n",
      "Replacing \"God s\" with \"God's\"\n",
      "Replacing \"God s\" with \"God's\"\n",
      "Replacing \"God s\" with \"God's\"\n",
      "Replacing \"God s\" with \"God's\"\n",
      "Replacing \"God s\" with \"God's\"\n",
      "Replacing \"God s\" with \"God's\"\n",
      "Replacing \"God s\" with \"God's\"\n",
      "Replacing \"God s\" with \"God's\"\n",
      "Replacing \"God s\" with \"God's\"\n",
      "Replacing \"God s\" with \"God's\"\n",
      "Replacing \"God s\" with \"God's\"\n",
      "Replacing \"God s\" with \"God's\"\n",
      "Replacing \"God s\" with \"God's\"\n",
      "Replacing \"God s\" with \"God's\"\n",
      "Replacing \"God s\" with \"God's\"\n",
      "Replacing \"with God s words\" with \"with God's words\"\n",
      "Replacing \"God s\" with \"God's\"\n",
      "Replacing \"of God s\" with \"of God's\"\n",
      "Replacing \"God s\" with \"God's\"\n",
      "Replacing \"God s\" with \"God's\"\n",
      "Replacing \"God s\" with \"God's\"\n",
      "Replacing \"God s\" with \"God's\"\n",
      "splitLemmasAndAddData - found original word 'Θεόν' for lemma\n",
      "splitLemmasAndAddData - found original word 'Θεὸν' for lemma\n",
      "splitLemmasAndAddData - found original word 'Θεῷ' for lemma\n",
      "splitLemmasAndAddData - found original word 'Θεέ' for lemma\n",
      "splitLemmasAndAddData - found original word 'θεοί' for lemma\n",
      "splitLemmasAndAddData - found original word 'θεοὺς' for lemma\n",
      "splitLemmasAndAddData - found original word 'θεοῦ' for lemma\n",
      "splitLemmasAndAddData - found original word 'θεοὶ' for lemma\n",
      "splitLemmasAndAddData - found original word 'θεὸν' for lemma\n",
      "splitLemmasAndAddData - found original word 'θεόν' for lemma\n",
      "splitLemmasAndAddData - found original word 'θεὸς' for lemma\n",
      "splitLemmasAndAddData - found original word 'θεοῖς' for lemma\n"
     ]
    },
    {
     "data": {
      "text/plain": "          id book_id chapter verse alignment_num orig_lang_keys  \\\n0        326     mat       1    23            16      ,402,403,   \n1      17427     mrk       2     7            10  ,19162,19163,   \n2      22758     mrk      10    18            10  ,24891,24892,   \n3      26691     mrk      15    34            17  ,29156,29157,   \n4      26693     mrk      15    34            19  ,29159,29160,   \n...      ...     ...     ...   ...           ...            ...   \n1349   72801     act      19    37            11        ,77510,   \n1350  105300     2th       2     4             6       ,111284,   \n1351   77911     act      28     6            27        ,82744,   \n1352   92604     2co       4     4             3        ,98291,   \n1353   97161     gal       4     8            11       ,102952,   \n\n     target_lang_keys  origSpan  \\\n0               ,518,         1   \n1             ,24951,         1   \n2             ,32410,         1   \n3             ,38064,         1   \n4             ,38066,         1   \n...               ...       ...   \n1349         ,101074,         0   \n1350         ,147759,         0   \n1351  ,108220,108221,         0   \n1352         ,130171,         0   \n1353         ,136824,         0   \n\n                                              origWords origWordsTxt  \\\n0     [{'id': 402, 'book_id': 'mat', 'chapter': '1',...       ὁ Θεός   \n1     [{'id': 19162, 'book_id': 'mrk', 'chapter': '2...       ὁ Θεός   \n2     [{'id': 24891, 'book_id': 'mrk', 'chapter': '1...       ὁ Θεός   \n3     [{'id': 29156, 'book_id': 'mrk', 'chapter': '1...       ὁ Θεός   \n4     [{'id': 29159, 'book_id': 'mrk', 'chapter': '1...       ὁ Θεός   \n...                                                 ...          ...   \n1349  [{'id': 77510, 'book_id': 'act', 'chapter': '1...         θεὸν   \n1350  [{'id': 111284, 'book_id': '2th', 'chapter': '...         θεὸν   \n1351  [{'id': 82744, 'book_id': 'act', 'chapter': '2...         θεόν   \n1352  [{'id': 98291, 'book_id': '2co', 'chapter': '4...         θεὸς   \n1353  [{'id': 102952, 'book_id': 'gal', 'chapter': '...        θεοῖς   \n\n      alignmentOrigWords  targetSpan  \\\n0                      2           0   \n1                      2           0   \n2                      2           0   \n3                      2           0   \n4                      2           0   \n...                  ...         ...   \n1349                   1           0   \n1350                   1           0   \n1351                   1           1   \n1352                   1           0   \n1353                   1           0   \n\n                                            targetWords targetWordsTxt  \\\n0     [{'id': 518, 'book_id': 'mat', 'chapter': '1',...            God   \n1     [{'id': 24951, 'book_id': 'mrk', 'chapter': '2...            God   \n2     [{'id': 32410, 'book_id': 'mrk', 'chapter': '1...            God   \n3     [{'id': 38064, 'book_id': 'mrk', 'chapter': '1...            God   \n4     [{'id': 38066, 'book_id': 'mrk', 'chapter': '1...            God   \n...                                                 ...            ...   \n1349  [{'id': 101074, 'book_id': 'act', 'chapter': '...        goddess   \n1350  [{'id': 147759, 'book_id': '2th', 'chapter': '...            God   \n1351  [{'id': 108220, 'book_id': 'act', 'chapter': '...          a god   \n1352  [{'id': 130171, 'book_id': '2co', 'chapter': '...            god   \n1353  [{'id': 136824, 'book_id': 'gal', 'chapter': '...           gods   \n\n      alignmentTargetWords    alignmentTxt  frequency  matchCount  \\\n0                        1    ὁ Θεός = God   0.797101          55   \n1                        1    ὁ Θεός = God   0.797101          55   \n2                        1    ὁ Θεός = God   0.797101          55   \n3                        1    ὁ Θεός = God   0.797101          55   \n4                        1    ὁ Θεός = God   0.797101          55   \n...                    ...             ...        ...         ...   \n1349                     1  θεὸν = goddess   0.500000           1   \n1350                     1      θεὸν = God   0.500000           1   \n1351                     2    θεόν = a god   1.000000           1   \n1352                     1      θεὸς = god   1.000000           1   \n1353                     1    θεοῖς = gods   1.000000           1   \n\n      origWordsBetween  targetWordsBetween  \n0                    0                   0  \n1                    0                   0  \n2                    0                   0  \n3                    0                   0  \n4                    0                   0  \n...                ...                 ...  \n1349                 0                   0  \n1350                 0                   0  \n1351                 0                   0  \n1352                 0                   0  \n1353                 0                   0  \n\n[1354 rows x 20 columns]",
      "text/html": "<div>\n<style scoped>\n    .dataframe tbody tr th:only-of-type {\n        vertical-align: middle;\n    }\n\n    .dataframe tbody tr th {\n        vertical-align: top;\n    }\n\n    .dataframe thead th {\n        text-align: right;\n    }\n</style>\n<table border=\"1\" class=\"dataframe\">\n  <thead>\n    <tr style=\"text-align: right;\">\n      <th></th>\n      <th>id</th>\n      <th>book_id</th>\n      <th>chapter</th>\n      <th>verse</th>\n      <th>alignment_num</th>\n      <th>orig_lang_keys</th>\n      <th>target_lang_keys</th>\n      <th>origSpan</th>\n      <th>origWords</th>\n      <th>origWordsTxt</th>\n      <th>alignmentOrigWords</th>\n      <th>targetSpan</th>\n      <th>targetWords</th>\n      <th>targetWordsTxt</th>\n      <th>alignmentTargetWords</th>\n      <th>alignmentTxt</th>\n      <th>frequency</th>\n      <th>matchCount</th>\n      <th>origWordsBetween</th>\n      <th>targetWordsBetween</th>\n    </tr>\n  </thead>\n  <tbody>\n    <tr>\n      <th>0</th>\n      <td>326</td>\n      <td>mat</td>\n      <td>1</td>\n      <td>23</td>\n      <td>16</td>\n      <td>,402,403,</td>\n      <td>,518,</td>\n      <td>1</td>\n      <td>[{'id': 402, 'book_id': 'mat', 'chapter': '1',...</td>\n      <td>ὁ Θεός</td>\n      <td>2</td>\n      <td>0</td>\n      <td>[{'id': 518, 'book_id': 'mat', 'chapter': '1',...</td>\n      <td>God</td>\n      <td>1</td>\n      <td>ὁ Θεός = God</td>\n      <td>0.797101</td>\n      <td>55</td>\n      <td>0</td>\n      <td>0</td>\n    </tr>\n    <tr>\n      <th>1</th>\n      <td>17427</td>\n      <td>mrk</td>\n      <td>2</td>\n      <td>7</td>\n      <td>10</td>\n      <td>,19162,19163,</td>\n      <td>,24951,</td>\n      <td>1</td>\n      <td>[{'id': 19162, 'book_id': 'mrk', 'chapter': '2...</td>\n      <td>ὁ Θεός</td>\n      <td>2</td>\n      <td>0</td>\n      <td>[{'id': 24951, 'book_id': 'mrk', 'chapter': '2...</td>\n      <td>God</td>\n      <td>1</td>\n      <td>ὁ Θεός = God</td>\n      <td>0.797101</td>\n      <td>55</td>\n      <td>0</td>\n      <td>0</td>\n    </tr>\n    <tr>\n      <th>2</th>\n      <td>22758</td>\n      <td>mrk</td>\n      <td>10</td>\n      <td>18</td>\n      <td>10</td>\n      <td>,24891,24892,</td>\n      <td>,32410,</td>\n      <td>1</td>\n      <td>[{'id': 24891, 'book_id': 'mrk', 'chapter': '1...</td>\n      <td>ὁ Θεός</td>\n      <td>2</td>\n      <td>0</td>\n      <td>[{'id': 32410, 'book_id': 'mrk', 'chapter': '1...</td>\n      <td>God</td>\n      <td>1</td>\n      <td>ὁ Θεός = God</td>\n      <td>0.797101</td>\n      <td>55</td>\n      <td>0</td>\n      <td>0</td>\n    </tr>\n    <tr>\n      <th>3</th>\n      <td>26691</td>\n      <td>mrk</td>\n      <td>15</td>\n      <td>34</td>\n      <td>17</td>\n      <td>,29156,29157,</td>\n      <td>,38064,</td>\n      <td>1</td>\n      <td>[{'id': 29156, 'book_id': 'mrk', 'chapter': '1...</td>\n      <td>ὁ Θεός</td>\n      <td>2</td>\n      <td>0</td>\n      <td>[{'id': 38064, 'book_id': 'mrk', 'chapter': '1...</td>\n      <td>God</td>\n      <td>1</td>\n      <td>ὁ Θεός = God</td>\n      <td>0.797101</td>\n      <td>55</td>\n      <td>0</td>\n      <td>0</td>\n    </tr>\n    <tr>\n      <th>4</th>\n      <td>26693</td>\n      <td>mrk</td>\n      <td>15</td>\n      <td>34</td>\n      <td>19</td>\n      <td>,29159,29160,</td>\n      <td>,38066,</td>\n      <td>1</td>\n      <td>[{'id': 29159, 'book_id': 'mrk', 'chapter': '1...</td>\n      <td>ὁ Θεός</td>\n      <td>2</td>\n      <td>0</td>\n      <td>[{'id': 38066, 'book_id': 'mrk', 'chapter': '1...</td>\n      <td>God</td>\n      <td>1</td>\n      <td>ὁ Θεός = God</td>\n      <td>0.797101</td>\n      <td>55</td>\n      <td>0</td>\n      <td>0</td>\n    </tr>\n    <tr>\n      <th>...</th>\n      <td>...</td>\n      <td>...</td>\n      <td>...</td>\n      <td>...</td>\n      <td>...</td>\n      <td>...</td>\n      <td>...</td>\n      <td>...</td>\n      <td>...</td>\n      <td>...</td>\n      <td>...</td>\n      <td>...</td>\n      <td>...</td>\n      <td>...</td>\n      <td>...</td>\n      <td>...</td>\n      <td>...</td>\n      <td>...</td>\n      <td>...</td>\n      <td>...</td>\n    </tr>\n    <tr>\n      <th>1349</th>\n      <td>72801</td>\n      <td>act</td>\n      <td>19</td>\n      <td>37</td>\n      <td>11</td>\n      <td>,77510,</td>\n      <td>,101074,</td>\n      <td>0</td>\n      <td>[{'id': 77510, 'book_id': 'act', 'chapter': '1...</td>\n      <td>θεὸν</td>\n      <td>1</td>\n      <td>0</td>\n      <td>[{'id': 101074, 'book_id': 'act', 'chapter': '...</td>\n      <td>goddess</td>\n      <td>1</td>\n      <td>θεὸν = goddess</td>\n      <td>0.500000</td>\n      <td>1</td>\n      <td>0</td>\n      <td>0</td>\n    </tr>\n    <tr>\n      <th>1350</th>\n      <td>105300</td>\n      <td>2th</td>\n      <td>2</td>\n      <td>4</td>\n      <td>6</td>\n      <td>,111284,</td>\n      <td>,147759,</td>\n      <td>0</td>\n      <td>[{'id': 111284, 'book_id': '2th', 'chapter': '...</td>\n      <td>θεὸν</td>\n      <td>1</td>\n      <td>0</td>\n      <td>[{'id': 147759, 'book_id': '2th', 'chapter': '...</td>\n      <td>God</td>\n      <td>1</td>\n      <td>θεὸν = God</td>\n      <td>0.500000</td>\n      <td>1</td>\n      <td>0</td>\n      <td>0</td>\n    </tr>\n    <tr>\n      <th>1351</th>\n      <td>77911</td>\n      <td>act</td>\n      <td>28</td>\n      <td>6</td>\n      <td>27</td>\n      <td>,82744,</td>\n      <td>,108220,108221,</td>\n      <td>0</td>\n      <td>[{'id': 82744, 'book_id': 'act', 'chapter': '2...</td>\n      <td>θεόν</td>\n      <td>1</td>\n      <td>1</td>\n      <td>[{'id': 108220, 'book_id': 'act', 'chapter': '...</td>\n      <td>a god</td>\n      <td>2</td>\n      <td>θεόν = a god</td>\n      <td>1.000000</td>\n      <td>1</td>\n      <td>0</td>\n      <td>0</td>\n    </tr>\n    <tr>\n      <th>1352</th>\n      <td>92604</td>\n      <td>2co</td>\n      <td>4</td>\n      <td>4</td>\n      <td>3</td>\n      <td>,98291,</td>\n      <td>,130171,</td>\n      <td>0</td>\n      <td>[{'id': 98291, 'book_id': '2co', 'chapter': '4...</td>\n      <td>θεὸς</td>\n      <td>1</td>\n      <td>0</td>\n      <td>[{'id': 130171, 'book_id': '2co', 'chapter': '...</td>\n      <td>god</td>\n      <td>1</td>\n      <td>θεὸς = god</td>\n      <td>1.000000</td>\n      <td>1</td>\n      <td>0</td>\n      <td>0</td>\n    </tr>\n    <tr>\n      <th>1353</th>\n      <td>97161</td>\n      <td>gal</td>\n      <td>4</td>\n      <td>8</td>\n      <td>11</td>\n      <td>,102952,</td>\n      <td>,136824,</td>\n      <td>0</td>\n      <td>[{'id': 102952, 'book_id': 'gal', 'chapter': '...</td>\n      <td>θεοῖς</td>\n      <td>1</td>\n      <td>0</td>\n      <td>[{'id': 136824, 'book_id': 'gal', 'chapter': '...</td>\n      <td>gods</td>\n      <td>1</td>\n      <td>θεοῖς = gods</td>\n      <td>1.000000</td>\n      <td>1</td>\n      <td>0</td>\n      <td>0</td>\n    </tr>\n  </tbody>\n</table>\n<p>1354 rows × 20 columns</p>\n</div>"
     },
     "execution_count": 3,
     "metadata": {},
     "output_type": "execute_result"
    }
   ],
   "source": [
    "# find all alignments for this lemma\n",
    "\n",
    "word = 'θεός'\n",
    "lemmaAlignments = getDataFrameForOriginalWords(connection, word, searchLemma = True)\n",
    "lemmaAlignments"
   ],
   "metadata": {
    "collapsed": false,
    "pycharm": {
     "name": "#%%\n"
    }
   }
  },
  {
   "cell_type": "code",
   "execution_count": 4,
   "outputs": [
    {
     "name": "stdout",
     "output_type": "stream",
     "text": [
      "updating 'Θεοῦ'\n",
      "Replacing \"God s\" with \"God's\"\n",
      "Replacing \"the things that are God s\" with \"the things that are God's\"\n",
      "Replacing \"God s\" with \"God's\"\n",
      "Replacing \"God s\" with \"God's\"\n",
      "Replacing \"of God s\" with \"of God's\"\n",
      "Replacing \"God s\" with \"God's\"\n",
      "Replacing \"God s\" with \"God's\"\n",
      "Replacing \"God s\" with \"God's\"\n",
      "Replacing \"God s\" with \"God's\"\n",
      "Replacing \"God s\" with \"God's\"\n",
      "Replacing \"of God s\" with \"of God's\"\n",
      "Replacing \"God s\" with \"God's\"\n",
      "Replacing \"God s\" with \"God's\"\n",
      "Replacing \"God s\" with \"God's\"\n",
      "Replacing \"God s\" with \"God's\"\n",
      "Replacing \"God s\" with \"God's\"\n",
      "Replacing \"God s\" with \"God's\"\n",
      "Replacing \"God s\" with \"God's\"\n",
      "Replacing \"God s\" with \"God's\"\n",
      "Replacing \"God s\" with \"God's\"\n",
      "Replacing \"God s\" with \"God's\"\n",
      "Replacing \"God s\" with \"God's\"\n",
      "Replacing \"God s\" with \"God's\"\n",
      "Replacing \"God s\" with \"God's\"\n",
      "Replacing \"God s\" with \"God's\"\n",
      "Replacing \"God s\" with \"God's\"\n",
      "Replacing \"God s\" with \"God's\"\n",
      "Replacing \"God s\" with \"God's\"\n",
      "Replacing \"God s\" with \"God's\"\n",
      "Replacing \"God s\" with \"God's\"\n",
      "Replacing \"God s\" with \"God's\"\n",
      "Replacing \"God s\" with \"God's\"\n",
      "Replacing \"God s\" with \"God's\"\n",
      "Replacing \"God s\" with \"God's\"\n",
      "Replacing \"God s\" with \"God's\"\n",
      "Replacing \"God s\" with \"God's\"\n",
      "Replacing \"God s\" with \"God's\"\n",
      "Replacing \"God s\" with \"God's\"\n",
      "Replacing \"God s\" with \"God's\"\n",
      "Replacing \"God s\" with \"God's\"\n",
      "Replacing \"God s\" with \"God's\"\n",
      "Replacing \"God s\" with \"God's\"\n",
      "Replacing \"with God s words\" with \"with God's words\"\n",
      "Replacing \"God s\" with \"God's\"\n",
      "Replacing \"of God s\" with \"of God's\"\n",
      "Replacing \"God s\" with \"God's\"\n",
      "Replacing \"God s\" with \"God's\"\n",
      "Replacing \"God s\" with \"God's\"\n",
      "Replacing \"God s\" with \"God's\"\n"
     ]
    },
    {
     "data": {
      "text/plain": "         id book_id chapter verse alignment_num   orig_lang_keys  \\\n0      1047     mat       3    16            16      ,1202,1203,   \n1      1099     mat       4     3             9      ,1259,1260,   \n2      1125     mat       4     4            19           ,1287,   \n3      1149     mat       4     6             6      ,1311,1312,   \n4      1534     mat       5     9             7           ,1738,   \n..      ...     ...     ...   ...           ...              ...   \n707  129469     rev      21    10            23  ,137161,137162,   \n708  129473     rev      21    11             3  ,137166,137167,   \n709  129716     rev      21    23            16  ,137431,137432,   \n710  129796     rev      22     1            13  ,137522,137523,   \n711  129835     rev      22     3             9  ,137568,137569,   \n\n    target_lang_keys  origSpan  \\\n0        ,1537,1538,         1   \n1        ,1611,1612,         1   \n2        ,1645,1646,         0   \n3        ,1676,1677,         1   \n4        ,2227,2228,         0   \n..               ...       ...   \n707         ,182348,         1   \n708  ,182353,182354,         1   \n709  ,182674,182675,         1   \n710  ,182789,182790,         1   \n711  ,182847,182848,         1   \n\n                                             origWords origWordsTxt  \\\n0    [{'id': 1202, 'book_id': 'mat', 'chapter': '3'...     τοῦ Θεοῦ   \n1    [{'id': 1259, 'book_id': 'mat', 'chapter': '4'...     τοῦ Θεοῦ   \n2    [{'id': 1287, 'book_id': 'mat', 'chapter': '4'...         Θεοῦ   \n3    [{'id': 1311, 'book_id': 'mat', 'chapter': '4'...     τοῦ Θεοῦ   \n4    [{'id': 1738, 'book_id': 'mat', 'chapter': '5'...         Θεοῦ   \n..                                                 ...          ...   \n707  [{'id': 137161, 'book_id': 'rev', 'chapter': '...     τοῦ Θεοῦ   \n708  [{'id': 137166, 'book_id': 'rev', 'chapter': '...     τοῦ Θεοῦ   \n709  [{'id': 137431, 'book_id': 'rev', 'chapter': '...     τοῦ Θεοῦ   \n710  [{'id': 137522, 'book_id': 'rev', 'chapter': '...     τοῦ Θεοῦ   \n711  [{'id': 137568, 'book_id': 'rev', 'chapter': '...     τοῦ Θεοῦ   \n\n     alignmentOrigWords  targetSpan  \\\n0                     2           1   \n1                     2           1   \n2                     1           1   \n3                     2           1   \n4                     1           1   \n..                  ...         ...   \n707                   2           0   \n708                   2           1   \n709                   2           1   \n710                   2           1   \n711                   2           1   \n\n                                           targetWords targetWordsTxt  \\\n0    [{'id': 1537, 'book_id': 'mat', 'chapter': '3'...         of God   \n1    [{'id': 1611, 'book_id': 'mat', 'chapter': '4'...         of God   \n2    [{'id': 1645, 'book_id': 'mat', 'chapter': '4'...         of God   \n3    [{'id': 1676, 'book_id': 'mat', 'chapter': '4'...         of God   \n4    [{'id': 2227, 'book_id': 'mat', 'chapter': '5'...         of God   \n..                                                 ...            ...   \n707  [{'id': 182348, 'book_id': 'rev', 'chapter': '...            God   \n708  [{'id': 182353, 'book_id': 'rev', 'chapter': '...         of God   \n709  [{'id': 182674, 'book_id': 'rev', 'chapter': '...         of God   \n710  [{'id': 182789, 'book_id': 'rev', 'chapter': '...         of God   \n711  [{'id': 182847, 'book_id': 'rev', 'chapter': '...         of God   \n\n     alignmentTargetWords       alignmentTxt  frequency  matchCount  \\\n0                       2  τοῦ Θεοῦ = of God   0.410112         292   \n1                       2  τοῦ Θεοῦ = of God   0.410112         292   \n2                       2      Θεοῦ = of God   0.143258         102   \n3                       2  τοῦ Θεοῦ = of God   0.410112         292   \n4                       2      Θεοῦ = of God   0.143258         102   \n..                    ...                ...        ...         ...   \n707                     1     τοῦ Θεοῦ = God   0.137640          98   \n708                     2  τοῦ Θεοῦ = of God   0.410112         292   \n709                     2  τοῦ Θεοῦ = of God   0.410112         292   \n710                     2  τοῦ Θεοῦ = of God   0.410112         292   \n711                     2  τοῦ Θεοῦ = of God   0.410112         292   \n\n     origWordsBetween  targetWordsBetween  \n0                   0                   0  \n1                   0                   0  \n2                   0                   0  \n3                   0                   0  \n4                   0                   0  \n..                ...                 ...  \n707                 0                   0  \n708                 0                   0  \n709                 0                   0  \n710                 0                   0  \n711                 0                   0  \n\n[712 rows x 20 columns]",
      "text/html": "<div>\n<style scoped>\n    .dataframe tbody tr th:only-of-type {\n        vertical-align: middle;\n    }\n\n    .dataframe tbody tr th {\n        vertical-align: top;\n    }\n\n    .dataframe thead th {\n        text-align: right;\n    }\n</style>\n<table border=\"1\" class=\"dataframe\">\n  <thead>\n    <tr style=\"text-align: right;\">\n      <th></th>\n      <th>id</th>\n      <th>book_id</th>\n      <th>chapter</th>\n      <th>verse</th>\n      <th>alignment_num</th>\n      <th>orig_lang_keys</th>\n      <th>target_lang_keys</th>\n      <th>origSpan</th>\n      <th>origWords</th>\n      <th>origWordsTxt</th>\n      <th>alignmentOrigWords</th>\n      <th>targetSpan</th>\n      <th>targetWords</th>\n      <th>targetWordsTxt</th>\n      <th>alignmentTargetWords</th>\n      <th>alignmentTxt</th>\n      <th>frequency</th>\n      <th>matchCount</th>\n      <th>origWordsBetween</th>\n      <th>targetWordsBetween</th>\n    </tr>\n  </thead>\n  <tbody>\n    <tr>\n      <th>0</th>\n      <td>1047</td>\n      <td>mat</td>\n      <td>3</td>\n      <td>16</td>\n      <td>16</td>\n      <td>,1202,1203,</td>\n      <td>,1537,1538,</td>\n      <td>1</td>\n      <td>[{'id': 1202, 'book_id': 'mat', 'chapter': '3'...</td>\n      <td>τοῦ Θεοῦ</td>\n      <td>2</td>\n      <td>1</td>\n      <td>[{'id': 1537, 'book_id': 'mat', 'chapter': '3'...</td>\n      <td>of God</td>\n      <td>2</td>\n      <td>τοῦ Θεοῦ = of God</td>\n      <td>0.410112</td>\n      <td>292</td>\n      <td>0</td>\n      <td>0</td>\n    </tr>\n    <tr>\n      <th>1</th>\n      <td>1099</td>\n      <td>mat</td>\n      <td>4</td>\n      <td>3</td>\n      <td>9</td>\n      <td>,1259,1260,</td>\n      <td>,1611,1612,</td>\n      <td>1</td>\n      <td>[{'id': 1259, 'book_id': 'mat', 'chapter': '4'...</td>\n      <td>τοῦ Θεοῦ</td>\n      <td>2</td>\n      <td>1</td>\n      <td>[{'id': 1611, 'book_id': 'mat', 'chapter': '4'...</td>\n      <td>of God</td>\n      <td>2</td>\n      <td>τοῦ Θεοῦ = of God</td>\n      <td>0.410112</td>\n      <td>292</td>\n      <td>0</td>\n      <td>0</td>\n    </tr>\n    <tr>\n      <th>2</th>\n      <td>1125</td>\n      <td>mat</td>\n      <td>4</td>\n      <td>4</td>\n      <td>19</td>\n      <td>,1287,</td>\n      <td>,1645,1646,</td>\n      <td>0</td>\n      <td>[{'id': 1287, 'book_id': 'mat', 'chapter': '4'...</td>\n      <td>Θεοῦ</td>\n      <td>1</td>\n      <td>1</td>\n      <td>[{'id': 1645, 'book_id': 'mat', 'chapter': '4'...</td>\n      <td>of God</td>\n      <td>2</td>\n      <td>Θεοῦ = of God</td>\n      <td>0.143258</td>\n      <td>102</td>\n      <td>0</td>\n      <td>0</td>\n    </tr>\n    <tr>\n      <th>3</th>\n      <td>1149</td>\n      <td>mat</td>\n      <td>4</td>\n      <td>6</td>\n      <td>6</td>\n      <td>,1311,1312,</td>\n      <td>,1676,1677,</td>\n      <td>1</td>\n      <td>[{'id': 1311, 'book_id': 'mat', 'chapter': '4'...</td>\n      <td>τοῦ Θεοῦ</td>\n      <td>2</td>\n      <td>1</td>\n      <td>[{'id': 1676, 'book_id': 'mat', 'chapter': '4'...</td>\n      <td>of God</td>\n      <td>2</td>\n      <td>τοῦ Θεοῦ = of God</td>\n      <td>0.410112</td>\n      <td>292</td>\n      <td>0</td>\n      <td>0</td>\n    </tr>\n    <tr>\n      <th>4</th>\n      <td>1534</td>\n      <td>mat</td>\n      <td>5</td>\n      <td>9</td>\n      <td>7</td>\n      <td>,1738,</td>\n      <td>,2227,2228,</td>\n      <td>0</td>\n      <td>[{'id': 1738, 'book_id': 'mat', 'chapter': '5'...</td>\n      <td>Θεοῦ</td>\n      <td>1</td>\n      <td>1</td>\n      <td>[{'id': 2227, 'book_id': 'mat', 'chapter': '5'...</td>\n      <td>of God</td>\n      <td>2</td>\n      <td>Θεοῦ = of God</td>\n      <td>0.143258</td>\n      <td>102</td>\n      <td>0</td>\n      <td>0</td>\n    </tr>\n    <tr>\n      <th>...</th>\n      <td>...</td>\n      <td>...</td>\n      <td>...</td>\n      <td>...</td>\n      <td>...</td>\n      <td>...</td>\n      <td>...</td>\n      <td>...</td>\n      <td>...</td>\n      <td>...</td>\n      <td>...</td>\n      <td>...</td>\n      <td>...</td>\n      <td>...</td>\n      <td>...</td>\n      <td>...</td>\n      <td>...</td>\n      <td>...</td>\n      <td>...</td>\n      <td>...</td>\n    </tr>\n    <tr>\n      <th>707</th>\n      <td>129469</td>\n      <td>rev</td>\n      <td>21</td>\n      <td>10</td>\n      <td>23</td>\n      <td>,137161,137162,</td>\n      <td>,182348,</td>\n      <td>1</td>\n      <td>[{'id': 137161, 'book_id': 'rev', 'chapter': '...</td>\n      <td>τοῦ Θεοῦ</td>\n      <td>2</td>\n      <td>0</td>\n      <td>[{'id': 182348, 'book_id': 'rev', 'chapter': '...</td>\n      <td>God</td>\n      <td>1</td>\n      <td>τοῦ Θεοῦ = God</td>\n      <td>0.137640</td>\n      <td>98</td>\n      <td>0</td>\n      <td>0</td>\n    </tr>\n    <tr>\n      <th>708</th>\n      <td>129473</td>\n      <td>rev</td>\n      <td>21</td>\n      <td>11</td>\n      <td>3</td>\n      <td>,137166,137167,</td>\n      <td>,182353,182354,</td>\n      <td>1</td>\n      <td>[{'id': 137166, 'book_id': 'rev', 'chapter': '...</td>\n      <td>τοῦ Θεοῦ</td>\n      <td>2</td>\n      <td>1</td>\n      <td>[{'id': 182353, 'book_id': 'rev', 'chapter': '...</td>\n      <td>of God</td>\n      <td>2</td>\n      <td>τοῦ Θεοῦ = of God</td>\n      <td>0.410112</td>\n      <td>292</td>\n      <td>0</td>\n      <td>0</td>\n    </tr>\n    <tr>\n      <th>709</th>\n      <td>129716</td>\n      <td>rev</td>\n      <td>21</td>\n      <td>23</td>\n      <td>16</td>\n      <td>,137431,137432,</td>\n      <td>,182674,182675,</td>\n      <td>1</td>\n      <td>[{'id': 137431, 'book_id': 'rev', 'chapter': '...</td>\n      <td>τοῦ Θεοῦ</td>\n      <td>2</td>\n      <td>1</td>\n      <td>[{'id': 182674, 'book_id': 'rev', 'chapter': '...</td>\n      <td>of God</td>\n      <td>2</td>\n      <td>τοῦ Θεοῦ = of God</td>\n      <td>0.410112</td>\n      <td>292</td>\n      <td>0</td>\n      <td>0</td>\n    </tr>\n    <tr>\n      <th>710</th>\n      <td>129796</td>\n      <td>rev</td>\n      <td>22</td>\n      <td>1</td>\n      <td>13</td>\n      <td>,137522,137523,</td>\n      <td>,182789,182790,</td>\n      <td>1</td>\n      <td>[{'id': 137522, 'book_id': 'rev', 'chapter': '...</td>\n      <td>τοῦ Θεοῦ</td>\n      <td>2</td>\n      <td>1</td>\n      <td>[{'id': 182789, 'book_id': 'rev', 'chapter': '...</td>\n      <td>of God</td>\n      <td>2</td>\n      <td>τοῦ Θεοῦ = of God</td>\n      <td>0.410112</td>\n      <td>292</td>\n      <td>0</td>\n      <td>0</td>\n    </tr>\n    <tr>\n      <th>711</th>\n      <td>129835</td>\n      <td>rev</td>\n      <td>22</td>\n      <td>3</td>\n      <td>9</td>\n      <td>,137568,137569,</td>\n      <td>,182847,182848,</td>\n      <td>1</td>\n      <td>[{'id': 137568, 'book_id': 'rev', 'chapter': '...</td>\n      <td>τοῦ Θεοῦ</td>\n      <td>2</td>\n      <td>1</td>\n      <td>[{'id': 182847, 'book_id': 'rev', 'chapter': '...</td>\n      <td>of God</td>\n      <td>2</td>\n      <td>τοῦ Θεοῦ = of God</td>\n      <td>0.410112</td>\n      <td>292</td>\n      <td>0</td>\n      <td>0</td>\n    </tr>\n  </tbody>\n</table>\n<p>712 rows × 20 columns</p>\n</div>"
     },
     "execution_count": 4,
     "metadata": {},
     "output_type": "execute_result"
    }
   ],
   "source": [
    "# find all alignments for this original word\n",
    "\n",
    "# word = 'Θεός' # found 69\n",
    "# word = 'Θεὸς' # found 239\n",
    "word = 'Θεοῦ'  # found 712\n",
    "origAlignments = getDataFrameForOriginalWords(connection, word, searchLemma = False)\n",
    "origAlignments"
   ],
   "metadata": {
    "collapsed": false,
    "pycharm": {
     "name": "#%%\n"
    }
   }
  },
  {
   "cell_type": "code",
   "execution_count": 5,
   "metadata": {
    "pycharm": {
     "name": "#%%\n"
    }
   },
   "outputs": [
    {
     "name": "stdout",
     "output_type": "stream",
     "text": [
      "Alignments description:\n",
      "         origSpan  alignmentOrigWords  targetSpan  alignmentTargetWords  \\\n",
      "count  712.000000          712.000000  712.000000            712.000000   \n",
      "mean     0.623596            1.620787    0.599719              1.599719   \n",
      "std      0.501928            0.494146    0.515471              0.515471   \n",
      "min      0.000000            1.000000    0.000000              1.000000   \n",
      "25%      0.000000            1.000000    0.000000              1.000000   \n",
      "50%      1.000000            2.000000    1.000000              2.000000   \n",
      "75%      1.000000            2.000000    1.000000              2.000000   \n",
      "max      3.000000            3.000000    4.000000              5.000000   \n",
      "\n",
      "        frequency  matchCount  origWordsBetween  targetWordsBetween  \n",
      "count  712.000000  712.000000        712.000000               712.0  \n",
      "mean     0.241384  171.865169          0.002809                 0.0  \n",
      "std      0.147977  105.359575          0.074953                 0.0  \n",
      "min      0.001404    1.000000          0.000000                 0.0  \n",
      "25%      0.137640   98.000000          0.000000                 0.0  \n",
      "50%      0.176966  126.000000          0.000000                 0.0  \n",
      "75%      0.410112  292.000000          0.000000                 0.0  \n",
      "max      0.410112  292.000000          2.000000                 0.0  \n",
      "fields = ['origSpan', 'alignmentOrigWords', 'targetSpan', 'alignmentTargetWords', 'frequency', 'matchCount', 'origWordsBetween', 'targetWordsBetween']\n",
      "\n",
      "Frequency of origSpan:\n",
      "1    435\n",
      "0    273\n",
      "2      3\n",
      "3      1\n",
      "Name: origSpan, dtype: int64\n",
      "\n",
      "Frequency of alignmentOrigWords:\n",
      "2    436\n",
      "1    273\n",
      "3      3\n",
      "Name: alignmentOrigWords, dtype: int64\n",
      "\n",
      "Frequency of targetSpan:\n",
      "1    417\n",
      "0    291\n",
      "2      3\n",
      "4      1\n",
      "Name: targetSpan, dtype: int64\n",
      "\n",
      "Frequency of alignmentTargetWords:\n",
      "2    417\n",
      "1    291\n",
      "3      3\n",
      "5      1\n",
      "Name: alignmentTargetWords, dtype: int64\n",
      "\n",
      "Frequency of matchCount:\n",
      "292    292\n",
      "126    126\n",
      "102    102\n",
      "98      98\n",
      "23      23\n",
      "21      21\n",
      "1       20\n",
      "11      11\n",
      "8        8\n",
      "5        5\n",
      "4        4\n",
      "2        2\n",
      "Name: matchCount, dtype: int64\n",
      "\n",
      "Frequency of origWordsBetween:\n",
      "0    711\n",
      "2      1\n",
      "Name: origWordsBetween, dtype: int64\n",
      "\n",
      "Frequency of targetWordsBetween:\n",
      "0    712\n",
      "Name: targetWordsBetween, dtype: int64\n"
     ]
    },
    {
     "data": {
      "text/plain": "{'desc': {'origSpan': {'count': 712.0,\n   'mean': 0.6235955056179775,\n   'std': 0.5019282025771814,\n   'min': 0.0,\n   '25%': 0.0,\n   '50%': 1.0,\n   '75%': 1.0,\n   'max': 3.0},\n  'alignmentOrigWords': {'count': 712.0,\n   'mean': 1.6207865168539326,\n   'std': 0.4941462676438909,\n   'min': 1.0,\n   '25%': 1.0,\n   '50%': 2.0,\n   '75%': 2.0,\n   'max': 3.0},\n  'targetSpan': {'count': 712.0,\n   'mean': 0.5997191011235955,\n   'std': 0.5154708412840628,\n   'min': 0.0,\n   '25%': 0.0,\n   '50%': 1.0,\n   '75%': 1.0,\n   'max': 4.0},\n  'alignmentTargetWords': {'count': 712.0,\n   'mean': 1.5997191011235956,\n   'std': 0.5154708412840628,\n   'min': 1.0,\n   '25%': 1.0,\n   '50%': 2.0,\n   '75%': 2.0,\n   'max': 5.0},\n  'frequency': {'count': 712.0,\n   'mean': 0.2413836636788284,\n   'std': 0.14797693103697737,\n   'min': 0.0014044943820224719,\n   '25%': 0.13764044943820225,\n   '50%': 0.17696629213483145,\n   '75%': 0.4101123595505618,\n   'max': 0.4101123595505618},\n  'matchCount': {'count': 712.0,\n   'mean': 171.86516853932585,\n   'std': 105.35957489832789,\n   'min': 1.0,\n   '25%': 98.0,\n   '50%': 126.0,\n   '75%': 292.0,\n   'max': 292.0},\n  'origWordsBetween': {'count': 712.0,\n   'mean': 0.0028089887640449437,\n   'std': 0.07495316889958614,\n   'min': 0.0,\n   '25%': 0.0,\n   '50%': 0.0,\n   '75%': 0.0,\n   'max': 2.0},\n  'targetWordsBetween': {'count': 712.0,\n   'mean': 0.0,\n   'std': 0.0,\n   'min': 0.0,\n   '25%': 0.0,\n   '50%': 0.0,\n   '75%': 0.0,\n   'max': 0.0}},\n 'fields': {'origSpan': [435, 273, 3, 1],\n  'alignmentOrigWords': [436, 273, 3],\n  'targetSpan': [417, 291, 3, 1],\n  'alignmentTargetWords': [417, 291, 3, 1],\n  'matchCount': [292, 126, 102, 98, 23, 21, 20, 11, 8, 5, 4, 2],\n  'origWordsBetween': [711, 1],\n  'targetWordsBetween': [712]}}"
     },
     "execution_count": 5,
     "metadata": {},
     "output_type": "execute_result"
    }
   ],
   "source": [
    "db.describeAlignments(origAlignments)"
   ]
  },
  {
   "cell_type": "markdown",
   "metadata": {},
   "source": [
    "### Analysis of alignments for Θεοῦ in the en_ult:"
   ]
  },
  {
   "cell_type": "markdown",
   "metadata": {},
   "source": [
    "#### Frequency of alignments:"
   ]
  },
  {
   "cell_type": "code",
   "execution_count": 6,
   "metadata": {
    "pycharm": {
     "name": "#%%\n"
    }
   },
   "outputs": [
    {
     "name": "stdout",
     "output_type": "stream",
     "text": [
      "τοῦ Θεοῦ = of God                          292\n",
      "Θεοῦ = God                                 126\n",
      "Θεοῦ = of God                              102\n",
      "τοῦ Θεοῦ = God                              98\n",
      "Θεοῦ = God's                                23\n",
      "τοῦ Θεοῦ = God's                            21\n",
      "τοῦ Θεοῦ = of                               11\n",
      "Θεοῦ = of                                    8\n",
      "Θεοῦ = of the                                5\n",
      "τοῦ Θεοῦ = from God                          4\n",
      "τοῦ Θεοῦ = of God's                          2\n",
      "λόγια Θεοῦ = with God's words                1\n",
      "μὲν Θεοῦ = of God                            1\n",
      "Θεοῦ = of a god                              1\n",
      "ὅτι Θεοῦ = of God                            1\n",
      "Θεοῦ = Father                                1\n",
      "Θεοῦ = by God                                1\n",
      "τοῦ Θεοῦ = against God                       1\n",
      "Θεοῦ = for God                               1\n",
      "ἐνώπιον τοῦ Θεοῦ = and God                   1\n",
      "τὴν τοῦ Θεοῦ = of God's                      1\n",
      "Θεοῦ = in God                                1\n",
      "Θεοῦ = the Son                               1\n",
      "Θεοῦ = the                                   1\n",
      "τοῦ Θεοῦ = about God                         1\n",
      "τὰ τοῦ Θεοῦ = the things that are God's      1\n",
      "Θεοῦ = because of God                        1\n",
      "τοῦ Θεοῦ = for God                           1\n",
      "Θεοῦ = godly                                 1\n",
      "τοῦ Θεοῦ = godly                             1\n",
      "τοῦ Θεοῦ = to God                            1\n",
      "Name: alignmentTxt, dtype: int64\n"
     ]
    }
   ],
   "source": [
    "frequency = origAlignments['alignmentTxt'].value_counts()\n",
    "print(frequency)"
   ]
  },
  {
   "cell_type": "markdown",
   "metadata": {},
   "source": [
    "##### Notes:\n",
    "- the left column is the specific alignment, and the right column is the number of times that specific alignment has been made so far in the NT.\n",
    "- alignments that contain more words are more suspect.\n",
    "- in future will combine \"God s\" to \"God's\" before doing analysis\n",
    "<p></p>"
   ]
  },
  {
   "cell_type": "code",
   "execution_count": 7,
   "metadata": {
    "pycharm": {
     "name": "#%%\n"
    }
   },
   "outputs": [
    {
     "data": {
      "text/plain": "<Figure size 432x288 with 1 Axes>",
      "image/png": "[encoded data removed]"
     },
     "metadata": {
      "needs_background": "light"
     },
     "output_type": "display_data"
    }
   ],
   "source": [
    "plot.plotFieldFrequency(frequency, \"\", 'alignment', title=\"Frequency of Alignments\", xNumbers=False, xShowTicks=False)"
   ]
  },
  {
   "cell_type": "markdown",
   "metadata": {},
   "source": [
    "### Analysis:"
   ]
  },
  {
   "cell_type": "markdown",
   "metadata": {},
   "source": [
    "#### Analysis of numerical metrics:"
   ]
  },
  {
   "cell_type": "code",
   "execution_count": 8,
   "metadata": {
    "pycharm": {
     "name": "#%%\n"
    }
   },
   "outputs": [
    {
     "name": "stdout",
     "output_type": "stream",
     "text": [
      "Alignments description:\n",
      "         origSpan  alignmentOrigWords  targetSpan  alignmentTargetWords  \\\n",
      "count  712.000000          712.000000  712.000000            712.000000   \n",
      "mean     0.623596            1.620787    0.599719              1.599719   \n",
      "std      0.501928            0.494146    0.515471              0.515471   \n",
      "min      0.000000            1.000000    0.000000              1.000000   \n",
      "25%      0.000000            1.000000    0.000000              1.000000   \n",
      "50%      1.000000            2.000000    1.000000              2.000000   \n",
      "75%      1.000000            2.000000    1.000000              2.000000   \n",
      "max      3.000000            3.000000    4.000000              5.000000   \n",
      "\n",
      "        frequency  matchCount  origWordsBetween  targetWordsBetween  \n",
      "count  712.000000  712.000000        712.000000               712.0  \n",
      "mean     0.241384  171.865169          0.002809                 0.0  \n",
      "std      0.147977  105.359575          0.074953                 0.0  \n",
      "min      0.001404    1.000000          0.000000                 0.0  \n",
      "25%      0.137640   98.000000          0.000000                 0.0  \n",
      "50%      0.176966  126.000000          0.000000                 0.0  \n",
      "75%      0.410112  292.000000          0.000000                 0.0  \n",
      "max      0.410112  292.000000          2.000000                 0.0  \n"
     ]
    }
   ],
   "source": [
    "descr = origAlignments.describe()\n",
    "print(f\"Alignments description:\\n{descr}\")"
   ]
  },
  {
   "cell_type": "markdown",
   "metadata": {},
   "source": [
    "#### Analysis of distance between first and last original language word:"
   ]
  },
  {
   "cell_type": "code",
   "execution_count": 9,
   "metadata": {
    "pycharm": {
     "name": "#%%\n"
    }
   },
   "outputs": [
    {
     "name": "stdout",
     "output_type": "stream",
     "text": [
      "\n",
      "Frequency of origSpan:\n",
      "0    273\n",
      "1    435\n",
      "2      3\n",
      "3      1\n",
      "Name: origSpan, dtype: int64\n"
     ]
    }
   ],
   "source": [
    "field = 'origSpan'\n",
    "field_frequency = origAlignments[field].value_counts().sort_index()\n",
    "print(f\"\\nFrequency of {field}:\\n{field_frequency}\")"
   ]
  },
  {
   "cell_type": "markdown",
   "metadata": {},
   "source": [
    "##### Notes:\n",
    "- this field is less useful because it includes aligned words, so added originalWordsBetween as more useful normalized metric (see analysis below).\n",
    "<p></p>"
   ]
  },
  {
   "cell_type": "markdown",
   "metadata": {},
   "source": [
    "#### Analysis of distance between first and last target language word:"
   ]
  },
  {
   "cell_type": "code",
   "execution_count": 10,
   "metadata": {
    "pycharm": {
     "name": "#%%\n"
    }
   },
   "outputs": [
    {
     "name": "stdout",
     "output_type": "stream",
     "text": [
      "\n",
      "Frequency of targetSpan:\n",
      "0    291\n",
      "1    417\n",
      "2      3\n",
      "4      1\n",
      "Name: targetSpan, dtype: int64\n"
     ]
    }
   ],
   "source": [
    "field = 'targetSpan'\n",
    "field_frequency = origAlignments[field].value_counts().sort_index()\n",
    "print(f\"\\nFrequency of {field}:\\n{field_frequency}\")"
   ]
  },
  {
   "cell_type": "markdown",
   "metadata": {},
   "source": [
    "##### Notes:\n",
    "- this field is also less useful because it includes the aligned words, so added targetWordsBetween as more useful normalized metric (see analysis below).\n",
    "<p></p>"
   ]
  },
  {
   "cell_type": "markdown",
   "metadata": {},
   "source": [
    "#### Analysis of original language word count:"
   ]
  },
  {
   "cell_type": "code",
   "execution_count": 11,
   "metadata": {
    "pycharm": {
     "name": "#%%\n"
    }
   },
   "outputs": [
    {
     "name": "stdout",
     "output_type": "stream",
     "text": [
      "\n",
      "Frequency of alignmentOrigWords:\n",
      "1    273\n",
      "2    436\n",
      "3      3\n",
      "Name: alignmentOrigWords, dtype: int64\n"
     ]
    }
   ],
   "source": [
    "field = 'alignmentOrigWords'\n",
    "field_frequency = origAlignments[field].value_counts().sort_index()\n",
    "print(f\"\\nFrequency of {field}:\\n{field_frequency}\")"
   ]
  },
  {
   "cell_type": "markdown",
   "metadata": {},
   "source": [
    "##### Notes:\n",
    "- this field analysis suggests for θεός nearly all the original language word counts are tight. The word counts of 3 may need review. So we could probaby use that as a threshold for to flag for review.\n",
    "<p></p>"
   ]
  },
  {
   "cell_type": "markdown",
   "metadata": {
    "pycharm": {
     "name": "#%% md\n"
    }
   },
   "source": [
    "#### Analysis of target language word count:"
   ]
  },
  {
   "cell_type": "code",
   "execution_count": 12,
   "metadata": {
    "pycharm": {
     "name": "#%%\n"
    }
   },
   "outputs": [
    {
     "name": "stdout",
     "output_type": "stream",
     "text": [
      "\n",
      "Frequency of alignmentTargetWords:\n",
      "1    291\n",
      "2    417\n",
      "3      3\n",
      "5      1\n",
      "Name: alignmentTargetWords, dtype: int64\n"
     ]
    }
   ],
   "source": [
    "field = 'alignmentTargetWords'\n",
    "field_frequency = origAlignments[field].value_counts().sort_index()\n",
    "print(f\"\\nFrequency of {field}:\\n{field_frequency}\")"
   ]
  },
  {
   "cell_type": "markdown",
   "metadata": {},
   "source": [
    "##### Notes:\n",
    "- this field analysis suggests that for θεός likely all the target language word counts are tight. The word count of 3 probably good for English (`of a god`). But still we could probaby use that as a threshold for to flag for review.\n",
    "<p></p>"
   ]
  },
  {
   "cell_type": "markdown",
   "metadata": {},
   "source": [
    "#### Analysis of count of extra unaligned words between aligned original language words:"
   ]
  },
  {
   "cell_type": "code",
   "execution_count": 13,
   "metadata": {
    "pycharm": {
     "name": "#%%\n"
    }
   },
   "outputs": [
    {
     "name": "stdout",
     "output_type": "stream",
     "text": [
      "\n",
      "Frequency of origWordsBetween:\n",
      "0    711\n",
      "2      1\n",
      "Name: origWordsBetween, dtype: int64\n"
     ]
    }
   ],
   "source": [
    "field = 'origWordsBetween'\n",
    "field_frequency = origAlignments[field].value_counts().sort_index()\n",
    "print(f\"\\nFrequency of {field}:\\n{field_frequency}\")"
   ]
  },
  {
   "cell_type": "markdown",
   "metadata": {},
   "source": [
    "##### Notes:\n",
    "- this field analysis suggests that most original language alignments probably good. Probably the cases of a word between (count > 0) aligned words should be reviewed.\n",
    "<p></p>"
   ]
  },
  {
   "cell_type": "markdown",
   "metadata": {},
   "source": [
    "#### Analysis of count of extra unaligned words between aligned target language words:"
   ]
  },
  {
   "cell_type": "code",
   "execution_count": 14,
   "metadata": {
    "pycharm": {
     "name": "#%%\n"
    }
   },
   "outputs": [
    {
     "name": "stdout",
     "output_type": "stream",
     "text": [
      "\n",
      "Frequency of targetWordsBetween:\n",
      "0    712\n",
      "Name: targetWordsBetween, dtype: int64\n"
     ]
    },
    {
     "data": {
      "text/plain": "<Figure size 432x288 with 1 Axes>",
      "image/png": "[encoded data removed]"
     },
     "metadata": {
      "needs_background": "light"
     },
     "output_type": "display_data"
    }
   ],
   "source": [
    "field = 'targetWordsBetween'\n",
    "field_frequency = origAlignments[field].value_counts().sort_index()\n",
    "print(f\"\\nFrequency of {field}:\\n{field_frequency}\")\n",
    "plot.plotFieldFrequency(field_frequency, field, f\"Words Between\", max=10)"
   ]
  },
  {
   "cell_type": "markdown",
   "metadata": {
    "pycharm": {
     "name": "#%% md\n"
    }
   },
   "source": [
    "##### Notes:\n",
    "- this field analysis suggests that most target language alignments probably good. Large gaps between aligned words are likely due to wordmap suggesting wrong occurence of a word and the user selecting. Probably the cases of a word between (count > 0) aligned words should be reviewed.\n",
    "<p></p>"
   ]
  },
  {
   "cell_type": "code",
   "execution_count": 13,
   "outputs": [],
   "source": [],
   "metadata": {
    "collapsed": false,
    "pycharm": {
     "name": "#%%\n"
    }
   }
  },
  {
   "cell_type": "code",
   "execution_count": null,
   "outputs": [],
   "source": [],
   "metadata": {
    "collapsed": false,
    "pycharm": {
     "name": "#%%\n"
    }
   }
  }
 ],
 "metadata": {
  "kernelspec": {
   "display_name": "Python 3",
   "language": "python",
   "name": "python3"
  },
  "language_info": {
   "codemirror_mode": {
    "name": "ipython",
    "version": 3
   },
   "file_extension": ".py",
   "mimetype": "text/x-python",
   "name": "python",
   "nbconvert_exporter": "python",
   "pygments_lexer": "ipython3",
   "version": "3.8.5"
  }
 },
 "nbformat": 4,
 "nbformat_minor": 4
}