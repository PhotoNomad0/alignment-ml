{
 "cells": [
  {
   "cell_type": "code",
   "execution_count": 1,
   "metadata": {},
   "outputs": [
    {
     "name": "stdout",
     "output_type": "stream",
     "text": [
      "Connection to SQLite DB successful\n"
     ]
    }
   ],
   "source": [
    "import json\n",
    "import pandas as pd\n",
    "import utils.db_utils as db\n",
    "import utils.file_utils as file\n",
    "import utils.bible_utils as bible\n",
    "import time\n",
    "from datetime import timedelta\n",
    "\n",
    "original_words_table = db.original_words_table\n",
    "target_words_table = db.target_words_table\n",
    "alignment_table = db.alignment_table\n",
    "dbPath = './data/alignmentsData.sqlite'\n",
    "keyTermsPath = 'data/keyTerms.json'\n",
    "origLangPathGreek = './data/OrigLangJson/ugnt/v0.14'\n",
    "origLangPathHebrew = './data/OrigLangJson/uhb/v2.1.15'\n",
    "targetLangPathEn = './data/TargetLangJson/ult/v14'\n",
    "\n",
    "connection = db.initAlignmentDB(dbPath)"
   ]
  },
  {
   "cell_type": "code",
   "execution_count": 2,
   "metadata": {},
   "outputs": [
    {
     "name": "stdout",
     "output_type": "stream",
     "text": [
      "searching saved\n",
      "searching save\n",
      "searching safe\n",
      "searching salvation\n",
      "words 'saved save safe salvation' got list: {'σῴζω': 8, 'σωτηρία': 4}\n",
      "searching sanctify\n",
      "searching sanctification\n",
      "words 'sanctify sanctification' got list: {'ἁγιάζω': 1}\n",
      "searching holy\n",
      "searching holiness\n",
      "searching unholy\n",
      "searching sacred\n",
      "words 'holy holiness unholy sacred' got list: {'ἅγιος': 5, 'ὁσιότης': 2}\n",
      "'data/keyTerms.json' has words: {'saved save safe salvation': {'σῴζω': 8, 'σωτηρία': 4}, 'sanctify sanctification': {'ἁγιάζω': 1}, 'holy holiness unholy sacred': {'ἅγιος': 5, 'ὁσιότης': 2}}\n"
     ]
    }
   ],
   "source": [
    "wordList = 'saved save safe salvation'\n",
    "unique = db.saveUniqueLemmasAlignedWithTargetWords(connection, keyTermsPath, wordList)\n",
    "print (f\"words '{wordList}' got list: {unique}\")\n",
    "\n",
    "wordList = 'sanctify sanctification'\n",
    "unique = db.saveUniqueLemmasAlignedWithTargetWords(connection, keyTermsPath, wordList)\n",
    "print (f\"words '{wordList}' got list: {unique}\")\n",
    "\n",
    "wordList = 'holy holiness unholy sacred'\n",
    "unique = db.saveUniqueLemmasAlignedWithTargetWords(connection, keyTermsPath, wordList)\n",
    "print (f\"words '{wordList}' got list: {unique}\")\n",
    "\n",
    "data = file.initJsonFile(keyTermsPath)\n",
    "print (f\"'{keyTermsPath}' has words: {data}\")"
   ]
  },
  {
   "cell_type": "code",
   "execution_count": null,
   "metadata": {},
   "outputs": [],
   "source": []
  }
 ],
 "metadata": {
  "kernelspec": {
   "display_name": "Python 3",
   "language": "python",
   "name": "python3"
  },
  "language_info": {
   "codemirror_mode": {
    "name": "ipython",
    "version": 3
   },
   "file_extension": ".py",
   "mimetype": "text/x-python",
   "name": "python",
   "nbconvert_exporter": "python",
   "pygments_lexer": "ipython3",
   "version": "3.8.5"
  }
 },
 "nbformat": 4,
 "nbformat_minor": 4
}
