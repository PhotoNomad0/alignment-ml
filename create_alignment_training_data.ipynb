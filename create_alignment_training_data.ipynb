{
 "cells": [
  {
   "cell_type": "code",
   "execution_count": 1,
   "metadata": {},
   "outputs": [
    {
     "name": "stdout",
     "output_type": "stream",
     "text": [
      "Connection to SQLite DB successful\n"
     ]
    }
   ],
   "source": [
    "# search alignments\n",
    "\n",
    "import json\n",
    "import pandas as pd\n",
    "import utils.db_utils as db\n",
    "import utils.file_utils as file\n",
    "import utils.bible_utils as bible\n",
    "import time\n",
    "from datetime import timedelta\n",
    "\n",
    "original_words_table = db.original_words_table\n",
    "target_words_table = db.target_words_table\n",
    "alignment_table = db.alignment_table\n",
    "dbPath = './data/alignmentsData.sqlite'\n",
    "keyTermsPath = 'data/keyTerms.json'\n",
    "origLangPathGreek = './data/OrigLangJson/ugnt/v0.14'\n",
    "origLangPathHebrew = './data/OrigLangJson/uhb/v2.1.15'\n",
    "targetLangPathEn = './data/TargetLangJson/ult/v14'\n",
    "\n",
    "connection = db.initAlignmentDB(dbPath)\n",
    "\n",
    "bibleType = 'en_ult'\n",
    "testament = 1\n",
    "dataFolder = './data/Alignments'\n",
    "bookId = 'tit'\n",
    "\n",
    "searchOriginal = True\n",
    "searchTarget = False\n",
    "searchLemma = True\n",
    "caseInsensitive = True"
   ]
  },
  {
   "cell_type": "code",
   "execution_count": 2,
   "metadata": {},
   "outputs": [
    {
     "name": "stdout",
     "output_type": "stream",
     "text": [
      "'data/keyTerms.json' has words: {'saved save safe salvation': {'σῴζω': 8, 'σωτηρία': 4}, 'sanctify sanctification': {'ἁγιάζω': 1}, 'holy holiness unholy sacred': {'ἅγιος': 5, 'ὁσιότης': 2}, 'kingdom': {'βασιλεία': 5}, 'ancestor father fathered forefather grandfather': {'πατήρ': 5}, 'angel angels archangel': {'ἄγγελος': 10}, 'apostle apostles apostleship': {'ἀπόστολος': 10, 'ἀποστολή': 2}, 'believe believes believer believers belief beliefs unbeliever unbelievers unbelief unbeliefs': {'πιστεύω': 8, 'πιστός': 4}, 'bless blesses blessed blessing blessings': {'εὐλογέω': 6, 'εὐλογία': 2}}\n",
      "updating 'saved save safe salvation' = '['σῴζω', 'σωτηρία']'\n",
      " for '['σῴζω', 'σωτηρία']' found 56 usages in database\n",
      " found 56 alignments in database\n",
      "for saved save safe salvation found 56 alignments\n",
      "updating 'sanctify sanctification' = '['ἁγιάζω']'\n",
      " for '['ἁγιάζω']' found 6 usages in database\n",
      " found 4 alignments in database\n",
      "for sanctify sanctification found 4 alignments\n",
      "updating 'holy holiness unholy sacred' = '['ἅγιος', 'ὁσιότης']'\n",
      " for '['ἅγιος', 'ὁσιότης']' found 104 usages in database\n",
      " found 100 alignments in database\n",
      "for holy holiness unholy sacred found 100 alignments\n",
      "updating 'kingdom' = '['βασιλεία']'\n",
      " for '['βασιλεία']' found 60 usages in database\n",
      " found 60 alignments in database\n",
      "for kingdom found 60 alignments\n",
      "updating 'ancestor father fathered forefather grandfather' = '['πατήρ']'\n",
      " for '['πατήρ']' found 137 usages in database\n",
      " found 137 alignments in database\n",
      "for ancestor father fathered forefather grandfather found 137 alignments\n",
      "updating 'angel angels archangel' = '['ἄγγελος']'\n",
      " for '['ἄγγελος']' found 53 usages in database\n",
      " found 53 alignments in database\n",
      "for angel angels archangel found 53 alignments\n",
      "updating 'apostle apostles apostleship' = '['ἀπόστολος', 'ἀποστολή']'\n",
      " for '['ἀπόστολος', 'ἀποστολή']' found 50 usages in database\n",
      " found 50 alignments in database\n",
      "for apostle apostles apostleship found 50 alignments\n",
      "updating 'believe believes believer believers belief beliefs unbeliever unbelievers unbelief unbeliefs' = '['πιστεύω', 'πιστός']'\n",
      " for '['πιστεύω', 'πιστός']' found 106 usages in database\n",
      " found 104 alignments in database\n",
      "for believe believes believer believers belief beliefs unbeliever unbelievers unbelief unbeliefs found 104 alignments\n",
      "updating 'bless blesses blessed blessing blessings' = '['εὐλογέω', 'εὐλογία']'\n",
      " for '['εὐλογέω', 'εὐλογία']' found 18 usages in database\n",
      " found 18 alignments in database\n",
      "for bless blesses blessed blessing blessings found 18 alignments\n"
     ]
    }
   ],
   "source": [
    "# this command will update all the current entries in keyTermsPath\n",
    "db.refreshSavedAlignmentData(connection, keyTermsPath)"
   ]
  },
  {
   "cell_type": "code",
   "execution_count": 4,
   "metadata": {},
   "outputs": [
    {
     "name": "stdout",
     "output_type": "stream",
     "text": [
      "searching angel\n",
      "searching angels\n",
      "searching archangel\n"
     ]
    },
    {
     "data": {
      "text/plain": [
       "{'ἄγγελος': 10}"
      ]
     },
     "execution_count": 4,
     "metadata": {},
     "output_type": "execute_result"
    }
   ],
   "source": [
    "wordList = 'angel angels archangel'\n",
    "unique = db.saveUniqueLemmasAlignedWithTargetWords(connection, keyTermsPath, wordList)\n",
    "unique"
   ]
  },
  {
   "cell_type": "code",
   "execution_count": 5,
   "metadata": {},
   "outputs": [
    {
     "name": "stdout",
     "output_type": "stream",
     "text": [
      " for '['ἄγγελος']' found 53 usages in database\n",
      " found 53 alignments in database\n",
      "for angel angels archangel found 53 alignments\n"
     ]
    }
   ],
   "source": [
    "words = list(unique.keys())\n",
    "db.saveAlignmentDataForWords(connection, wordList, words, searchOriginal = True, searchLemma = True, caseInsensitive = True)"
   ]
  },
  {
   "cell_type": "code",
   "execution_count": 6,
   "metadata": {},
   "outputs": [
    {
     "name": "stdout",
     "output_type": "stream",
     "text": [
      "searching apostle\n",
      "searching apostles\n",
      "searching apostleship\n"
     ]
    },
    {
     "data": {
      "text/plain": [
       "{'ἀπόστολος': 10, 'ἀποστολή': 2}"
      ]
     },
     "execution_count": 6,
     "metadata": {},
     "output_type": "execute_result"
    }
   ],
   "source": [
    "wordList = 'apostle apostles apostleship'\n",
    "unique = db.saveUniqueLemmasAlignedWithTargetWords(connection, keyTermsPath, wordList)\n",
    "unique"
   ]
  },
  {
   "cell_type": "code",
   "execution_count": 7,
   "metadata": {},
   "outputs": [
    {
     "name": "stdout",
     "output_type": "stream",
     "text": [
      " for '['ἀπόστολος', 'ἀποστολή']' found 50 usages in database\n",
      " found 50 alignments in database\n",
      "for apostle apostles apostleship found 50 alignments\n"
     ]
    }
   ],
   "source": [
    "words = list(unique.keys())\n",
    "db.saveAlignmentDataForWords(connection, wordList, words, searchOriginal = True, searchLemma = True, caseInsensitive = True)"
   ]
  },
  {
   "cell_type": "code",
   "execution_count": 8,
   "metadata": {},
   "outputs": [
    {
     "name": "stdout",
     "output_type": "stream",
     "text": [
      "searching believe\n",
      "searching believes\n",
      "searching believer\n",
      "searching believers\n",
      "searching belief\n",
      "searching beliefs\n",
      "searching unbeliever\n",
      "searching unbelievers\n",
      "searching unbelief\n",
      "searching unbeliefs\n"
     ]
    },
    {
     "data": {
      "text/plain": [
       "{'πιστεύω': 8, 'πιστός': 4}"
      ]
     },
     "execution_count": 8,
     "metadata": {},
     "output_type": "execute_result"
    }
   ],
   "source": [
    "wordList = 'believe believes believer believers belief beliefs unbeliever unbelievers unbelief unbeliefs'\n",
    "unique = db.saveUniqueLemmasAlignedWithTargetWords(connection, keyTermsPath, wordList)\n",
    "unique"
   ]
  },
  {
   "cell_type": "code",
   "execution_count": 9,
   "metadata": {},
   "outputs": [
    {
     "name": "stdout",
     "output_type": "stream",
     "text": [
      " for '['πιστεύω', 'πιστός']' found 106 usages in database\n",
      " found 104 alignments in database\n",
      "for believe believes believer believers belief beliefs unbeliever unbelievers unbelief unbeliefs found 104 alignments\n"
     ]
    }
   ],
   "source": [
    "words = list(unique.keys())\n",
    "db.saveAlignmentDataForWords(connection, wordList, words, searchOriginal = True, searchLemma = True, caseInsensitive = True)"
   ]
  },
  {
   "cell_type": "code",
   "execution_count": 10,
   "metadata": {},
   "outputs": [
    {
     "name": "stdout",
     "output_type": "stream",
     "text": [
      "searching bless\n",
      "searching blesses\n",
      "searching blessed\n",
      "searching blessing\n",
      "searching blessings\n"
     ]
    },
    {
     "data": {
      "text/plain": [
       "{'εὐλογέω': 6, 'εὐλογία': 2}"
      ]
     },
     "execution_count": 10,
     "metadata": {},
     "output_type": "execute_result"
    }
   ],
   "source": [
    "wordList = 'bless blesses blessed blessing blessings'\n",
    "unique = db.saveUniqueLemmasAlignedWithTargetWords(connection, keyTermsPath, wordList)\n",
    "unique"
   ]
  },
  {
   "cell_type": "code",
   "execution_count": 11,
   "metadata": {},
   "outputs": [
    {
     "name": "stdout",
     "output_type": "stream",
     "text": [
      " for '['εὐλογέω', 'εὐλογία']' found 18 usages in database\n",
      " found 18 alignments in database\n",
      "for bless blesses blessed blessing blessings found 18 alignments\n"
     ]
    }
   ],
   "source": [
    "words = list(unique.keys())\n",
    "db.saveAlignmentDataForWords(connection, wordList, words, searchOriginal = True, searchLemma = True, caseInsensitive = True)"
   ]
  },
  {
   "cell_type": "code",
   "execution_count": 4,
   "metadata": {},
   "outputs": [
    {
     "name": "stdout",
     "output_type": "stream",
     "text": [
      "357007 items in original_words_table\n"
     ]
    }
   ],
   "source": [
    "items_orig = db.fetchRecords(connection, original_words_table, '')\n",
    "print (f\"{len(items_orig)} items in original_words_table\")"
   ]
  },
  {
   "cell_type": "code",
   "execution_count": 5,
   "metadata": {},
   "outputs": [
    {
     "name": "stdout",
     "output_type": "stream",
     "text": [
      "{'id': 137963, 'book_id': 'gen', 'chapter': '1', 'verse': '1', 'word_num': 0, 'word': 'בְּ\\u2060רֵאשִׁ֖ית', 'occurrence': 1, 'strong': 'b:H7225', 'lemma': 'רֵאשִׁית', 'morph': 'He,R:Ncfsa'}\n"
     ]
    }
   ],
   "source": [
    "print( items_orig[0])"
   ]
  },
  {
   "cell_type": "code",
   "execution_count": 6,
   "metadata": {},
   "outputs": [
    {
     "data": {
      "text/html": [
       "<div>\n",
       "<style scoped>\n",
       "    .dataframe tbody tr th:only-of-type {\n",
       "        vertical-align: middle;\n",
       "    }\n",
       "\n",
       "    .dataframe tbody tr th {\n",
       "        vertical-align: top;\n",
       "    }\n",
       "\n",
       "    .dataframe thead th {\n",
       "        text-align: right;\n",
       "    }\n",
       "</style>\n",
       "<table border=\"1\" class=\"dataframe\">\n",
       "  <thead>\n",
       "    <tr style=\"text-align: right;\">\n",
       "      <th></th>\n",
       "      <th>id</th>\n",
       "      <th>book_id</th>\n",
       "      <th>chapter</th>\n",
       "      <th>verse</th>\n",
       "      <th>word_num</th>\n",
       "      <th>word</th>\n",
       "      <th>occurrence</th>\n",
       "      <th>strong</th>\n",
       "      <th>lemma</th>\n",
       "      <th>morph</th>\n",
       "    </tr>\n",
       "  </thead>\n",
       "  <tbody>\n",
       "    <tr>\n",
       "      <th>0</th>\n",
       "      <td>137963</td>\n",
       "      <td>gen</td>\n",
       "      <td>1</td>\n",
       "      <td>1</td>\n",
       "      <td>0</td>\n",
       "      <td>בְּ⁠רֵאשִׁ֖ית</td>\n",
       "      <td>1</td>\n",
       "      <td>b:H7225</td>\n",
       "      <td>רֵאשִׁית</td>\n",
       "      <td>He,R:Ncfsa</td>\n",
       "    </tr>\n",
       "    <tr>\n",
       "      <th>1</th>\n",
       "      <td>137964</td>\n",
       "      <td>gen</td>\n",
       "      <td>1</td>\n",
       "      <td>1</td>\n",
       "      <td>1</td>\n",
       "      <td>בָּרָ֣א</td>\n",
       "      <td>1</td>\n",
       "      <td>H1254a</td>\n",
       "      <td>בָּרָא</td>\n",
       "      <td>He,Vqp3ms</td>\n",
       "    </tr>\n",
       "    <tr>\n",
       "      <th>2</th>\n",
       "      <td>137965</td>\n",
       "      <td>gen</td>\n",
       "      <td>1</td>\n",
       "      <td>1</td>\n",
       "      <td>2</td>\n",
       "      <td>אֱלֹהִ֑ים</td>\n",
       "      <td>1</td>\n",
       "      <td>H0430</td>\n",
       "      <td>אֱלֹהִים</td>\n",
       "      <td>He,Ncmpa</td>\n",
       "    </tr>\n",
       "    <tr>\n",
       "      <th>3</th>\n",
       "      <td>137966</td>\n",
       "      <td>gen</td>\n",
       "      <td>1</td>\n",
       "      <td>1</td>\n",
       "      <td>3</td>\n",
       "      <td>אֵ֥ת</td>\n",
       "      <td>1</td>\n",
       "      <td>H0853</td>\n",
       "      <td>אֵת</td>\n",
       "      <td>He,To</td>\n",
       "    </tr>\n",
       "    <tr>\n",
       "      <th>4</th>\n",
       "      <td>137967</td>\n",
       "      <td>gen</td>\n",
       "      <td>1</td>\n",
       "      <td>1</td>\n",
       "      <td>4</td>\n",
       "      <td>הַ⁠שָּׁמַ֖יִם</td>\n",
       "      <td>1</td>\n",
       "      <td>d:H8064</td>\n",
       "      <td>שָׁמַיִם</td>\n",
       "      <td>He,Td:Ncmpa</td>\n",
       "    </tr>\n",
       "    <tr>\n",
       "      <th>...</th>\n",
       "      <td>...</td>\n",
       "      <td>...</td>\n",
       "      <td>...</td>\n",
       "      <td>...</td>\n",
       "      <td>...</td>\n",
       "      <td>...</td>\n",
       "      <td>...</td>\n",
       "      <td>...</td>\n",
       "      <td>...</td>\n",
       "      <td>...</td>\n",
       "    </tr>\n",
       "    <tr>\n",
       "      <th>357002</th>\n",
       "      <td>802135</td>\n",
       "      <td>3jn</td>\n",
       "      <td>1</td>\n",
       "      <td>15</td>\n",
       "      <td>6</td>\n",
       "      <td>ἀσπάζου</td>\n",
       "      <td>1</td>\n",
       "      <td>G07820</td>\n",
       "      <td>ἀσπάζομαι</td>\n",
       "      <td>Gr,V,MPM2,,S,</td>\n",
       "    </tr>\n",
       "    <tr>\n",
       "      <th>357003</th>\n",
       "      <td>802136</td>\n",
       "      <td>3jn</td>\n",
       "      <td>1</td>\n",
       "      <td>15</td>\n",
       "      <td>7</td>\n",
       "      <td>τοὺς</td>\n",
       "      <td>1</td>\n",
       "      <td>G35880</td>\n",
       "      <td>ὁ</td>\n",
       "      <td>Gr,EA,,,,AMP,</td>\n",
       "    </tr>\n",
       "    <tr>\n",
       "      <th>357004</th>\n",
       "      <td>802137</td>\n",
       "      <td>3jn</td>\n",
       "      <td>1</td>\n",
       "      <td>15</td>\n",
       "      <td>8</td>\n",
       "      <td>φίλους</td>\n",
       "      <td>1</td>\n",
       "      <td>G53840</td>\n",
       "      <td>φίλος</td>\n",
       "      <td>Gr,NS,,,,AMP,</td>\n",
       "    </tr>\n",
       "    <tr>\n",
       "      <th>357005</th>\n",
       "      <td>802138</td>\n",
       "      <td>3jn</td>\n",
       "      <td>1</td>\n",
       "      <td>15</td>\n",
       "      <td>9</td>\n",
       "      <td>κατ’</td>\n",
       "      <td>1</td>\n",
       "      <td>G25960</td>\n",
       "      <td>κατά</td>\n",
       "      <td>Gr,P,,,,,A,,,</td>\n",
       "    </tr>\n",
       "    <tr>\n",
       "      <th>357006</th>\n",
       "      <td>802139</td>\n",
       "      <td>3jn</td>\n",
       "      <td>1</td>\n",
       "      <td>15</td>\n",
       "      <td>10</td>\n",
       "      <td>ὄνομα</td>\n",
       "      <td>1</td>\n",
       "      <td>G36860</td>\n",
       "      <td>ὄνομα</td>\n",
       "      <td>Gr,N,,,,,ANS,</td>\n",
       "    </tr>\n",
       "  </tbody>\n",
       "</table>\n",
       "<p>357007 rows × 10 columns</p>\n",
       "</div>"
      ],
      "text/plain": [
       "            id book_id chapter verse  word_num           word  occurrence  \\\n",
       "0       137963     gen       1     1         0  בְּ⁠רֵאשִׁ֖ית           1   \n",
       "1       137964     gen       1     1         1        בָּרָ֣א           1   \n",
       "2       137965     gen       1     1         2      אֱלֹהִ֑ים           1   \n",
       "3       137966     gen       1     1         3           אֵ֥ת           1   \n",
       "4       137967     gen       1     1         4  הַ⁠שָּׁמַ֖יִם           1   \n",
       "...        ...     ...     ...   ...       ...            ...         ...   \n",
       "357002  802135     3jn       1    15         6        ἀσπάζου           1   \n",
       "357003  802136     3jn       1    15         7           τοὺς           1   \n",
       "357004  802137     3jn       1    15         8         φίλους           1   \n",
       "357005  802138     3jn       1    15         9           κατ’           1   \n",
       "357006  802139     3jn       1    15        10          ὄνομα           1   \n",
       "\n",
       "         strong      lemma          morph  \n",
       "0       b:H7225   רֵאשִׁית     He,R:Ncfsa  \n",
       "1        H1254a     בָּרָא      He,Vqp3ms  \n",
       "2         H0430   אֱלֹהִים       He,Ncmpa  \n",
       "3         H0853        אֵת          He,To  \n",
       "4       d:H8064   שָׁמַיִם    He,Td:Ncmpa  \n",
       "...         ...        ...            ...  \n",
       "357002   G07820  ἀσπάζομαι  Gr,V,MPM2,,S,  \n",
       "357003   G35880          ὁ  Gr,EA,,,,AMP,  \n",
       "357004   G53840      φίλος  Gr,NS,,,,AMP,  \n",
       "357005   G25960       κατά  Gr,P,,,,,A,,,  \n",
       "357006   G36860      ὄνομα  Gr,N,,,,,ANS,  \n",
       "\n",
       "[357007 rows x 10 columns]"
      ]
     },
     "execution_count": 6,
     "metadata": {},
     "output_type": "execute_result"
    }
   ],
   "source": [
    "originalWords = pd.DataFrame(items_orig)\n",
    "originalWords"
   ]
  },
  {
   "cell_type": "code",
   "execution_count": 11,
   "metadata": {},
   "outputs": [
    {
     "data": {
      "text/html": [
       "<div>\n",
       "<style scoped>\n",
       "    .dataframe tbody tr th:only-of-type {\n",
       "        vertical-align: middle;\n",
       "    }\n",
       "\n",
       "    .dataframe tbody tr th {\n",
       "        vertical-align: top;\n",
       "    }\n",
       "\n",
       "    .dataframe thead th {\n",
       "        text-align: right;\n",
       "    }\n",
       "</style>\n",
       "<table border=\"1\" class=\"dataframe\">\n",
       "  <thead>\n",
       "    <tr style=\"text-align: right;\">\n",
       "      <th></th>\n",
       "      <th>id</th>\n",
       "      <th>book_id</th>\n",
       "      <th>chapter</th>\n",
       "      <th>verse</th>\n",
       "      <th>word_num</th>\n",
       "      <th>word</th>\n",
       "      <th>occurrence</th>\n",
       "      <th>strong</th>\n",
       "      <th>lemma</th>\n",
       "      <th>morph</th>\n",
       "    </tr>\n",
       "  </thead>\n",
       "  <tbody>\n",
       "    <tr>\n",
       "      <th>305146</th>\n",
       "      <td>750279</td>\n",
       "      <td>luk</td>\n",
       "      <td>1</td>\n",
       "      <td>1</td>\n",
       "      <td>0</td>\n",
       "      <td>ἐπειδήπερ</td>\n",
       "      <td>1</td>\n",
       "      <td>G18950</td>\n",
       "      <td>ἐπειδήπερ</td>\n",
       "      <td>Gr,CS,,,,,,,,</td>\n",
       "    </tr>\n",
       "    <tr>\n",
       "      <th>305147</th>\n",
       "      <td>750280</td>\n",
       "      <td>luk</td>\n",
       "      <td>1</td>\n",
       "      <td>1</td>\n",
       "      <td>1</td>\n",
       "      <td>πολλοὶ</td>\n",
       "      <td>1</td>\n",
       "      <td>G41830</td>\n",
       "      <td>πολλός</td>\n",
       "      <td>Gr,RI,,,,NMP,</td>\n",
       "    </tr>\n",
       "    <tr>\n",
       "      <th>305148</th>\n",
       "      <td>750281</td>\n",
       "      <td>luk</td>\n",
       "      <td>1</td>\n",
       "      <td>1</td>\n",
       "      <td>2</td>\n",
       "      <td>ἐπεχείρησαν</td>\n",
       "      <td>1</td>\n",
       "      <td>G20210</td>\n",
       "      <td>ἐπιχειρέω</td>\n",
       "      <td>Gr,V,IAA3,,P,</td>\n",
       "    </tr>\n",
       "    <tr>\n",
       "      <th>305149</th>\n",
       "      <td>750282</td>\n",
       "      <td>luk</td>\n",
       "      <td>1</td>\n",
       "      <td>1</td>\n",
       "      <td>3</td>\n",
       "      <td>ἀνατάξασθαι</td>\n",
       "      <td>1</td>\n",
       "      <td>G03920</td>\n",
       "      <td>ἀνατάσσομαι</td>\n",
       "      <td>Gr,V,NAM,,,,,</td>\n",
       "    </tr>\n",
       "    <tr>\n",
       "      <th>305150</th>\n",
       "      <td>750283</td>\n",
       "      <td>luk</td>\n",
       "      <td>1</td>\n",
       "      <td>1</td>\n",
       "      <td>4</td>\n",
       "      <td>διήγησιν</td>\n",
       "      <td>1</td>\n",
       "      <td>G13350</td>\n",
       "      <td>διήγησις</td>\n",
       "      <td>Gr,N,,,,,AFS,</td>\n",
       "    </tr>\n",
       "    <tr>\n",
       "      <th>...</th>\n",
       "      <td>...</td>\n",
       "      <td>...</td>\n",
       "      <td>...</td>\n",
       "      <td>...</td>\n",
       "      <td>...</td>\n",
       "      <td>...</td>\n",
       "      <td>...</td>\n",
       "      <td>...</td>\n",
       "      <td>...</td>\n",
       "      <td>...</td>\n",
       "    </tr>\n",
       "    <tr>\n",
       "      <th>357002</th>\n",
       "      <td>802135</td>\n",
       "      <td>3jn</td>\n",
       "      <td>1</td>\n",
       "      <td>15</td>\n",
       "      <td>6</td>\n",
       "      <td>ἀσπάζου</td>\n",
       "      <td>1</td>\n",
       "      <td>G07820</td>\n",
       "      <td>ἀσπάζομαι</td>\n",
       "      <td>Gr,V,MPM2,,S,</td>\n",
       "    </tr>\n",
       "    <tr>\n",
       "      <th>357003</th>\n",
       "      <td>802136</td>\n",
       "      <td>3jn</td>\n",
       "      <td>1</td>\n",
       "      <td>15</td>\n",
       "      <td>7</td>\n",
       "      <td>τοὺς</td>\n",
       "      <td>1</td>\n",
       "      <td>G35880</td>\n",
       "      <td>ὁ</td>\n",
       "      <td>Gr,EA,,,,AMP,</td>\n",
       "    </tr>\n",
       "    <tr>\n",
       "      <th>357004</th>\n",
       "      <td>802137</td>\n",
       "      <td>3jn</td>\n",
       "      <td>1</td>\n",
       "      <td>15</td>\n",
       "      <td>8</td>\n",
       "      <td>φίλους</td>\n",
       "      <td>1</td>\n",
       "      <td>G53840</td>\n",
       "      <td>φίλος</td>\n",
       "      <td>Gr,NS,,,,AMP,</td>\n",
       "    </tr>\n",
       "    <tr>\n",
       "      <th>357005</th>\n",
       "      <td>802138</td>\n",
       "      <td>3jn</td>\n",
       "      <td>1</td>\n",
       "      <td>15</td>\n",
       "      <td>9</td>\n",
       "      <td>κατ’</td>\n",
       "      <td>1</td>\n",
       "      <td>G25960</td>\n",
       "      <td>κατά</td>\n",
       "      <td>Gr,P,,,,,A,,,</td>\n",
       "    </tr>\n",
       "    <tr>\n",
       "      <th>357006</th>\n",
       "      <td>802139</td>\n",
       "      <td>3jn</td>\n",
       "      <td>1</td>\n",
       "      <td>15</td>\n",
       "      <td>10</td>\n",
       "      <td>ὄνομα</td>\n",
       "      <td>1</td>\n",
       "      <td>G36860</td>\n",
       "      <td>ὄνομα</td>\n",
       "      <td>Gr,N,,,,,ANS,</td>\n",
       "    </tr>\n",
       "  </tbody>\n",
       "</table>\n",
       "<p>51861 rows × 10 columns</p>\n",
       "</div>"
      ],
      "text/plain": [
       "            id book_id chapter verse  word_num         word  occurrence  \\\n",
       "305146  750279     luk       1     1         0    ἐπειδήπερ           1   \n",
       "305147  750280     luk       1     1         1       πολλοὶ           1   \n",
       "305148  750281     luk       1     1         2  ἐπεχείρησαν           1   \n",
       "305149  750282     luk       1     1         3  ἀνατάξασθαι           1   \n",
       "305150  750283     luk       1     1         4     διήγησιν           1   \n",
       "...        ...     ...     ...   ...       ...          ...         ...   \n",
       "357002  802135     3jn       1    15         6      ἀσπάζου           1   \n",
       "357003  802136     3jn       1    15         7         τοὺς           1   \n",
       "357004  802137     3jn       1    15         8       φίλους           1   \n",
       "357005  802138     3jn       1    15         9         κατ’           1   \n",
       "357006  802139     3jn       1    15        10        ὄνομα           1   \n",
       "\n",
       "        strong        lemma          morph  \n",
       "305146  G18950    ἐπειδήπερ  Gr,CS,,,,,,,,  \n",
       "305147  G41830       πολλός  Gr,RI,,,,NMP,  \n",
       "305148  G20210    ἐπιχειρέω  Gr,V,IAA3,,P,  \n",
       "305149  G03920  ἀνατάσσομαι  Gr,V,NAM,,,,,  \n",
       "305150  G13350     διήγησις  Gr,N,,,,,AFS,  \n",
       "...        ...          ...            ...  \n",
       "357002  G07820    ἀσπάζομαι  Gr,V,MPM2,,S,  \n",
       "357003  G35880            ὁ  Gr,EA,,,,AMP,  \n",
       "357004  G53840        φίλος  Gr,NS,,,,AMP,  \n",
       "357005  G25960         κατά  Gr,P,,,,,A,,,  \n",
       "357006  G36860        ὄνομα  Gr,N,,,,,ANS,  \n",
       "\n",
       "[51861 rows x 10 columns]"
      ]
     },
     "execution_count": 11,
     "metadata": {},
     "output_type": "execute_result"
    }
   ],
   "source": [
    "nt = list(bible.BIBLE_BOOKS['newTestament'].keys())\n",
    "searches = []\n",
    "for book in nt:\n",
    "    search = f\"(book_id=='{book}')\"\n",
    "    searches.append(search)\n",
    "searches\n",
    "nt_filter = ' or '.join(searches)\n",
    "ntWords = originalWords.query(nt_filter)\n",
    "ntWords"
   ]
  },
  {
   "cell_type": "code",
   "execution_count": 16,
   "metadata": {},
   "outputs": [
    {
     "name": "stdout",
     "output_type": "stream",
     "text": [
      "ὁ            7281\n",
      "καί          3346\n",
      "αὐτός        2091\n",
      "δέ           1290\n",
      "ἐν           1141\n",
      "             ... \n",
      "Λωΐς            1\n",
      "σκληρύνω        1\n",
      "τελώνιον        1\n",
      "φαρμακεία       1\n",
      "συναλίζω        1\n",
      "Name: lemma, Length: 3876, dtype: int64\n"
     ]
    }
   ],
   "source": [
    "frequency = ntWords['lemma'].value_counts()\n",
    "print(frequency)"
   ]
  },
  {
   "cell_type": "code",
   "execution_count": 17,
   "metadata": {},
   "outputs": [
    {
     "name": "stdout",
     "output_type": "stream",
     "text": [
      "searching god\n",
      "searching gods\n"
     ]
    },
    {
     "data": {
      "text/plain": [
       "{'θεός': 251, 'δίδωμι': 2, 'αὐτός': 4}"
      ]
     },
     "execution_count": 17,
     "metadata": {},
     "output_type": "execute_result"
    }
   ],
   "source": [
    "wordList = 'god gods'\n",
    "unique = db.saveUniqueLemmasAlignedWithTargetWords(connection, keyTermsPath, wordList)\n",
    "unique"
   ]
  },
  {
   "cell_type": "code",
   "execution_count": 18,
   "metadata": {},
   "outputs": [
    {
     "name": "stdout",
     "output_type": "stream",
     "text": [
      " for '['θεός', 'δίδωμι', 'αὐτός']' found 2731 usages in database\n",
      " found 2702 alignments in database\n",
      "for god gods found 2702 alignments\n"
     ]
    }
   ],
   "source": [
    "words = list(unique.keys())\n",
    "db.saveAlignmentDataForWords(connection, wordList, words, searchOriginal = True, searchLemma = True, caseInsensitive = True)"
   ]
  },
  {
   "cell_type": "code",
   "execution_count": null,
   "metadata": {},
   "outputs": [],
   "source": []
  }
 ],
 "metadata": {
  "kernelspec": {
   "display_name": "Python 3",
   "language": "python",
   "name": "python3"
  },
  "language_info": {
   "codemirror_mode": {
    "name": "ipython",
    "version": 3
   },
   "file_extension": ".py",
   "mimetype": "text/x-python",
   "name": "python",
   "nbconvert_exporter": "python",
   "pygments_lexer": "ipython3",
   "version": "3.8.5"
  }
 },
 "nbformat": 4,
 "nbformat_minor": 4
}
