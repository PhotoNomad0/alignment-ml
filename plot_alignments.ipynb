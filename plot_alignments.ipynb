{
 "cells": [
  {
   "cell_type": "markdown",
   "metadata": {},
   "source": [
    "### Plotting alignment data"
   ]
  },
  {
   "cell_type": "code",
   "execution_count": 13,
   "metadata": {},
   "outputs": [],
   "source": [
    "%matplotlib inline\n",
    "import utils.db_utils as db"
   ]
  },
  {
   "cell_type": "code",
   "execution_count": 14,
   "metadata": {
    "pycharm": {
     "name": "#%%\n"
    }
   },
   "outputs": [
    {
     "data": {
      "text/plain": "         id book_id chapter verse alignment_num  orig_lang_words  \\\n0    118054     luk       1     6             5  ,750353,750354,   \n1    118093     luk       1     8            12  ,750396,750397,   \n2    118206     luk       1    16             8  ,750517,750518,   \n3    118262     luk       1    19            11  ,750579,750580,   \n4    118382     luk       1    26            10  ,750709,750710,   \n..      ...     ...     ...   ...           ...              ...   \n499  165087     2jn       1     3             7         ,801721,   \n500  165188     2jn       1     9             9         ,801838,   \n501  165319     3jn       1     6            12         ,801998,   \n502  165396     3jn       1    11            11  ,802076,802077,   \n503  165402     3jn       1    11            17  ,802083,802084,   \n\n    target_lang_words  origSpan  \\\n0            ,727232,         1   \n1            ,727274,         1   \n2            ,727452,         1   \n3            ,727539,         1   \n4            ,727714,         1   \n..                ...       ...   \n499          ,796060,         0   \n500          ,796230,         0   \n501          ,796439,         0   \n502          ,796557,         1   \n503          ,796566,         1   \n\n                                             origWords origWordsTxt  \\\n0    [{'id': 750353, 'book_id': 'luk', 'chapter': '...     τοῦ Θεοῦ   \n1    [{'id': 750396, 'book_id': 'luk', 'chapter': '...     τοῦ Θεοῦ   \n2    [{'id': 750517, 'book_id': 'luk', 'chapter': '...     τὸν Θεὸν   \n3    [{'id': 750579, 'book_id': 'luk', 'chapter': '...     τοῦ Θεοῦ   \n4    [{'id': 750709, 'book_id': 'luk', 'chapter': '...     τοῦ Θεοῦ   \n..                                                 ...          ...   \n499  [{'id': 801721, 'book_id': '2jn', 'chapter': '...         Θεοῦ   \n500  [{'id': 801838, 'book_id': '2jn', 'chapter': '...         Θεὸν   \n501  [{'id': 801998, 'book_id': '3jn', 'chapter': '...         Θεοῦ   \n502  [{'id': 802076, 'book_id': '3jn', 'chapter': '...     τοῦ Θεοῦ   \n503  [{'id': 802083, 'book_id': '3jn', 'chapter': '...     τὸν Θεόν   \n\n     alignmentOrigWords  targetSpan  \\\n0                     2           0   \n1                     2           0   \n2                     2           0   \n3                     2           0   \n4                     2           0   \n..                  ...         ...   \n499                   1           0   \n500                   1           0   \n501                   1           0   \n502                   2           0   \n503                   2           0   \n\n                                           targetWords targetWordsTxt  \\\n0    [{'id': 727232, 'book_id': 'luk', 'chapter': '...            God   \n1    [{'id': 727274, 'book_id': 'luk', 'chapter': '...            God   \n2    [{'id': 727452, 'book_id': 'luk', 'chapter': '...            God   \n3    [{'id': 727539, 'book_id': 'luk', 'chapter': '...            God   \n4    [{'id': 727714, 'book_id': 'luk', 'chapter': '...            God   \n..                                                 ...            ...   \n499  [{'id': 796060, 'book_id': '2jn', 'chapter': '...            God   \n500  [{'id': 796230, 'book_id': '2jn', 'chapter': '...            God   \n501  [{'id': 796439, 'book_id': '3jn', 'chapter': '...            God   \n502  [{'id': 796557, 'book_id': '3jn', 'chapter': '...            God   \n503  [{'id': 796566, 'book_id': '3jn', 'chapter': '...            God   \n\n     alignmentTargetWords    alignmentTxt  frequency  origWordsBetween  \\\n0                       1  τοῦ Θεοῦ = God   0.077381                 0   \n1                       1  τοῦ Θεοῦ = God   0.077381                 0   \n2                       1  τὸν Θεὸν = God   0.043651                 0   \n3                       1  τοῦ Θεοῦ = God   0.077381                 0   \n4                       1  τοῦ Θεοῦ = God   0.077381                 0   \n..                    ...             ...        ...               ...   \n499                     1      Θεοῦ = God   0.273810                 0   \n500                     1      Θεὸν = God   0.017857                 0   \n501                     1      Θεοῦ = God   0.273810                 0   \n502                     1  τοῦ Θεοῦ = God   0.077381                 0   \n503                     1  τὸν Θεόν = God   0.073413                 0   \n\n     targetWordsBetween  \n0                     0  \n1                     0  \n2                     0  \n3                     0  \n4                     0  \n..                  ...  \n499                   0  \n500                   0  \n501                   0  \n502                   0  \n503                   0  \n\n[504 rows x 19 columns]",
      "text/html": "<div>\n<style scoped>\n    .dataframe tbody tr th:only-of-type {\n        vertical-align: middle;\n    }\n\n    .dataframe tbody tr th {\n        vertical-align: top;\n    }\n\n    .dataframe thead th {\n        text-align: right;\n    }\n</style>\n<table border=\"1\" class=\"dataframe\">\n  <thead>\n    <tr style=\"text-align: right;\">\n      <th></th>\n      <th>id</th>\n      <th>book_id</th>\n      <th>chapter</th>\n      <th>verse</th>\n      <th>alignment_num</th>\n      <th>orig_lang_words</th>\n      <th>target_lang_words</th>\n      <th>origSpan</th>\n      <th>origWords</th>\n      <th>origWordsTxt</th>\n      <th>alignmentOrigWords</th>\n      <th>targetSpan</th>\n      <th>targetWords</th>\n      <th>targetWordsTxt</th>\n      <th>alignmentTargetWords</th>\n      <th>alignmentTxt</th>\n      <th>frequency</th>\n      <th>origWordsBetween</th>\n      <th>targetWordsBetween</th>\n    </tr>\n  </thead>\n  <tbody>\n    <tr>\n      <th>0</th>\n      <td>118054</td>\n      <td>luk</td>\n      <td>1</td>\n      <td>6</td>\n      <td>5</td>\n      <td>,750353,750354,</td>\n      <td>,727232,</td>\n      <td>1</td>\n      <td>[{'id': 750353, 'book_id': 'luk', 'chapter': '...</td>\n      <td>τοῦ Θεοῦ</td>\n      <td>2</td>\n      <td>0</td>\n      <td>[{'id': 727232, 'book_id': 'luk', 'chapter': '...</td>\n      <td>God</td>\n      <td>1</td>\n      <td>τοῦ Θεοῦ = God</td>\n      <td>0.077381</td>\n      <td>0</td>\n      <td>0</td>\n    </tr>\n    <tr>\n      <th>1</th>\n      <td>118093</td>\n      <td>luk</td>\n      <td>1</td>\n      <td>8</td>\n      <td>12</td>\n      <td>,750396,750397,</td>\n      <td>,727274,</td>\n      <td>1</td>\n      <td>[{'id': 750396, 'book_id': 'luk', 'chapter': '...</td>\n      <td>τοῦ Θεοῦ</td>\n      <td>2</td>\n      <td>0</td>\n      <td>[{'id': 727274, 'book_id': 'luk', 'chapter': '...</td>\n      <td>God</td>\n      <td>1</td>\n      <td>τοῦ Θεοῦ = God</td>\n      <td>0.077381</td>\n      <td>0</td>\n      <td>0</td>\n    </tr>\n    <tr>\n      <th>2</th>\n      <td>118206</td>\n      <td>luk</td>\n      <td>1</td>\n      <td>16</td>\n      <td>8</td>\n      <td>,750517,750518,</td>\n      <td>,727452,</td>\n      <td>1</td>\n      <td>[{'id': 750517, 'book_id': 'luk', 'chapter': '...</td>\n      <td>τὸν Θεὸν</td>\n      <td>2</td>\n      <td>0</td>\n      <td>[{'id': 727452, 'book_id': 'luk', 'chapter': '...</td>\n      <td>God</td>\n      <td>1</td>\n      <td>τὸν Θεὸν = God</td>\n      <td>0.043651</td>\n      <td>0</td>\n      <td>0</td>\n    </tr>\n    <tr>\n      <th>3</th>\n      <td>118262</td>\n      <td>luk</td>\n      <td>1</td>\n      <td>19</td>\n      <td>11</td>\n      <td>,750579,750580,</td>\n      <td>,727539,</td>\n      <td>1</td>\n      <td>[{'id': 750579, 'book_id': 'luk', 'chapter': '...</td>\n      <td>τοῦ Θεοῦ</td>\n      <td>2</td>\n      <td>0</td>\n      <td>[{'id': 727539, 'book_id': 'luk', 'chapter': '...</td>\n      <td>God</td>\n      <td>1</td>\n      <td>τοῦ Θεοῦ = God</td>\n      <td>0.077381</td>\n      <td>0</td>\n      <td>0</td>\n    </tr>\n    <tr>\n      <th>4</th>\n      <td>118382</td>\n      <td>luk</td>\n      <td>1</td>\n      <td>26</td>\n      <td>10</td>\n      <td>,750709,750710,</td>\n      <td>,727714,</td>\n      <td>1</td>\n      <td>[{'id': 750709, 'book_id': 'luk', 'chapter': '...</td>\n      <td>τοῦ Θεοῦ</td>\n      <td>2</td>\n      <td>0</td>\n      <td>[{'id': 727714, 'book_id': 'luk', 'chapter': '...</td>\n      <td>God</td>\n      <td>1</td>\n      <td>τοῦ Θεοῦ = God</td>\n      <td>0.077381</td>\n      <td>0</td>\n      <td>0</td>\n    </tr>\n    <tr>\n      <th>...</th>\n      <td>...</td>\n      <td>...</td>\n      <td>...</td>\n      <td>...</td>\n      <td>...</td>\n      <td>...</td>\n      <td>...</td>\n      <td>...</td>\n      <td>...</td>\n      <td>...</td>\n      <td>...</td>\n      <td>...</td>\n      <td>...</td>\n      <td>...</td>\n      <td>...</td>\n      <td>...</td>\n      <td>...</td>\n      <td>...</td>\n      <td>...</td>\n    </tr>\n    <tr>\n      <th>499</th>\n      <td>165087</td>\n      <td>2jn</td>\n      <td>1</td>\n      <td>3</td>\n      <td>7</td>\n      <td>,801721,</td>\n      <td>,796060,</td>\n      <td>0</td>\n      <td>[{'id': 801721, 'book_id': '2jn', 'chapter': '...</td>\n      <td>Θεοῦ</td>\n      <td>1</td>\n      <td>0</td>\n      <td>[{'id': 796060, 'book_id': '2jn', 'chapter': '...</td>\n      <td>God</td>\n      <td>1</td>\n      <td>Θεοῦ = God</td>\n      <td>0.273810</td>\n      <td>0</td>\n      <td>0</td>\n    </tr>\n    <tr>\n      <th>500</th>\n      <td>165188</td>\n      <td>2jn</td>\n      <td>1</td>\n      <td>9</td>\n      <td>9</td>\n      <td>,801838,</td>\n      <td>,796230,</td>\n      <td>0</td>\n      <td>[{'id': 801838, 'book_id': '2jn', 'chapter': '...</td>\n      <td>Θεὸν</td>\n      <td>1</td>\n      <td>0</td>\n      <td>[{'id': 796230, 'book_id': '2jn', 'chapter': '...</td>\n      <td>God</td>\n      <td>1</td>\n      <td>Θεὸν = God</td>\n      <td>0.017857</td>\n      <td>0</td>\n      <td>0</td>\n    </tr>\n    <tr>\n      <th>501</th>\n      <td>165319</td>\n      <td>3jn</td>\n      <td>1</td>\n      <td>6</td>\n      <td>12</td>\n      <td>,801998,</td>\n      <td>,796439,</td>\n      <td>0</td>\n      <td>[{'id': 801998, 'book_id': '3jn', 'chapter': '...</td>\n      <td>Θεοῦ</td>\n      <td>1</td>\n      <td>0</td>\n      <td>[{'id': 796439, 'book_id': '3jn', 'chapter': '...</td>\n      <td>God</td>\n      <td>1</td>\n      <td>Θεοῦ = God</td>\n      <td>0.273810</td>\n      <td>0</td>\n      <td>0</td>\n    </tr>\n    <tr>\n      <th>502</th>\n      <td>165396</td>\n      <td>3jn</td>\n      <td>1</td>\n      <td>11</td>\n      <td>11</td>\n      <td>,802076,802077,</td>\n      <td>,796557,</td>\n      <td>1</td>\n      <td>[{'id': 802076, 'book_id': '3jn', 'chapter': '...</td>\n      <td>τοῦ Θεοῦ</td>\n      <td>2</td>\n      <td>0</td>\n      <td>[{'id': 796557, 'book_id': '3jn', 'chapter': '...</td>\n      <td>God</td>\n      <td>1</td>\n      <td>τοῦ Θεοῦ = God</td>\n      <td>0.077381</td>\n      <td>0</td>\n      <td>0</td>\n    </tr>\n    <tr>\n      <th>503</th>\n      <td>165402</td>\n      <td>3jn</td>\n      <td>1</td>\n      <td>11</td>\n      <td>17</td>\n      <td>,802083,802084,</td>\n      <td>,796566,</td>\n      <td>1</td>\n      <td>[{'id': 802083, 'book_id': '3jn', 'chapter': '...</td>\n      <td>τὸν Θεόν</td>\n      <td>2</td>\n      <td>0</td>\n      <td>[{'id': 796566, 'book_id': '3jn', 'chapter': '...</td>\n      <td>God</td>\n      <td>1</td>\n      <td>τὸν Θεόν = God</td>\n      <td>0.073413</td>\n      <td>0</td>\n      <td>0</td>\n    </tr>\n  </tbody>\n</table>\n<p>504 rows × 19 columns</p>\n</div>"
     },
     "execution_count": 14,
     "metadata": {},
     "output_type": "execute_result"
    }
   ],
   "source": [
    "lemma = 'θεός'\n",
    "lemmaAlignments = db.loadAlignmentDataFromFile(lemma)\n",
    "lemmaAlignments"
   ]
  },
  {
   "cell_type": "code",
   "execution_count": 15,
   "metadata": {
    "pycharm": {
     "name": "#%%\n"
    }
   },
   "outputs": [
    {
     "name": "stdout",
     "output_type": "stream",
     "text": [
      "Alignments description:\n",
      "         origSpan  alignmentOrigWords  targetSpan  alignmentTargetWords  \\\n",
      "count  504.000000          504.000000  504.000000            504.000000   \n",
      "mean     0.517857            1.503968    0.319444              1.206349   \n",
      "std      0.534755            0.508364    1.177632              0.409965   \n",
      "min      0.000000            1.000000    0.000000              1.000000   \n",
      "25%      0.000000            1.000000    0.000000              1.000000   \n",
      "50%      0.500000            1.500000    0.000000              1.000000   \n",
      "75%      1.000000            2.000000    0.000000              1.000000   \n",
      "max      2.000000            3.000000   18.000000              3.000000   \n",
      "\n",
      "        frequency  origWordsBetween  targetWordsBetween  \n",
      "count  504.000000        504.000000          504.000000  \n",
      "mean     0.129307          0.013889            0.113095  \n",
      "std      0.098672          0.117146            1.019252  \n",
      "min      0.001984          0.000000            0.000000  \n",
      "25%      0.043651          0.000000            0.000000  \n",
      "50%      0.079365          0.000000            0.000000  \n",
      "75%      0.273810          0.000000            0.000000  \n",
      "max      0.273810          1.000000           17.000000  \n",
      "fields = ['origSpan', 'alignmentOrigWords', 'targetSpan', 'alignmentTargetWords', 'frequency', 'origWordsBetween', 'targetWordsBetween']\n",
      "\n",
      "Frequency of origSpan:\n",
      "0    252\n",
      "1    243\n",
      "2      9\n",
      "Name: origSpan, dtype: int64\n",
      "\n",
      "Frequency of alignmentOrigWords:\n",
      "1    252\n",
      "2    250\n",
      "3      2\n",
      "Name: alignmentOrigWords, dtype: int64\n",
      "\n",
      "Frequency of targetSpan:\n",
      "0     401\n",
      "1      86\n",
      "2       9\n",
      "3       3\n",
      "4       2\n",
      "18      1\n",
      "12      1\n",
      "10      1\n",
      "Name: targetSpan, dtype: int64\n",
      "\n",
      "Frequency of alignmentTargetWords:\n",
      "1    401\n",
      "2    102\n",
      "3      1\n",
      "Name: alignmentTargetWords, dtype: int64\n",
      "\n",
      "Frequency of origWordsBetween:\n",
      "0    497\n",
      "1      7\n",
      "Name: origWordsBetween, dtype: int64\n",
      "\n",
      "Frequency of targetWordsBetween:\n",
      "0     488\n",
      "1       8\n",
      "2       3\n",
      "3       2\n",
      "17      1\n",
      "11      1\n",
      "9       1\n",
      "Name: targetWordsBetween, dtype: int64\n"
     ]
    }
   ],
   "source": [
    "db.describeAlignments(lemmaAlignments)"
   ]
  },
  {
   "cell_type": "markdown",
   "metadata": {},
   "source": [
    "### Analysis of alignments for θεός in the en_ult:"
   ]
  },
  {
   "cell_type": "markdown",
   "metadata": {},
   "source": [
    "#### Frequency of alignments:"
   ]
  },
  {
   "cell_type": "code",
   "execution_count": 16,
   "metadata": {
    "pycharm": {
     "name": "#%%\n"
    }
   },
   "outputs": [
    {
     "name": "stdout",
     "output_type": "stream",
     "text": [
      "Θεοῦ = God             138\n",
      "ὁ Θεὸς = God            80\n",
      "Θεοῦ = of God           40\n",
      "τοῦ Θεοῦ = God          39\n",
      "τὸν Θεόν = God          37\n",
      "τοῦ Θεοῦ = of God       34\n",
      "τὸν Θεὸν = God          22\n",
      "Θεῷ = God               21\n",
      "Θεὸς = God              18\n",
      "τῷ Θεῷ = God            14\n",
      "ὁ Θεός = God            12\n",
      "Θεὸν = God               9\n",
      "τῷ Θεῷ = to God          6\n",
      "Θεὸς = the God           3\n",
      "τοῦ Θεοῦ = God s         2\n",
      "Θεόν = God               2\n",
      "Θεὸν = the God           2\n",
      "Θεῷ = the God            2\n",
      "θεοὶ = gods              2\n",
      "ὁ Θεὸς = god is          1\n",
      "θεοὺς = gods             1\n",
      "Θεός = God               1\n",
      "θεοῖς = gods             1\n",
      "θεὸν = goddess           1\n",
      "θεοῦ = god               1\n",
      "ὅτι ὁ Θεὸς = God         1\n",
      "θεοῦ = God               1\n",
      "ὁ Θεὸς = but God         1\n",
      "Θεῷ = with God           1\n",
      "ὁ Θεός = God is          1\n",
      "Θεῷ = an God             1\n",
      "Θεῷ = to God             1\n",
      "ὁ δὲ Θεός = But God      1\n",
      "Θεοῦ = between God       1\n",
      "Θεοῦ = of a god          1\n",
      "θεόν = a god             1\n",
      "Θεοῦ = God s             1\n",
      "τοῦ Θεοῦ = for God       1\n",
      "Θεοῦ = by God            1\n",
      "Θεὸν = a God             1\n",
      "Name: alignmentTxt, dtype: int64\n"
     ]
    }
   ],
   "source": [
    "lemma = 'θεός'\n",
    "frequency = lemmaAlignments['alignmentTxt'].value_counts()\n",
    "print(frequency)"
   ]
  },
  {
   "cell_type": "markdown",
   "metadata": {},
   "source": [
    "##### Notes:\n",
    "- the left column is the specific alignment, and the right column is the number of times that specific alignment has been made so far in the NT.\n",
    "- alignments that contain more words are more suspect.\n",
    "- in future will combine \"God s\" to \"God's\" before doing analysis\n",
    "<p></p>"
   ]
  },
  {
   "cell_type": "code",
   "execution_count": 17,
   "metadata": {
    "pycharm": {
     "name": "#%%\n"
    }
   },
   "outputs": [
    {
     "data": {
      "text/plain": "<Figure size 432x288 with 1 Axes>",
      "image/png": "[encoded data removed]"
     },
     "metadata": {
      "needs_background": "light"
     },
     "output_type": "display_data"
    }
   ],
   "source": [
    "db.plotFieldFrequency(frequency, \"\", 'alignment', title=\"Frequency of Alignments\", xNumbers=False, xShowTicks=False)"
   ]
  },
  {
   "cell_type": "markdown",
   "metadata": {},
   "source": [
    "### Analysis:"
   ]
  },
  {
   "cell_type": "markdown",
   "metadata": {},
   "source": [
    "#### Analysis of numerical metrics:"
   ]
  },
  {
   "cell_type": "code",
   "execution_count": 18,
   "metadata": {
    "pycharm": {
     "name": "#%%\n"
    }
   },
   "outputs": [
    {
     "name": "stdout",
     "output_type": "stream",
     "text": [
      "Alignments description:\n",
      "         origSpan  alignmentOrigWords  targetSpan  alignmentTargetWords  \\\n",
      "count  504.000000          504.000000  504.000000            504.000000   \n",
      "mean     0.517857            1.503968    0.319444              1.206349   \n",
      "std      0.534755            0.508364    1.177632              0.409965   \n",
      "min      0.000000            1.000000    0.000000              1.000000   \n",
      "25%      0.000000            1.000000    0.000000              1.000000   \n",
      "50%      0.500000            1.500000    0.000000              1.000000   \n",
      "75%      1.000000            2.000000    0.000000              1.000000   \n",
      "max      2.000000            3.000000   18.000000              3.000000   \n",
      "\n",
      "        frequency  origWordsBetween  targetWordsBetween  \n",
      "count  504.000000        504.000000          504.000000  \n",
      "mean     0.129307          0.013889            0.113095  \n",
      "std      0.098672          0.117146            1.019252  \n",
      "min      0.001984          0.000000            0.000000  \n",
      "25%      0.043651          0.000000            0.000000  \n",
      "50%      0.079365          0.000000            0.000000  \n",
      "75%      0.273810          0.000000            0.000000  \n",
      "max      0.273810          1.000000           17.000000  \n"
     ]
    }
   ],
   "source": [
    "descr = lemmaAlignments.describe()\n",
    "print(f\"Alignments description:\\n{descr}\")"
   ]
  },
  {
   "cell_type": "markdown",
   "metadata": {},
   "source": [
    "#### Analysis of distance between first and last original language word:"
   ]
  },
  {
   "cell_type": "code",
   "execution_count": 19,
   "metadata": {
    "pycharm": {
     "name": "#%%\n"
    }
   },
   "outputs": [
    {
     "name": "stdout",
     "output_type": "stream",
     "text": [
      "\n",
      "Frequency of origSpan:\n",
      "0    252\n",
      "1    243\n",
      "2      9\n",
      "Name: origSpan, dtype: int64\n"
     ]
    }
   ],
   "source": [
    "field = 'origSpan'\n",
    "field_frequency = lemmaAlignments[field].value_counts().sort_index()\n",
    "print(f\"\\nFrequency of {field}:\\n{field_frequency}\")"
   ]
  },
  {
   "cell_type": "markdown",
   "metadata": {},
   "source": [
    "##### Notes:\n",
    "- this field is less useful because it includes aligned words, so added originalWordsBetween as more useful normalized metric (see analysis below).\n",
    "<p></p>"
   ]
  },
  {
   "cell_type": "markdown",
   "metadata": {},
   "source": [
    "#### Analysis of distance between first and last target language word:"
   ]
  },
  {
   "cell_type": "code",
   "execution_count": 20,
   "metadata": {
    "pycharm": {
     "name": "#%%\n"
    }
   },
   "outputs": [
    {
     "name": "stdout",
     "output_type": "stream",
     "text": [
      "\n",
      "Frequency of targetSpan:\n",
      "0     401\n",
      "1      86\n",
      "2       9\n",
      "3       3\n",
      "4       2\n",
      "10      1\n",
      "12      1\n",
      "18      1\n",
      "Name: targetSpan, dtype: int64\n"
     ]
    }
   ],
   "source": [
    "field = 'targetSpan'\n",
    "field_frequency = lemmaAlignments[field].value_counts().sort_index()\n",
    "print(f\"\\nFrequency of {field}:\\n{field_frequency}\")"
   ]
  },
  {
   "cell_type": "markdown",
   "metadata": {},
   "source": [
    "##### Notes:\n",
    "- this field is also less useful because it includes the aligned words, so added targetWordsBetween as more useful normalized metric (see analysis below).\n",
    "<p></p>"
   ]
  },
  {
   "cell_type": "markdown",
   "metadata": {},
   "source": [
    "#### Analysis of original language word count:"
   ]
  },
  {
   "cell_type": "code",
   "execution_count": 21,
   "metadata": {
    "pycharm": {
     "name": "#%%\n"
    }
   },
   "outputs": [
    {
     "name": "stdout",
     "output_type": "stream",
     "text": [
      "\n",
      "Frequency of alignmentOrigWords:\n",
      "1    252\n",
      "2    250\n",
      "3      2\n",
      "Name: alignmentOrigWords, dtype: int64\n"
     ]
    }
   ],
   "source": [
    "field = 'alignmentOrigWords'\n",
    "field_frequency = lemmaAlignments[field].value_counts().sort_index()\n",
    "print(f\"\\nFrequency of {field}:\\n{field_frequency}\")"
   ]
  },
  {
   "cell_type": "markdown",
   "metadata": {},
   "source": [
    "##### Notes:\n",
    "- this field analysis suggests for θεός nearly all the original language word counts are tight. The word counts of 3 may need review. So we could probaby use that as a threshold for to flag for review.\n",
    "<p></p>"
   ]
  },
  {
   "cell_type": "markdown",
   "metadata": {
    "pycharm": {
     "name": "#%% md\n"
    }
   },
   "source": [
    "#### Analysis of target language word count:"
   ]
  },
  {
   "cell_type": "code",
   "execution_count": 22,
   "metadata": {
    "pycharm": {
     "name": "#%%\n"
    }
   },
   "outputs": [
    {
     "name": "stdout",
     "output_type": "stream",
     "text": [
      "\n",
      "Frequency of alignmentTargetWords:\n",
      "1    401\n",
      "2    102\n",
      "3      1\n",
      "Name: alignmentTargetWords, dtype: int64\n"
     ]
    }
   ],
   "source": [
    "field = 'alignmentTargetWords'\n",
    "field_frequency = lemmaAlignments[field].value_counts().sort_index()\n",
    "print(f\"\\nFrequency of {field}:\\n{field_frequency}\")"
   ]
  },
  {
   "cell_type": "markdown",
   "metadata": {},
   "source": [
    "##### Notes:\n",
    "- this field analysis suggests that for θεός likely all the target language word counts are tight. The word count of 3 probably good for English (`of a god`). But still we could probaby use that as a threshold for to flag for review.\n",
    "<p></p>"
   ]
  },
  {
   "cell_type": "markdown",
   "metadata": {},
   "source": [
    "#### Analysis of count of extra unaligned words between aligned original language words:"
   ]
  },
  {
   "cell_type": "code",
   "execution_count": 23,
   "metadata": {
    "pycharm": {
     "name": "#%%\n"
    }
   },
   "outputs": [
    {
     "name": "stdout",
     "output_type": "stream",
     "text": [
      "\n",
      "Frequency of origWordsBetween:\n",
      "0    497\n",
      "1      7\n",
      "Name: origWordsBetween, dtype: int64\n"
     ]
    }
   ],
   "source": [
    "field = 'origWordsBetween'\n",
    "field_frequency = lemmaAlignments[field].value_counts().sort_index()\n",
    "print(f\"\\nFrequency of {field}:\\n{field_frequency}\")"
   ]
  },
  {
   "cell_type": "markdown",
   "metadata": {},
   "source": [
    "##### Notes:\n",
    "- this field analysis suggests that most original language alignments probably good. Probably the cases of a word between (count > 0) aligned words should be reviewed.\n",
    "<p></p>"
   ]
  },
  {
   "cell_type": "markdown",
   "metadata": {},
   "source": [
    "#### Analysis of count of extra unaligned words between aligned target language words:"
   ]
  },
  {
   "cell_type": "code",
   "execution_count": 24,
   "metadata": {
    "pycharm": {
     "name": "#%%\n"
    }
   },
   "outputs": [
    {
     "name": "stdout",
     "output_type": "stream",
     "text": [
      "\n",
      "Frequency of targetWordsBetween:\n",
      "0     488\n",
      "1       8\n",
      "2       3\n",
      "3       2\n",
      "9       1\n",
      "11      1\n",
      "17      1\n",
      "Name: targetWordsBetween, dtype: int64\n"
     ]
    },
    {
     "data": {
      "text/plain": "<Figure size 432x288 with 1 Axes>",
      "image/png": "[encoded data removed]"
     },
     "metadata": {
      "needs_background": "light"
     },
     "output_type": "display_data"
    }
   ],
   "source": [
    "field = 'targetWordsBetween'\n",
    "field_frequency = lemmaAlignments[field].value_counts().sort_index()\n",
    "print(f\"\\nFrequency of {field}:\\n{field_frequency}\")\n",
    "db.plotFieldFrequency(field_frequency, field, f\"Words Between\", max=20)"
   ]
  },
  {
   "cell_type": "markdown",
   "metadata": {
    "pycharm": {
     "name": "#%% md\n"
    }
   },
   "source": [
    "##### Notes:\n",
    "- this field analysis suggests that most target language alignments probably good. But a bunch look suspicious.  The large gaps between aligned words are likely due to wordmap suggesting wrong occurence of a word and the user selecting. Probably the cases of a word between (count > 0) aligned words should be reviewed.\n",
    "<p></p>\n"
   ]
  }
 ],
 "metadata": {
  "kernelspec": {
   "display_name": "Python 3",
   "language": "python",
   "name": "python3"
  },
  "language_info": {
   "codemirror_mode": {
    "name": "ipython",
    "version": 3
   },
   "file_extension": ".py",
   "mimetype": "text/x-python",
   "name": "python",
   "nbconvert_exporter": "python",
   "pygments_lexer": "ipython3",
   "version": "3.8.5"
  }
 },
 "nbformat": 4,
 "nbformat_minor": 4
}