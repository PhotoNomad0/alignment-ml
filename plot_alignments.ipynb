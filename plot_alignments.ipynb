{
 "cells": [
  {
   "cell_type": "markdown",
   "metadata": {},
   "source": [
    "### Plotting alignment data"
   ]
  },
  {
   "cell_type": "code",
   "execution_count": 1,
   "metadata": {},
   "outputs": [],
   "source": [
    "%matplotlib inline\n",
    "import utils.db_utils as db"
   ]
  },
  {
   "cell_type": "code",
   "execution_count": 2,
   "metadata": {
    "pycharm": {
     "name": "#%%\n"
    }
   },
   "outputs": [
    {
     "data": {
      "text/plain": "          id book_id chapter verse alignment_num    orig_lang_words  \\\n0     458069     mrk       1     1             6          ,1437763,   \n1     458273     mrk       1    14            11  ,1437985,1437986,   \n2     458281     mrk       1    15             7  ,1437997,1437998,   \n3     458418     mrk       1    24            14  ,1438147,1438148,   \n4     458819     mrk       2     7            10  ,1438561,1438562,   \n...      ...     ...     ...   ...           ...                ...   \n1257  571222     rev      22     5            14  ,1557010,1557011,   \n1258  571241     rev      22     6            11          ,1557035,   \n1259  571309     rev      22     9            21  ,1557112,1557113,   \n1260  571472     rev      22    18            16  ,1557295,1557296,   \n1261  571493     rev      22    19            11  ,1557320,1557321,   \n\n      target_lang_words  origSpan  \\\n0     ,1211739,1211740,         0   \n1     ,1212011,1212012,         1   \n2     ,1212022,1212023,         1   \n3     ,1212217,1212218,         1   \n4             ,1212785,         1   \n...                 ...       ...   \n1257          ,1371547,         1   \n1258          ,1371574,         0   \n1259          ,1371678,         1   \n1260          ,1371922,         1   \n1261          ,1371949,         1   \n\n                                              origWords origWordsTxt  \\\n0     [{'id': 1437763, 'book_id': 'mrk', 'chapter': ...         Θεοῦ   \n1     [{'id': 1437985, 'book_id': 'mrk', 'chapter': ...     τοῦ Θεοῦ   \n2     [{'id': 1437997, 'book_id': 'mrk', 'chapter': ...     τοῦ Θεοῦ   \n3     [{'id': 1438147, 'book_id': 'mrk', 'chapter': ...     τοῦ Θεοῦ   \n4     [{'id': 1438561, 'book_id': 'mrk', 'chapter': ...       ὁ Θεός   \n...                                                 ...          ...   \n1257  [{'id': 1557010, 'book_id': 'rev', 'chapter': ...       ὁ Θεὸς   \n1258  [{'id': 1557035, 'book_id': 'rev', 'chapter': ...         Θεὸς   \n1259  [{'id': 1557112, 'book_id': 'rev', 'chapter': ...       τῷ Θεῷ   \n1260  [{'id': 1557295, 'book_id': 'rev', 'chapter': ...       ὁ Θεὸς   \n1261  [{'id': 1557320, 'book_id': 'rev', 'chapter': ...       ὁ Θεὸς   \n\n      alignmentOrigWords  targetSpan  \\\n0                      1           1   \n1                      2           1   \n2                      2           1   \n3                      2           1   \n4                      2           0   \n...                  ...         ...   \n1257                   2           0   \n1258                   1           0   \n1259                   2           0   \n1260                   2           0   \n1261                   2           0   \n\n                                            targetWords targetWordsTxt  \\\n0     [{'id': 1211739, 'book_id': 'mrk', 'chapter': ...         of God   \n1     [{'id': 1212011, 'book_id': 'mrk', 'chapter': ...         of God   \n2     [{'id': 1212022, 'book_id': 'mrk', 'chapter': ...         of God   \n3     [{'id': 1212217, 'book_id': 'mrk', 'chapter': ...         of God   \n4     [{'id': 1212785, 'book_id': 'mrk', 'chapter': ...            God   \n...                                                 ...            ...   \n1257  [{'id': 1371547, 'book_id': 'rev', 'chapter': ...            God   \n1258  [{'id': 1371574, 'book_id': 'rev', 'chapter': ...            God   \n1259  [{'id': 1371678, 'book_id': 'rev', 'chapter': ...            God   \n1260  [{'id': 1371922, 'book_id': 'rev', 'chapter': ...            God   \n1261  [{'id': 1371949, 'book_id': 'rev', 'chapter': ...            God   \n\n      alignmentTargetWords       alignmentTxt  frequency  origWordsBetween  \\\n0                        2      Θεοῦ = of God   0.074485                 0   \n1                        2  τοῦ Θεοῦ = of God   0.161648                 0   \n2                        2  τοῦ Θεοῦ = of God   0.161648                 0   \n3                        2  τοῦ Θεοῦ = of God   0.161648                 0   \n4                        1       ὁ Θεός = God   0.041997                 0   \n...                    ...                ...        ...               ...   \n1257                     1       ὁ Θεὸς = God   0.129952                 0   \n1258                     1         Θεὸς = God   0.034865                 0   \n1259                     1       τῷ Θεῷ = God   0.032488                 0   \n1260                     1       ὁ Θεὸς = God   0.129952                 0   \n1261                     1       ὁ Θεὸς = God   0.129952                 0   \n\n      targetWordsBetween  \n0                      0  \n1                      0  \n2                      0  \n3                      0  \n4                      0  \n...                  ...  \n1257                   0  \n1258                   0  \n1259                   0  \n1260                   0  \n1261                   0  \n\n[1262 rows x 19 columns]",
      "text/html": "<div>\n<style scoped>\n    .dataframe tbody tr th:only-of-type {\n        vertical-align: middle;\n    }\n\n    .dataframe tbody tr th {\n        vertical-align: top;\n    }\n\n    .dataframe thead th {\n        text-align: right;\n    }\n</style>\n<table border=\"1\" class=\"dataframe\">\n  <thead>\n    <tr style=\"text-align: right;\">\n      <th></th>\n      <th>id</th>\n      <th>book_id</th>\n      <th>chapter</th>\n      <th>verse</th>\n      <th>alignment_num</th>\n      <th>orig_lang_words</th>\n      <th>target_lang_words</th>\n      <th>origSpan</th>\n      <th>origWords</th>\n      <th>origWordsTxt</th>\n      <th>alignmentOrigWords</th>\n      <th>targetSpan</th>\n      <th>targetWords</th>\n      <th>targetWordsTxt</th>\n      <th>alignmentTargetWords</th>\n      <th>alignmentTxt</th>\n      <th>frequency</th>\n      <th>origWordsBetween</th>\n      <th>targetWordsBetween</th>\n    </tr>\n  </thead>\n  <tbody>\n    <tr>\n      <th>0</th>\n      <td>458069</td>\n      <td>mrk</td>\n      <td>1</td>\n      <td>1</td>\n      <td>6</td>\n      <td>,1437763,</td>\n      <td>,1211739,1211740,</td>\n      <td>0</td>\n      <td>[{'id': 1437763, 'book_id': 'mrk', 'chapter': ...</td>\n      <td>Θεοῦ</td>\n      <td>1</td>\n      <td>1</td>\n      <td>[{'id': 1211739, 'book_id': 'mrk', 'chapter': ...</td>\n      <td>of God</td>\n      <td>2</td>\n      <td>Θεοῦ = of God</td>\n      <td>0.074485</td>\n      <td>0</td>\n      <td>0</td>\n    </tr>\n    <tr>\n      <th>1</th>\n      <td>458273</td>\n      <td>mrk</td>\n      <td>1</td>\n      <td>14</td>\n      <td>11</td>\n      <td>,1437985,1437986,</td>\n      <td>,1212011,1212012,</td>\n      <td>1</td>\n      <td>[{'id': 1437985, 'book_id': 'mrk', 'chapter': ...</td>\n      <td>τοῦ Θεοῦ</td>\n      <td>2</td>\n      <td>1</td>\n      <td>[{'id': 1212011, 'book_id': 'mrk', 'chapter': ...</td>\n      <td>of God</td>\n      <td>2</td>\n      <td>τοῦ Θεοῦ = of God</td>\n      <td>0.161648</td>\n      <td>0</td>\n      <td>0</td>\n    </tr>\n    <tr>\n      <th>2</th>\n      <td>458281</td>\n      <td>mrk</td>\n      <td>1</td>\n      <td>15</td>\n      <td>7</td>\n      <td>,1437997,1437998,</td>\n      <td>,1212022,1212023,</td>\n      <td>1</td>\n      <td>[{'id': 1437997, 'book_id': 'mrk', 'chapter': ...</td>\n      <td>τοῦ Θεοῦ</td>\n      <td>2</td>\n      <td>1</td>\n      <td>[{'id': 1212022, 'book_id': 'mrk', 'chapter': ...</td>\n      <td>of God</td>\n      <td>2</td>\n      <td>τοῦ Θεοῦ = of God</td>\n      <td>0.161648</td>\n      <td>0</td>\n      <td>0</td>\n    </tr>\n    <tr>\n      <th>3</th>\n      <td>458418</td>\n      <td>mrk</td>\n      <td>1</td>\n      <td>24</td>\n      <td>14</td>\n      <td>,1438147,1438148,</td>\n      <td>,1212217,1212218,</td>\n      <td>1</td>\n      <td>[{'id': 1438147, 'book_id': 'mrk', 'chapter': ...</td>\n      <td>τοῦ Θεοῦ</td>\n      <td>2</td>\n      <td>1</td>\n      <td>[{'id': 1212217, 'book_id': 'mrk', 'chapter': ...</td>\n      <td>of God</td>\n      <td>2</td>\n      <td>τοῦ Θεοῦ = of God</td>\n      <td>0.161648</td>\n      <td>0</td>\n      <td>0</td>\n    </tr>\n    <tr>\n      <th>4</th>\n      <td>458819</td>\n      <td>mrk</td>\n      <td>2</td>\n      <td>7</td>\n      <td>10</td>\n      <td>,1438561,1438562,</td>\n      <td>,1212785,</td>\n      <td>1</td>\n      <td>[{'id': 1438561, 'book_id': 'mrk', 'chapter': ...</td>\n      <td>ὁ Θεός</td>\n      <td>2</td>\n      <td>0</td>\n      <td>[{'id': 1212785, 'book_id': 'mrk', 'chapter': ...</td>\n      <td>God</td>\n      <td>1</td>\n      <td>ὁ Θεός = God</td>\n      <td>0.041997</td>\n      <td>0</td>\n      <td>0</td>\n    </tr>\n    <tr>\n      <th>...</th>\n      <td>...</td>\n      <td>...</td>\n      <td>...</td>\n      <td>...</td>\n      <td>...</td>\n      <td>...</td>\n      <td>...</td>\n      <td>...</td>\n      <td>...</td>\n      <td>...</td>\n      <td>...</td>\n      <td>...</td>\n      <td>...</td>\n      <td>...</td>\n      <td>...</td>\n      <td>...</td>\n      <td>...</td>\n      <td>...</td>\n      <td>...</td>\n    </tr>\n    <tr>\n      <th>1257</th>\n      <td>571222</td>\n      <td>rev</td>\n      <td>22</td>\n      <td>5</td>\n      <td>14</td>\n      <td>,1557010,1557011,</td>\n      <td>,1371547,</td>\n      <td>1</td>\n      <td>[{'id': 1557010, 'book_id': 'rev', 'chapter': ...</td>\n      <td>ὁ Θεὸς</td>\n      <td>2</td>\n      <td>0</td>\n      <td>[{'id': 1371547, 'book_id': 'rev', 'chapter': ...</td>\n      <td>God</td>\n      <td>1</td>\n      <td>ὁ Θεὸς = God</td>\n      <td>0.129952</td>\n      <td>0</td>\n      <td>0</td>\n    </tr>\n    <tr>\n      <th>1258</th>\n      <td>571241</td>\n      <td>rev</td>\n      <td>22</td>\n      <td>6</td>\n      <td>11</td>\n      <td>,1557035,</td>\n      <td>,1371574,</td>\n      <td>0</td>\n      <td>[{'id': 1557035, 'book_id': 'rev', 'chapter': ...</td>\n      <td>Θεὸς</td>\n      <td>1</td>\n      <td>0</td>\n      <td>[{'id': 1371574, 'book_id': 'rev', 'chapter': ...</td>\n      <td>God</td>\n      <td>1</td>\n      <td>Θεὸς = God</td>\n      <td>0.034865</td>\n      <td>0</td>\n      <td>0</td>\n    </tr>\n    <tr>\n      <th>1259</th>\n      <td>571309</td>\n      <td>rev</td>\n      <td>22</td>\n      <td>9</td>\n      <td>21</td>\n      <td>,1557112,1557113,</td>\n      <td>,1371678,</td>\n      <td>1</td>\n      <td>[{'id': 1557112, 'book_id': 'rev', 'chapter': ...</td>\n      <td>τῷ Θεῷ</td>\n      <td>2</td>\n      <td>0</td>\n      <td>[{'id': 1371678, 'book_id': 'rev', 'chapter': ...</td>\n      <td>God</td>\n      <td>1</td>\n      <td>τῷ Θεῷ = God</td>\n      <td>0.032488</td>\n      <td>0</td>\n      <td>0</td>\n    </tr>\n    <tr>\n      <th>1260</th>\n      <td>571472</td>\n      <td>rev</td>\n      <td>22</td>\n      <td>18</td>\n      <td>16</td>\n      <td>,1557295,1557296,</td>\n      <td>,1371922,</td>\n      <td>1</td>\n      <td>[{'id': 1557295, 'book_id': 'rev', 'chapter': ...</td>\n      <td>ὁ Θεὸς</td>\n      <td>2</td>\n      <td>0</td>\n      <td>[{'id': 1371922, 'book_id': 'rev', 'chapter': ...</td>\n      <td>God</td>\n      <td>1</td>\n      <td>ὁ Θεὸς = God</td>\n      <td>0.129952</td>\n      <td>0</td>\n      <td>0</td>\n    </tr>\n    <tr>\n      <th>1261</th>\n      <td>571493</td>\n      <td>rev</td>\n      <td>22</td>\n      <td>19</td>\n      <td>11</td>\n      <td>,1557320,1557321,</td>\n      <td>,1371949,</td>\n      <td>1</td>\n      <td>[{'id': 1557320, 'book_id': 'rev', 'chapter': ...</td>\n      <td>ὁ Θεὸς</td>\n      <td>2</td>\n      <td>0</td>\n      <td>[{'id': 1371949, 'book_id': 'rev', 'chapter': ...</td>\n      <td>God</td>\n      <td>1</td>\n      <td>ὁ Θεὸς = God</td>\n      <td>0.129952</td>\n      <td>0</td>\n      <td>0</td>\n    </tr>\n  </tbody>\n</table>\n<p>1262 rows × 19 columns</p>\n</div>"
     },
     "execution_count": 2,
     "metadata": {},
     "output_type": "execute_result"
    }
   ],
   "source": [
    "lemma = 'θεός'\n",
    "lemmaAlignments = db.loadAlignmentDataFromFile(lemma)\n",
    "lemmaAlignments"
   ]
  },
  {
   "cell_type": "code",
   "execution_count": 3,
   "metadata": {
    "pycharm": {
     "name": "#%%\n"
    }
   },
   "outputs": [
    {
     "name": "stdout",
     "output_type": "stream",
     "text": [
      "Alignments description:\n",
      "          origSpan  alignmentOrigWords   targetSpan  alignmentTargetWords  \\\n",
      "count  1262.000000         1262.000000  1262.000000           1262.000000   \n",
      "mean      0.622029            1.617274     0.340729              1.340729   \n",
      "std       0.518269            0.510122     0.515798              0.515798   \n",
      "min       0.000000            1.000000     0.000000              1.000000   \n",
      "25%       0.000000            1.000000     0.000000              1.000000   \n",
      "50%       1.000000            2.000000     0.000000              1.000000   \n",
      "75%       1.000000            2.000000     1.000000              2.000000   \n",
      "max       2.000000            3.000000     5.000000              6.000000   \n",
      "\n",
      "         frequency  origWordsBetween  targetWordsBetween  \n",
      "count  1262.000000       1262.000000              1262.0  \n",
      "mean      0.085296          0.004754                 0.0  \n",
      "std       0.059068          0.068815                 0.0  \n",
      "min       0.000792          0.000000                 0.0  \n",
      "25%       0.033281          0.000000                 0.0  \n",
      "50%       0.074485          0.000000                 0.0  \n",
      "75%       0.148970          0.000000                 0.0  \n",
      "max       0.161648          1.000000                 0.0  \n",
      "fields = ['origSpan', 'alignmentOrigWords', 'targetSpan', 'alignmentTargetWords', 'frequency', 'origWordsBetween', 'targetWordsBetween']\n",
      "\n",
      "Frequency of origSpan:\n",
      "1    743\n",
      "0    498\n",
      "2     21\n",
      "Name: origSpan, dtype: int64\n",
      "\n",
      "Frequency of alignmentOrigWords:\n",
      "2    749\n",
      "1    498\n",
      "3     15\n",
      "Name: alignmentOrigWords, dtype: int64\n",
      "\n",
      "Frequency of targetSpan:\n",
      "0    849\n",
      "1    402\n",
      "2      7\n",
      "3      3\n",
      "5      1\n",
      "Name: targetSpan, dtype: int64\n",
      "\n",
      "Frequency of alignmentTargetWords:\n",
      "1    849\n",
      "2    402\n",
      "3      7\n",
      "4      3\n",
      "6      1\n",
      "Name: alignmentTargetWords, dtype: int64\n",
      "\n",
      "Frequency of origWordsBetween:\n",
      "0    1256\n",
      "1       6\n",
      "Name: origWordsBetween, dtype: int64\n",
      "\n",
      "Frequency of targetWordsBetween:\n",
      "0    1262\n",
      "Name: targetWordsBetween, dtype: int64\n"
     ]
    }
   ],
   "source": [
    "db.describeAlignments(lemmaAlignments)"
   ]
  },
  {
   "cell_type": "markdown",
   "metadata": {},
   "source": [
    "### Analysis of alignments for θεός in the en_ult:"
   ]
  },
  {
   "cell_type": "markdown",
   "metadata": {},
   "source": [
    "#### Frequency of alignments:"
   ]
  },
  {
   "cell_type": "code",
   "execution_count": 4,
   "metadata": {
    "pycharm": {
     "name": "#%%\n"
    }
   },
   "outputs": [
    {
     "name": "stdout",
     "output_type": "stream",
     "text": [
      "τοῦ Θεοῦ = of God                 204\n",
      "Θεοῦ = God                        188\n",
      "ὁ Θεὸς = God                      164\n",
      "Θεοῦ = of God                      94\n",
      "τοῦ Θεοῦ = God                     81\n",
      "                                 ... \n",
      "Θεοῦ = between God                  1\n",
      "καὶ ὁ Θεὸς = God                    1\n",
      "τῷ Θεῷ = belongs to                 1\n",
      "θεοῦ = God                          1\n",
      "τὸ κατὰ Θεὸν = as God intended      1\n",
      "Name: alignmentTxt, Length: 100, dtype: int64\n"
     ]
    }
   ],
   "source": [
    "lemma = 'θεός'\n",
    "frequency = lemmaAlignments['alignmentTxt'].value_counts()\n",
    "print(frequency)"
   ]
  },
  {
   "cell_type": "markdown",
   "metadata": {},
   "source": [
    "##### Notes:\n",
    "- the left column is the specific alignment, and the right column is the number of times that specific alignment has been made so far in the NT.\n",
    "- alignments that contain more words are more suspect.\n",
    "- in future will combine \"God s\" to \"God's\" before doing analysis\n",
    "<p></p>"
   ]
  },
  {
   "cell_type": "code",
   "execution_count": 5,
   "metadata": {
    "pycharm": {
     "name": "#%%\n"
    }
   },
   "outputs": [
    {
     "data": {
      "text/plain": "<Figure size 432x288 with 1 Axes>",
      "image/png": "[encoded data removed]"
     },
     "metadata": {
      "needs_background": "light"
     },
     "output_type": "display_data"
    }
   ],
   "source": [
    "db.plotFieldFrequency(frequency, \"\", 'alignment', title=\"Frequency of Alignments\", xNumbers=False, xShowTicks=False)"
   ]
  },
  {
   "cell_type": "markdown",
   "metadata": {},
   "source": [
    "### Analysis:"
   ]
  },
  {
   "cell_type": "markdown",
   "metadata": {},
   "source": [
    "#### Analysis of numerical metrics:"
   ]
  },
  {
   "cell_type": "code",
   "execution_count": 6,
   "metadata": {
    "pycharm": {
     "name": "#%%\n"
    }
   },
   "outputs": [
    {
     "name": "stdout",
     "output_type": "stream",
     "text": [
      "Alignments description:\n",
      "          origSpan  alignmentOrigWords   targetSpan  alignmentTargetWords  \\\n",
      "count  1262.000000         1262.000000  1262.000000           1262.000000   \n",
      "mean      0.622029            1.617274     0.340729              1.340729   \n",
      "std       0.518269            0.510122     0.515798              0.515798   \n",
      "min       0.000000            1.000000     0.000000              1.000000   \n",
      "25%       0.000000            1.000000     0.000000              1.000000   \n",
      "50%       1.000000            2.000000     0.000000              1.000000   \n",
      "75%       1.000000            2.000000     1.000000              2.000000   \n",
      "max       2.000000            3.000000     5.000000              6.000000   \n",
      "\n",
      "         frequency  origWordsBetween  targetWordsBetween  \n",
      "count  1262.000000       1262.000000              1262.0  \n",
      "mean      0.085296          0.004754                 0.0  \n",
      "std       0.059068          0.068815                 0.0  \n",
      "min       0.000792          0.000000                 0.0  \n",
      "25%       0.033281          0.000000                 0.0  \n",
      "50%       0.074485          0.000000                 0.0  \n",
      "75%       0.148970          0.000000                 0.0  \n",
      "max       0.161648          1.000000                 0.0  \n"
     ]
    }
   ],
   "source": [
    "descr = lemmaAlignments.describe()\n",
    "print(f\"Alignments description:\\n{descr}\")"
   ]
  },
  {
   "cell_type": "markdown",
   "metadata": {},
   "source": [
    "#### Analysis of distance between first and last original language word:"
   ]
  },
  {
   "cell_type": "code",
   "execution_count": 7,
   "metadata": {
    "pycharm": {
     "name": "#%%\n"
    }
   },
   "outputs": [
    {
     "name": "stdout",
     "output_type": "stream",
     "text": [
      "\n",
      "Frequency of origSpan:\n",
      "0    498\n",
      "1    743\n",
      "2     21\n",
      "Name: origSpan, dtype: int64\n"
     ]
    }
   ],
   "source": [
    "field = 'origSpan'\n",
    "field_frequency = lemmaAlignments[field].value_counts().sort_index()\n",
    "print(f\"\\nFrequency of {field}:\\n{field_frequency}\")"
   ]
  },
  {
   "cell_type": "markdown",
   "metadata": {},
   "source": [
    "##### Notes:\n",
    "- this field is less useful because it includes aligned words, so added originalWordsBetween as more useful normalized metric (see analysis below).\n",
    "<p></p>"
   ]
  },
  {
   "cell_type": "markdown",
   "metadata": {},
   "source": [
    "#### Analysis of distance between first and last target language word:"
   ]
  },
  {
   "cell_type": "code",
   "execution_count": 8,
   "metadata": {
    "pycharm": {
     "name": "#%%\n"
    }
   },
   "outputs": [
    {
     "name": "stdout",
     "output_type": "stream",
     "text": [
      "\n",
      "Frequency of targetSpan:\n",
      "0    849\n",
      "1    402\n",
      "2      7\n",
      "3      3\n",
      "5      1\n",
      "Name: targetSpan, dtype: int64\n"
     ]
    }
   ],
   "source": [
    "field = 'targetSpan'\n",
    "field_frequency = lemmaAlignments[field].value_counts().sort_index()\n",
    "print(f\"\\nFrequency of {field}:\\n{field_frequency}\")"
   ]
  },
  {
   "cell_type": "markdown",
   "metadata": {},
   "source": [
    "##### Notes:\n",
    "- this field is also less useful because it includes the aligned words, so added targetWordsBetween as more useful normalized metric (see analysis below).\n",
    "<p></p>"
   ]
  },
  {
   "cell_type": "markdown",
   "metadata": {},
   "source": [
    "#### Analysis of original language word count:"
   ]
  },
  {
   "cell_type": "code",
   "execution_count": 9,
   "metadata": {
    "pycharm": {
     "name": "#%%\n"
    }
   },
   "outputs": [
    {
     "name": "stdout",
     "output_type": "stream",
     "text": [
      "\n",
      "Frequency of alignmentOrigWords:\n",
      "1    498\n",
      "2    749\n",
      "3     15\n",
      "Name: alignmentOrigWords, dtype: int64\n"
     ]
    }
   ],
   "source": [
    "field = 'alignmentOrigWords'\n",
    "field_frequency = lemmaAlignments[field].value_counts().sort_index()\n",
    "print(f\"\\nFrequency of {field}:\\n{field_frequency}\")"
   ]
  },
  {
   "cell_type": "markdown",
   "metadata": {},
   "source": [
    "##### Notes:\n",
    "- this field analysis suggests for θεός nearly all the original language word counts are tight. The word counts of 3 may need review. So we could probaby use that as a threshold for to flag for review.\n",
    "<p></p>"
   ]
  },
  {
   "cell_type": "markdown",
   "metadata": {
    "pycharm": {
     "name": "#%% md\n"
    }
   },
   "source": [
    "#### Analysis of target language word count:"
   ]
  },
  {
   "cell_type": "code",
   "execution_count": 10,
   "metadata": {
    "pycharm": {
     "name": "#%%\n"
    }
   },
   "outputs": [
    {
     "name": "stdout",
     "output_type": "stream",
     "text": [
      "\n",
      "Frequency of alignmentTargetWords:\n",
      "1    849\n",
      "2    402\n",
      "3      7\n",
      "4      3\n",
      "6      1\n",
      "Name: alignmentTargetWords, dtype: int64\n"
     ]
    }
   ],
   "source": [
    "field = 'alignmentTargetWords'\n",
    "field_frequency = lemmaAlignments[field].value_counts().sort_index()\n",
    "print(f\"\\nFrequency of {field}:\\n{field_frequency}\")"
   ]
  },
  {
   "cell_type": "markdown",
   "metadata": {},
   "source": [
    "##### Notes:\n",
    "- this field analysis suggests that for θεός likely all the target language word counts are tight. The word count of 3 probably good for English (`of a god`). But still we could probaby use that as a threshold for to flag for review.\n",
    "<p></p>"
   ]
  },
  {
   "cell_type": "markdown",
   "metadata": {},
   "source": [
    "#### Analysis of count of extra unaligned words between aligned original language words:"
   ]
  },
  {
   "cell_type": "code",
   "execution_count": 11,
   "metadata": {
    "pycharm": {
     "name": "#%%\n"
    }
   },
   "outputs": [
    {
     "name": "stdout",
     "output_type": "stream",
     "text": [
      "\n",
      "Frequency of origWordsBetween:\n",
      "0    1256\n",
      "1       6\n",
      "Name: origWordsBetween, dtype: int64\n"
     ]
    }
   ],
   "source": [
    "field = 'origWordsBetween'\n",
    "field_frequency = lemmaAlignments[field].value_counts().sort_index()\n",
    "print(f\"\\nFrequency of {field}:\\n{field_frequency}\")"
   ]
  },
  {
   "cell_type": "markdown",
   "metadata": {},
   "source": [
    "##### Notes:\n",
    "- this field analysis suggests that most original language alignments probably good. Probably the cases of a word between (count > 0) aligned words should be reviewed.\n",
    "<p></p>"
   ]
  },
  {
   "cell_type": "markdown",
   "metadata": {},
   "source": [
    "#### Analysis of count of extra unaligned words between aligned target language words:"
   ]
  },
  {
   "cell_type": "code",
   "execution_count": 13,
   "metadata": {
    "pycharm": {
     "name": "#%%\n"
    }
   },
   "outputs": [
    {
     "name": "stdout",
     "output_type": "stream",
     "text": [
      "\n",
      "Frequency of targetWordsBetween:\n",
      "0    1262\n",
      "Name: targetWordsBetween, dtype: int64\n"
     ]
    },
    {
     "data": {
      "text/plain": "<Figure size 432x288 with 1 Axes>",
      "image/png": "[encoded data removed]"
     },
     "metadata": {
      "needs_background": "light"
     },
     "output_type": "display_data"
    }
   ],
   "source": [
    "field = 'targetWordsBetween'\n",
    "field_frequency = lemmaAlignments[field].value_counts().sort_index()\n",
    "print(f\"\\nFrequency of {field}:\\n{field_frequency}\")\n",
    "db.plotFieldFrequency(field_frequency, field, f\"Words Between\", max=10)"
   ]
  },
  {
   "cell_type": "markdown",
   "metadata": {
    "pycharm": {
     "name": "#%% md\n"
    }
   },
   "source": [
    "##### Notes:\n",
    "- this field analysis suggests that most target language alignments probably good. But a bunch look suspicious.  The large gaps between aligned words are likely due to wordmap suggesting wrong occurence of a word and the user selecting. Probably the cases of a word between (count > 0) aligned words should be reviewed.\n",
    "<p></p>"
   ]
  },
  {
   "cell_type": "code",
   "execution_count": 13,
   "outputs": [],
   "source": [],
   "metadata": {
    "collapsed": false,
    "pycharm": {
     "name": "#%%\n"
    }
   }
  },
  {
   "cell_type": "code",
   "execution_count": null,
   "outputs": [],
   "source": [],
   "metadata": {
    "collapsed": false,
    "pycharm": {
     "name": "#%%\n"
    }
   }
  }
 ],
 "metadata": {
  "kernelspec": {
   "display_name": "Python 3",
   "language": "python",
   "name": "python3"
  },
  "language_info": {
   "codemirror_mode": {
    "name": "ipython",
    "version": 3
   },
   "file_extension": ".py",
   "mimetype": "text/x-python",
   "name": "python",
   "nbconvert_exporter": "python",
   "pygments_lexer": "ipython3",
   "version": "3.8.5"
  }
 },
 "nbformat": 4,
 "nbformat_minor": 4
}