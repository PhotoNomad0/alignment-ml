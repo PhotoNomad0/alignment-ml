{
 "cells": [
  {
   "cell_type": "markdown",
   "metadata": {},
   "source": [
    "### Plotting alignment data"
   ]
  },
  {
   "cell_type": "code",
   "execution_count": 1,
   "metadata": {},
   "outputs": [],
   "source": [
    "%matplotlib inline\n",
    "import utils.db_utils as db"
   ]
  },
  {
   "cell_type": "code",
   "execution_count": 2,
   "metadata": {
    "pycharm": {
     "name": "#%%\n"
    }
   },
   "outputs": [
    {
     "data": {
      "text/plain": "          id book_id chapter verse alignment_num    orig_lang_words  \\\n0     311581     mat       1    23            16  ,1281839,1281840,   \n1     312158     mat       3     9            11  ,1282477,1282478,   \n2     312302     mat       3    16            16  ,1282639,1282640,   \n3     312354     mat       4     3             9  ,1282696,1282697,   \n4     312380     mat       4     4            19          ,1282724,   \n...      ...     ...     ...   ...           ...                ...   \n1307  441085     rev      22     5            14  ,1419048,1419049,   \n1308  441104     rev      22     6            11          ,1419073,   \n1309  441172     rev      22     9            21  ,1419150,1419151,   \n1310  441335     rev      22    18            16  ,1419333,1419334,   \n1311  441356     rev      22    19            11  ,1419358,1419359,   \n\n      target_lang_words  origSpan  \\\n0             ,1004186,         1   \n1             ,1005002,         1   \n2     ,1005205,1005206,         1   \n3     ,1005279,1005280,         1   \n4     ,1005313,1005314,         0   \n...                 ...       ...   \n1307          ,1187381,         1   \n1308          ,1187408,         0   \n1309          ,1187512,         1   \n1310          ,1187756,         1   \n1311          ,1187783,         1   \n\n                                              origWords origWordsTxt  \\\n0     [{'id': 1281839, 'book_id': 'mat', 'chapter': ...       ὁ Θεός   \n1     [{'id': 1282477, 'book_id': 'mat', 'chapter': ...       ὁ Θεὸς   \n2     [{'id': 1282639, 'book_id': 'mat', 'chapter': ...     τοῦ Θεοῦ   \n3     [{'id': 1282696, 'book_id': 'mat', 'chapter': ...     τοῦ Θεοῦ   \n4     [{'id': 1282724, 'book_id': 'mat', 'chapter': ...         Θεοῦ   \n...                                                 ...          ...   \n1307  [{'id': 1419048, 'book_id': 'rev', 'chapter': ...       ὁ Θεὸς   \n1308  [{'id': 1419073, 'book_id': 'rev', 'chapter': ...         Θεὸς   \n1309  [{'id': 1419150, 'book_id': 'rev', 'chapter': ...       τῷ Θεῷ   \n1310  [{'id': 1419333, 'book_id': 'rev', 'chapter': ...       ὁ Θεὸς   \n1311  [{'id': 1419358, 'book_id': 'rev', 'chapter': ...       ὁ Θεὸς   \n\n      alignmentOrigWords  targetSpan  \\\n0                      2           0   \n1                      2           0   \n2                      2           1   \n3                      2           1   \n4                      1           1   \n...                  ...         ...   \n1307                   2           0   \n1308                   1           0   \n1309                   2           0   \n1310                   2           0   \n1311                   2           0   \n\n                                            targetWords targetWordsTxt  \\\n0     [{'id': 1004186, 'book_id': 'mat', 'chapter': ...            God   \n1     [{'id': 1005002, 'book_id': 'mat', 'chapter': ...            God   \n2     [{'id': 1005205, 'book_id': 'mat', 'chapter': ...         of God   \n3     [{'id': 1005279, 'book_id': 'mat', 'chapter': ...         of God   \n4     [{'id': 1005313, 'book_id': 'mat', 'chapter': ...         of God   \n...                                                 ...            ...   \n1307  [{'id': 1187381, 'book_id': 'rev', 'chapter': ...            God   \n1308  [{'id': 1187408, 'book_id': 'rev', 'chapter': ...            God   \n1309  [{'id': 1187512, 'book_id': 'rev', 'chapter': ...            God   \n1310  [{'id': 1187756, 'book_id': 'rev', 'chapter': ...            God   \n1311  [{'id': 1187783, 'book_id': 'rev', 'chapter': ...            God   \n\n      alignmentTargetWords       alignmentTxt  frequency  origWordsBetween  \\\n0                        1       ὁ Θεός = God   0.041159                 0   \n1                        1       ὁ Θεὸς = God   0.127287                 0   \n2                        2  τοῦ Θεοῦ = of God   0.167683                 0   \n3                        2  τοῦ Θεοῦ = of God   0.167683                 0   \n4                        2      Θεοῦ = of God   0.076220                 0   \n...                    ...                ...        ...               ...   \n1307                     1       ὁ Θεὸς = God   0.127287                 0   \n1308                     1         Θεὸς = God   0.036585                 0   \n1309                     1       τῷ Θεῷ = God   0.031250                 0   \n1310                     1       ὁ Θεὸς = God   0.127287                 0   \n1311                     1       ὁ Θεὸς = God   0.127287                 0   \n\n      targetWordsBetween  \n0                      0  \n1                      0  \n2                      0  \n3                      0  \n4                      0  \n...                  ...  \n1307                   0  \n1308                   0  \n1309                   0  \n1310                   0  \n1311                   0  \n\n[1312 rows x 19 columns]",
      "text/html": "<div>\n<style scoped>\n    .dataframe tbody tr th:only-of-type {\n        vertical-align: middle;\n    }\n\n    .dataframe tbody tr th {\n        vertical-align: top;\n    }\n\n    .dataframe thead th {\n        text-align: right;\n    }\n</style>\n<table border=\"1\" class=\"dataframe\">\n  <thead>\n    <tr style=\"text-align: right;\">\n      <th></th>\n      <th>id</th>\n      <th>book_id</th>\n      <th>chapter</th>\n      <th>verse</th>\n      <th>alignment_num</th>\n      <th>orig_lang_words</th>\n      <th>target_lang_words</th>\n      <th>origSpan</th>\n      <th>origWords</th>\n      <th>origWordsTxt</th>\n      <th>alignmentOrigWords</th>\n      <th>targetSpan</th>\n      <th>targetWords</th>\n      <th>targetWordsTxt</th>\n      <th>alignmentTargetWords</th>\n      <th>alignmentTxt</th>\n      <th>frequency</th>\n      <th>origWordsBetween</th>\n      <th>targetWordsBetween</th>\n    </tr>\n  </thead>\n  <tbody>\n    <tr>\n      <th>0</th>\n      <td>311581</td>\n      <td>mat</td>\n      <td>1</td>\n      <td>23</td>\n      <td>16</td>\n      <td>,1281839,1281840,</td>\n      <td>,1004186,</td>\n      <td>1</td>\n      <td>[{'id': 1281839, 'book_id': 'mat', 'chapter': ...</td>\n      <td>ὁ Θεός</td>\n      <td>2</td>\n      <td>0</td>\n      <td>[{'id': 1004186, 'book_id': 'mat', 'chapter': ...</td>\n      <td>God</td>\n      <td>1</td>\n      <td>ὁ Θεός = God</td>\n      <td>0.041159</td>\n      <td>0</td>\n      <td>0</td>\n    </tr>\n    <tr>\n      <th>1</th>\n      <td>312158</td>\n      <td>mat</td>\n      <td>3</td>\n      <td>9</td>\n      <td>11</td>\n      <td>,1282477,1282478,</td>\n      <td>,1005002,</td>\n      <td>1</td>\n      <td>[{'id': 1282477, 'book_id': 'mat', 'chapter': ...</td>\n      <td>ὁ Θεὸς</td>\n      <td>2</td>\n      <td>0</td>\n      <td>[{'id': 1005002, 'book_id': 'mat', 'chapter': ...</td>\n      <td>God</td>\n      <td>1</td>\n      <td>ὁ Θεὸς = God</td>\n      <td>0.127287</td>\n      <td>0</td>\n      <td>0</td>\n    </tr>\n    <tr>\n      <th>2</th>\n      <td>312302</td>\n      <td>mat</td>\n      <td>3</td>\n      <td>16</td>\n      <td>16</td>\n      <td>,1282639,1282640,</td>\n      <td>,1005205,1005206,</td>\n      <td>1</td>\n      <td>[{'id': 1282639, 'book_id': 'mat', 'chapter': ...</td>\n      <td>τοῦ Θεοῦ</td>\n      <td>2</td>\n      <td>1</td>\n      <td>[{'id': 1005205, 'book_id': 'mat', 'chapter': ...</td>\n      <td>of God</td>\n      <td>2</td>\n      <td>τοῦ Θεοῦ = of God</td>\n      <td>0.167683</td>\n      <td>0</td>\n      <td>0</td>\n    </tr>\n    <tr>\n      <th>3</th>\n      <td>312354</td>\n      <td>mat</td>\n      <td>4</td>\n      <td>3</td>\n      <td>9</td>\n      <td>,1282696,1282697,</td>\n      <td>,1005279,1005280,</td>\n      <td>1</td>\n      <td>[{'id': 1282696, 'book_id': 'mat', 'chapter': ...</td>\n      <td>τοῦ Θεοῦ</td>\n      <td>2</td>\n      <td>1</td>\n      <td>[{'id': 1005279, 'book_id': 'mat', 'chapter': ...</td>\n      <td>of God</td>\n      <td>2</td>\n      <td>τοῦ Θεοῦ = of God</td>\n      <td>0.167683</td>\n      <td>0</td>\n      <td>0</td>\n    </tr>\n    <tr>\n      <th>4</th>\n      <td>312380</td>\n      <td>mat</td>\n      <td>4</td>\n      <td>4</td>\n      <td>19</td>\n      <td>,1282724,</td>\n      <td>,1005313,1005314,</td>\n      <td>0</td>\n      <td>[{'id': 1282724, 'book_id': 'mat', 'chapter': ...</td>\n      <td>Θεοῦ</td>\n      <td>1</td>\n      <td>1</td>\n      <td>[{'id': 1005313, 'book_id': 'mat', 'chapter': ...</td>\n      <td>of God</td>\n      <td>2</td>\n      <td>Θεοῦ = of God</td>\n      <td>0.076220</td>\n      <td>0</td>\n      <td>0</td>\n    </tr>\n    <tr>\n      <th>...</th>\n      <td>...</td>\n      <td>...</td>\n      <td>...</td>\n      <td>...</td>\n      <td>...</td>\n      <td>...</td>\n      <td>...</td>\n      <td>...</td>\n      <td>...</td>\n      <td>...</td>\n      <td>...</td>\n      <td>...</td>\n      <td>...</td>\n      <td>...</td>\n      <td>...</td>\n      <td>...</td>\n      <td>...</td>\n      <td>...</td>\n      <td>...</td>\n    </tr>\n    <tr>\n      <th>1307</th>\n      <td>441085</td>\n      <td>rev</td>\n      <td>22</td>\n      <td>5</td>\n      <td>14</td>\n      <td>,1419048,1419049,</td>\n      <td>,1187381,</td>\n      <td>1</td>\n      <td>[{'id': 1419048, 'book_id': 'rev', 'chapter': ...</td>\n      <td>ὁ Θεὸς</td>\n      <td>2</td>\n      <td>0</td>\n      <td>[{'id': 1187381, 'book_id': 'rev', 'chapter': ...</td>\n      <td>God</td>\n      <td>1</td>\n      <td>ὁ Θεὸς = God</td>\n      <td>0.127287</td>\n      <td>0</td>\n      <td>0</td>\n    </tr>\n    <tr>\n      <th>1308</th>\n      <td>441104</td>\n      <td>rev</td>\n      <td>22</td>\n      <td>6</td>\n      <td>11</td>\n      <td>,1419073,</td>\n      <td>,1187408,</td>\n      <td>0</td>\n      <td>[{'id': 1419073, 'book_id': 'rev', 'chapter': ...</td>\n      <td>Θεὸς</td>\n      <td>1</td>\n      <td>0</td>\n      <td>[{'id': 1187408, 'book_id': 'rev', 'chapter': ...</td>\n      <td>God</td>\n      <td>1</td>\n      <td>Θεὸς = God</td>\n      <td>0.036585</td>\n      <td>0</td>\n      <td>0</td>\n    </tr>\n    <tr>\n      <th>1309</th>\n      <td>441172</td>\n      <td>rev</td>\n      <td>22</td>\n      <td>9</td>\n      <td>21</td>\n      <td>,1419150,1419151,</td>\n      <td>,1187512,</td>\n      <td>1</td>\n      <td>[{'id': 1419150, 'book_id': 'rev', 'chapter': ...</td>\n      <td>τῷ Θεῷ</td>\n      <td>2</td>\n      <td>0</td>\n      <td>[{'id': 1187512, 'book_id': 'rev', 'chapter': ...</td>\n      <td>God</td>\n      <td>1</td>\n      <td>τῷ Θεῷ = God</td>\n      <td>0.031250</td>\n      <td>0</td>\n      <td>0</td>\n    </tr>\n    <tr>\n      <th>1310</th>\n      <td>441335</td>\n      <td>rev</td>\n      <td>22</td>\n      <td>18</td>\n      <td>16</td>\n      <td>,1419333,1419334,</td>\n      <td>,1187756,</td>\n      <td>1</td>\n      <td>[{'id': 1419333, 'book_id': 'rev', 'chapter': ...</td>\n      <td>ὁ Θεὸς</td>\n      <td>2</td>\n      <td>0</td>\n      <td>[{'id': 1187756, 'book_id': 'rev', 'chapter': ...</td>\n      <td>God</td>\n      <td>1</td>\n      <td>ὁ Θεὸς = God</td>\n      <td>0.127287</td>\n      <td>0</td>\n      <td>0</td>\n    </tr>\n    <tr>\n      <th>1311</th>\n      <td>441356</td>\n      <td>rev</td>\n      <td>22</td>\n      <td>19</td>\n      <td>11</td>\n      <td>,1419358,1419359,</td>\n      <td>,1187783,</td>\n      <td>1</td>\n      <td>[{'id': 1419358, 'book_id': 'rev', 'chapter': ...</td>\n      <td>ὁ Θεὸς</td>\n      <td>2</td>\n      <td>0</td>\n      <td>[{'id': 1187783, 'book_id': 'rev', 'chapter': ...</td>\n      <td>God</td>\n      <td>1</td>\n      <td>ὁ Θεὸς = God</td>\n      <td>0.127287</td>\n      <td>0</td>\n      <td>0</td>\n    </tr>\n  </tbody>\n</table>\n<p>1312 rows × 19 columns</p>\n</div>"
     },
     "execution_count": 2,
     "metadata": {},
     "output_type": "execute_result"
    }
   ],
   "source": [
    "lemma = 'θεός'\n",
    "lemmaAlignments = db.loadAlignmentDataFromFile(lemma)\n",
    "lemmaAlignments"
   ]
  },
  {
   "cell_type": "code",
   "execution_count": 3,
   "metadata": {
    "pycharm": {
     "name": "#%%\n"
    }
   },
   "outputs": [
    {
     "name": "stdout",
     "output_type": "stream",
     "text": [
      "Alignments description:\n",
      "          origSpan  alignmentOrigWords   targetSpan  alignmentTargetWords  \\\n",
      "count  1312.000000         1312.000000  1312.000000           1312.000000   \n",
      "mean      0.624238            1.619665     0.350610              1.350610   \n",
      "std       0.519453            0.511659     0.525998              0.525998   \n",
      "min       0.000000            1.000000     0.000000              1.000000   \n",
      "25%       0.000000            1.000000     0.000000              1.000000   \n",
      "50%       1.000000            2.000000     0.000000              1.000000   \n",
      "75%       1.000000            2.000000     1.000000              2.000000   \n",
      "max       2.000000            3.000000     5.000000              6.000000   \n",
      "\n",
      "         frequency  origWordsBetween  targetWordsBetween  \n",
      "count  1312.000000       1312.000000              1312.0  \n",
      "mean      0.085489          0.004573                 0.0  \n",
      "std       0.059674          0.067496                 0.0  \n",
      "min       0.000762          0.000000                 0.0  \n",
      "25%       0.033537          0.000000                 0.0  \n",
      "50%       0.076220          0.000000                 0.0  \n",
      "75%       0.144817          0.000000                 0.0  \n",
      "max       0.167683          1.000000                 0.0  \n",
      "fields = ['origSpan', 'alignmentOrigWords', 'targetSpan', 'alignmentTargetWords', 'frequency', 'origWordsBetween', 'targetWordsBetween']\n",
      "\n",
      "Frequency of origSpan:\n",
      "1    773\n",
      "0    516\n",
      "2     23\n",
      "Name: origSpan, dtype: int64\n",
      "\n",
      "Frequency of alignmentOrigWords:\n",
      "2    779\n",
      "1    516\n",
      "3     17\n",
      "Name: alignmentOrigWords, dtype: int64\n",
      "\n",
      "Frequency of targetSpan:\n",
      "0    872\n",
      "1    428\n",
      "2      7\n",
      "3      3\n",
      "5      1\n",
      "4      1\n",
      "Name: targetSpan, dtype: int64\n",
      "\n",
      "Frequency of alignmentTargetWords:\n",
      "1    872\n",
      "2    428\n",
      "3      7\n",
      "4      3\n",
      "6      1\n",
      "5      1\n",
      "Name: alignmentTargetWords, dtype: int64\n",
      "\n",
      "Frequency of origWordsBetween:\n",
      "0    1306\n",
      "1       6\n",
      "Name: origWordsBetween, dtype: int64\n",
      "\n",
      "Frequency of targetWordsBetween:\n",
      "0    1312\n",
      "Name: targetWordsBetween, dtype: int64\n"
     ]
    }
   ],
   "source": [
    "db.describeAlignments(lemmaAlignments)"
   ]
  },
  {
   "cell_type": "markdown",
   "metadata": {},
   "source": [
    "### Analysis of alignments for θεός in the en_ult:"
   ]
  },
  {
   "cell_type": "markdown",
   "metadata": {},
   "source": [
    "#### Frequency of alignments:"
   ]
  },
  {
   "cell_type": "code",
   "execution_count": 4,
   "metadata": {
    "pycharm": {
     "name": "#%%\n"
    }
   },
   "outputs": [
    {
     "name": "stdout",
     "output_type": "stream",
     "text": [
      "τοῦ Θεοῦ = of God           220\n",
      "Θεοῦ = God                  190\n",
      "ὁ Θεὸς = God                167\n",
      "Θεοῦ = of God               100\n",
      "τοῦ Θεοῦ = God               82\n",
      "                           ... \n",
      "καὶ Θεῷ = God                 1\n",
      "Θεὸς = is God                 1\n",
      "Θεὸν = a                      1\n",
      "εἰς Θεόν = God                1\n",
      "ὁ γὰρ Θεὸς = because God      1\n",
      "Name: alignmentTxt, Length: 104, dtype: int64\n"
     ]
    }
   ],
   "source": [
    "lemma = 'θεός'\n",
    "frequency = lemmaAlignments['alignmentTxt'].value_counts()\n",
    "print(frequency)"
   ]
  },
  {
   "cell_type": "markdown",
   "metadata": {},
   "source": [
    "##### Notes:\n",
    "- the left column is the specific alignment, and the right column is the number of times that specific alignment has been made so far in the NT.\n",
    "- alignments that contain more words are more suspect.\n",
    "- in future will combine \"God s\" to \"God's\" before doing analysis\n",
    "<p></p>"
   ]
  },
  {
   "cell_type": "code",
   "execution_count": 5,
   "metadata": {
    "pycharm": {
     "name": "#%%\n"
    }
   },
   "outputs": [
    {
     "data": {
      "text/plain": "<Figure size 432x288 with 1 Axes>",
      "image/png": "[encoded data removed]"
     },
     "metadata": {
      "needs_background": "light"
     },
     "output_type": "display_data"
    }
   ],
   "source": [
    "db.plotFieldFrequency(frequency, \"\", 'alignment', title=\"Frequency of Alignments\", xNumbers=False, xShowTicks=False)"
   ]
  },
  {
   "cell_type": "markdown",
   "metadata": {},
   "source": [
    "### Analysis:"
   ]
  },
  {
   "cell_type": "markdown",
   "metadata": {},
   "source": [
    "#### Analysis of numerical metrics:"
   ]
  },
  {
   "cell_type": "code",
   "execution_count": 6,
   "metadata": {
    "pycharm": {
     "name": "#%%\n"
    }
   },
   "outputs": [
    {
     "name": "stdout",
     "output_type": "stream",
     "text": [
      "Alignments description:\n",
      "          origSpan  alignmentOrigWords   targetSpan  alignmentTargetWords  \\\n",
      "count  1312.000000         1312.000000  1312.000000           1312.000000   \n",
      "mean      0.624238            1.619665     0.388720              1.388720   \n",
      "std       0.519453            0.511659     0.548038              0.548038   \n",
      "min       0.000000            1.000000     0.000000              1.000000   \n",
      "25%       0.000000            1.000000     0.000000              1.000000   \n",
      "50%       1.000000            2.000000     0.000000              1.000000   \n",
      "75%       1.000000            2.000000     1.000000              2.000000   \n",
      "max       2.000000            3.000000     5.000000              6.000000   \n",
      "\n",
      "         frequency  origWordsBetween  targetWordsBetween  \n",
      "count  1312.000000       1312.000000              1312.0  \n",
      "mean      0.085489          0.004573                 0.0  \n",
      "std       0.059674          0.067496                 0.0  \n",
      "min       0.000762          0.000000                 0.0  \n",
      "25%       0.033537          0.000000                 0.0  \n",
      "50%       0.076220          0.000000                 0.0  \n",
      "75%       0.144817          0.000000                 0.0  \n",
      "max       0.167683          1.000000                 0.0  \n"
     ]
    }
   ],
   "source": [
    "descr = lemmaAlignments.describe()\n",
    "print(f\"Alignments description:\\n{descr}\")"
   ]
  },
  {
   "cell_type": "markdown",
   "metadata": {},
   "source": [
    "#### Analysis of distance between first and last original language word:"
   ]
  },
  {
   "cell_type": "code",
   "execution_count": 7,
   "metadata": {
    "pycharm": {
     "name": "#%%\n"
    }
   },
   "outputs": [
    {
     "name": "stdout",
     "output_type": "stream",
     "text": [
      "\n",
      "Frequency of origSpan:\n",
      "0    516\n",
      "1    773\n",
      "2     23\n",
      "Name: origSpan, dtype: int64\n"
     ]
    }
   ],
   "source": [
    "field = 'origSpan'\n",
    "field_frequency = lemmaAlignments[field].value_counts().sort_index()\n",
    "print(f\"\\nFrequency of {field}:\\n{field_frequency}\")"
   ]
  },
  {
   "cell_type": "markdown",
   "metadata": {},
   "source": [
    "##### Notes:\n",
    "- this field is less useful because it includes aligned words, so added originalWordsBetween as more useful normalized metric (see analysis below).\n",
    "<p></p>"
   ]
  },
  {
   "cell_type": "markdown",
   "metadata": {},
   "source": [
    "#### Analysis of distance between first and last target language word:"
   ]
  },
  {
   "cell_type": "code",
   "execution_count": 8,
   "metadata": {
    "pycharm": {
     "name": "#%%\n"
    }
   },
   "outputs": [
    {
     "name": "stdout",
     "output_type": "stream",
     "text": [
      "\n",
      "Frequency of targetSpan:\n",
      "0    827\n",
      "1    470\n",
      "2      9\n",
      "3      4\n",
      "5      2\n",
      "Name: targetSpan, dtype: int64\n"
     ]
    }
   ],
   "source": [
    "field = 'targetSpan'\n",
    "field_frequency = lemmaAlignments[field].value_counts().sort_index()\n",
    "print(f\"\\nFrequency of {field}:\\n{field_frequency}\")"
   ]
  },
  {
   "cell_type": "markdown",
   "metadata": {},
   "source": [
    "##### Notes:\n",
    "- this field is also less useful because it includes the aligned words, so added targetWordsBetween as more useful normalized metric (see analysis below).\n",
    "<p></p>"
   ]
  },
  {
   "cell_type": "markdown",
   "metadata": {},
   "source": [
    "#### Analysis of original language word count:"
   ]
  },
  {
   "cell_type": "code",
   "execution_count": 9,
   "metadata": {
    "pycharm": {
     "name": "#%%\n"
    }
   },
   "outputs": [
    {
     "name": "stdout",
     "output_type": "stream",
     "text": [
      "\n",
      "Frequency of alignmentOrigWords:\n",
      "1    516\n",
      "2    779\n",
      "3     17\n",
      "Name: alignmentOrigWords, dtype: int64\n"
     ]
    }
   ],
   "source": [
    "field = 'alignmentOrigWords'\n",
    "field_frequency = lemmaAlignments[field].value_counts().sort_index()\n",
    "print(f\"\\nFrequency of {field}:\\n{field_frequency}\")"
   ]
  },
  {
   "cell_type": "markdown",
   "metadata": {},
   "source": [
    "##### Notes:\n",
    "- this field analysis suggests for θεός nearly all the original language word counts are tight. The word counts of 3 may need review. So we could probaby use that as a threshold for to flag for review.\n",
    "<p></p>"
   ]
  },
  {
   "cell_type": "markdown",
   "metadata": {
    "pycharm": {
     "name": "#%% md\n"
    }
   },
   "source": [
    "#### Analysis of target language word count:"
   ]
  },
  {
   "cell_type": "code",
   "execution_count": 10,
   "metadata": {
    "pycharm": {
     "name": "#%%\n"
    }
   },
   "outputs": [
    {
     "name": "stdout",
     "output_type": "stream",
     "text": [
      "\n",
      "Frequency of alignmentTargetWords:\n",
      "1    827\n",
      "2    470\n",
      "3      9\n",
      "4      4\n",
      "6      2\n",
      "Name: alignmentTargetWords, dtype: int64\n"
     ]
    }
   ],
   "source": [
    "field = 'alignmentTargetWords'\n",
    "field_frequency = lemmaAlignments[field].value_counts().sort_index()\n",
    "print(f\"\\nFrequency of {field}:\\n{field_frequency}\")"
   ]
  },
  {
   "cell_type": "markdown",
   "metadata": {},
   "source": [
    "##### Notes:\n",
    "- this field analysis suggests that for θεός likely all the target language word counts are tight. The word count of 3 probably good for English (`of a god`). But still we could probaby use that as a threshold for to flag for review.\n",
    "<p></p>"
   ]
  },
  {
   "cell_type": "markdown",
   "metadata": {},
   "source": [
    "#### Analysis of count of extra unaligned words between aligned original language words:"
   ]
  },
  {
   "cell_type": "code",
   "execution_count": 11,
   "metadata": {
    "pycharm": {
     "name": "#%%\n"
    }
   },
   "outputs": [
    {
     "name": "stdout",
     "output_type": "stream",
     "text": [
      "\n",
      "Frequency of origWordsBetween:\n",
      "0    1306\n",
      "1       6\n",
      "Name: origWordsBetween, dtype: int64\n"
     ]
    }
   ],
   "source": [
    "field = 'origWordsBetween'\n",
    "field_frequency = lemmaAlignments[field].value_counts().sort_index()\n",
    "print(f\"\\nFrequency of {field}:\\n{field_frequency}\")"
   ]
  },
  {
   "cell_type": "markdown",
   "metadata": {},
   "source": [
    "##### Notes:\n",
    "- this field analysis suggests that most original language alignments probably good. Probably the cases of a word between (count > 0) aligned words should be reviewed.\n",
    "<p></p>"
   ]
  },
  {
   "cell_type": "markdown",
   "metadata": {},
   "source": [
    "#### Analysis of count of extra unaligned words between aligned target language words:"
   ]
  },
  {
   "cell_type": "code",
   "execution_count": 12,
   "metadata": {
    "pycharm": {
     "name": "#%%\n"
    }
   },
   "outputs": [
    {
     "name": "stdout",
     "output_type": "stream",
     "text": [
      "\n",
      "Frequency of targetWordsBetween:\n",
      "0    1312\n",
      "Name: targetWordsBetween, dtype: int64\n"
     ]
    },
    {
     "data": {
      "text/plain": "<Figure size 432x288 with 1 Axes>",
      "image/png": "[encoded data removed]"
     },
     "metadata": {
      "needs_background": "light"
     },
     "output_type": "display_data"
    }
   ],
   "source": [
    "field = 'targetWordsBetween'\n",
    "field_frequency = lemmaAlignments[field].value_counts().sort_index()\n",
    "print(f\"\\nFrequency of {field}:\\n{field_frequency}\")\n",
    "db.plotFieldFrequency(field_frequency, field, f\"Words Between\", max=20)"
   ]
  },
  {
   "cell_type": "markdown",
   "metadata": {
    "pycharm": {
     "name": "#%% md\n"
    }
   },
   "source": [
    "##### Notes:\n",
    "- this field analysis suggests that most target language alignments probably good. But a bunch look suspicious.  The large gaps between aligned words are likely due to wordmap suggesting wrong occurence of a word and the user selecting. Probably the cases of a word between (count > 0) aligned words should be reviewed.\n",
    "<p></p>\n"
   ]
  }
 ],
 "metadata": {
  "kernelspec": {
   "display_name": "Python 3",
   "language": "python",
   "name": "python3"
  },
  "language_info": {
   "codemirror_mode": {
    "name": "ipython",
    "version": 3
   },
   "file_extension": ".py",
   "mimetype": "text/x-python",
   "name": "python",
   "nbconvert_exporter": "python",
   "pygments_lexer": "ipython3",
   "version": "3.8.5"
  }
 },
 "nbformat": 4,
 "nbformat_minor": 4
}