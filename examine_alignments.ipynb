{
 "cells": [
  {
   "cell_type": "code",
   "execution_count": 1,
   "metadata": {},
   "outputs": [],
   "source": [
    "# Install a pip package in the current Jupyter kernel\n",
    "# import sys\n",
    "# !{sys.executable} -m pip install pandas"
   ]
  },
  {
   "cell_type": "code",
   "execution_count": 1,
   "metadata": {},
   "outputs": [
    {
     "name": "stdout",
     "output_type": "stream",
     "text": [
      "Connection to SQLite DB successful\n",
      "160496 items in target_words_table\n",
      "113586 items in alignment_table\n",
      "443108 items in original_words_table\n"
     ]
    }
   ],
   "source": [
    "import pandas as pd\n",
    "import utils.db_utils as db\n",
    "import utils.file_utils as file\n",
    "import utils.bible_utils as bible\n",
    "import utils.morph_utils as morph\n",
    "\n",
    "original_words_table = db.original_words_table\n",
    "target_words_table = db.target_words_table\n",
    "alignment_table = db.alignment_table\n",
    "dbPath = './data/en_ult_alignments.sqlite'\n",
    "origLangPathGreek = './data/OrigLangJson/ugnt/v0.14'\n",
    "origLangPathHebrew = './data/OrigLangJson/uhb/v2.1.15'\n",
    "\n",
    "connection = db.initAlignmentDB(dbPath)\n",
    "\n",
    "items_target = db.fetchRecords(connection, target_words_table, '')\n",
    "print (f\"{len(items_target)} items in target_words_table\")\n",
    "\n",
    "items_align = db.fetchRecords(connection, alignment_table, '')\n",
    "print (f\"{len(items_align)} items in alignment_table\")\n",
    "\n",
    "items_orig = db.fetchRecords(connection, original_words_table, '')\n",
    "print (f\"{len(items_orig)} items in original_words_table\")\n",
    "\n",
    "# 69050 items in target_words_table\n",
    "# 48892 items in alignment_table\n",
    "# 52996 items in original_words_table\n",
    "\n",
    "searchOriginal = True\n",
    "searchTarget = False\n",
    "searchLemma = True\n",
    "caseInsensitive = True"
   ]
  },
  {
   "cell_type": "code",
   "execution_count": 3,
   "metadata": {},
   "outputs": [
    {
     "data": {
      "text/plain": "Θεοῦ = God            138\nΘεοῦ = of God          40\nτοῦ Θεοῦ = God         39\nτοῦ Θεοῦ = of God      34\nτοῦ Θεοῦ = God s        2\nΘεοῦ = by God           1\nΘεοῦ = God s            1\nτοῦ Θεοῦ = for God      1\nΘεοῦ = of a god         1\nΘεοῦ = between God      1\nName: alignmentTxt, dtype: int64"
     },
     "execution_count": 3,
     "metadata": {},
     "output_type": "execute_result"
    }
   ],
   "source": [
    "# find exact word Θεοῦ in original language\n",
    "godAlignments = db.findAlignmentsForWord(connection, 'Θεοῦ', searchOriginal)\n",
    "# frequency of alignments\n",
    "frequency = godAlignments['alignmentTxt'].value_counts()\n",
    "frequency"
   ]
  },
  {
   "cell_type": "code",
   "execution_count": 4,
   "metadata": {},
   "outputs": [
    {
     "data": {
      "text/plain": "         origSpan  alignmentOrigWords  targetSpan  alignmentTargetWords  \\\ncount  258.000000          258.000000   258.00000            258.000000   \nmean     0.294574            1.294574     0.51938              1.317829   \nstd      0.456737            0.456737     1.58102              0.474805   \nmin      0.000000            1.000000     0.00000              1.000000   \n25%      0.000000            1.000000     0.00000              1.000000   \n50%      0.000000            1.000000     0.00000              1.000000   \n75%      1.000000            2.000000     1.00000              2.000000   \nmax      1.000000            2.000000    18.00000              3.000000   \n\n        frequency  origWordsBetween  targetWordsBetween  \ncount  258.000000             258.0          258.000000  \nmean     0.350490               0.0            0.201550  \nstd      0.199529               0.0            1.413552  \nmin      0.003876               0.0            0.000000  \n25%      0.151163               0.0            0.000000  \n50%      0.534884               0.0            0.000000  \n75%      0.534884               0.0            0.000000  \nmax      0.534884               0.0           17.000000  ",
      "text/html": "<div>\n<style scoped>\n    .dataframe tbody tr th:only-of-type {\n        vertical-align: middle;\n    }\n\n    .dataframe tbody tr th {\n        vertical-align: top;\n    }\n\n    .dataframe thead th {\n        text-align: right;\n    }\n</style>\n<table border=\"1\" class=\"dataframe\">\n  <thead>\n    <tr style=\"text-align: right;\">\n      <th></th>\n      <th>origSpan</th>\n      <th>alignmentOrigWords</th>\n      <th>targetSpan</th>\n      <th>alignmentTargetWords</th>\n      <th>frequency</th>\n      <th>origWordsBetween</th>\n      <th>targetWordsBetween</th>\n    </tr>\n  </thead>\n  <tbody>\n    <tr>\n      <th>count</th>\n      <td>258.000000</td>\n      <td>258.000000</td>\n      <td>258.00000</td>\n      <td>258.000000</td>\n      <td>258.000000</td>\n      <td>258.0</td>\n      <td>258.000000</td>\n    </tr>\n    <tr>\n      <th>mean</th>\n      <td>0.294574</td>\n      <td>1.294574</td>\n      <td>0.51938</td>\n      <td>1.317829</td>\n      <td>0.350490</td>\n      <td>0.0</td>\n      <td>0.201550</td>\n    </tr>\n    <tr>\n      <th>std</th>\n      <td>0.456737</td>\n      <td>0.456737</td>\n      <td>1.58102</td>\n      <td>0.474805</td>\n      <td>0.199529</td>\n      <td>0.0</td>\n      <td>1.413552</td>\n    </tr>\n    <tr>\n      <th>min</th>\n      <td>0.000000</td>\n      <td>1.000000</td>\n      <td>0.00000</td>\n      <td>1.000000</td>\n      <td>0.003876</td>\n      <td>0.0</td>\n      <td>0.000000</td>\n    </tr>\n    <tr>\n      <th>25%</th>\n      <td>0.000000</td>\n      <td>1.000000</td>\n      <td>0.00000</td>\n      <td>1.000000</td>\n      <td>0.151163</td>\n      <td>0.0</td>\n      <td>0.000000</td>\n    </tr>\n    <tr>\n      <th>50%</th>\n      <td>0.000000</td>\n      <td>1.000000</td>\n      <td>0.00000</td>\n      <td>1.000000</td>\n      <td>0.534884</td>\n      <td>0.0</td>\n      <td>0.000000</td>\n    </tr>\n    <tr>\n      <th>75%</th>\n      <td>1.000000</td>\n      <td>2.000000</td>\n      <td>1.00000</td>\n      <td>2.000000</td>\n      <td>0.534884</td>\n      <td>0.0</td>\n      <td>0.000000</td>\n    </tr>\n    <tr>\n      <th>max</th>\n      <td>1.000000</td>\n      <td>2.000000</td>\n      <td>18.00000</td>\n      <td>3.000000</td>\n      <td>0.534884</td>\n      <td>0.0</td>\n      <td>17.000000</td>\n    </tr>\n  </tbody>\n</table>\n</div>"
     },
     "execution_count": 4,
     "metadata": {},
     "output_type": "execute_result"
    }
   ],
   "source": [
    "godAlignments.describe()"
   ]
  },
  {
   "cell_type": "code",
   "execution_count": 5,
   "metadata": {},
   "outputs": [
    {
     "data": {
      "text/plain": "Θεοῦ = God             138\nὁ Θεὸς = God            80\nΘεοῦ = of God           40\nτοῦ Θεοῦ = God          39\nτὸν Θεόν = God          37\nτοῦ Θεοῦ = of God       34\nτὸν Θεὸν = God          22\nΘεῷ = God               21\nΘεὸς = God              18\nτῷ Θεῷ = God            14\nὁ Θεός = God            12\nΘεὸν = God               9\nτῷ Θεῷ = to God          6\nΘεὸς = the God           3\nτοῦ Θεοῦ = God s         2\nΘεῷ = the God            2\nΘεὸν = the God           2\nΘεόν = God               2\nθεοὶ = gods              2\nθεοὺς = gods             1\nΘεός = God               1\nθεόν = a god             1\nΘεῷ = with God           1\nΘεὸν = a God             1\nὁ δὲ Θεός = But God      1\nὁ Θεὸς = god is          1\nΘεῷ = to God             1\nὁ Θεός = God is          1\nθεοῦ = God               1\nὅτι ὁ Θεὸς = God         1\nΘεοῦ = God s             1\nΘεοῦ = by God            1\nΘεῷ = an God             1\nΘεοῦ = of a god          1\nθεοῖς = gods             1\nτοῦ Θεοῦ = for God       1\nθεὸν = goddess           1\nΘεοῦ = between God       1\nθεοῦ = god               1\nὁ Θεὸς = but God         1\nName: alignmentTxt, dtype: int64"
     },
     "execution_count": 5,
     "metadata": {},
     "output_type": "execute_result"
    }
   ],
   "source": [
    "# find all forms of θεός in original language by lemma\n",
    "godAlignments = db.findAlignmentsForWord(connection, 'θεός', searchOriginal, searchLemma)\n",
    "# frequency of alignments\n",
    "frequency = godAlignments['alignmentTxt'].value_counts()\n",
    "frequency"
   ]
  },
  {
   "cell_type": "code",
   "execution_count": 6,
   "metadata": {},
   "outputs": [
    {
     "data": {
      "text/plain": "         origSpan  alignmentOrigWords  targetSpan  alignmentTargetWords  \\\ncount  504.000000          504.000000  504.000000            504.000000   \nmean     0.517857            1.503968    0.319444              1.206349   \nstd      0.534755            0.508364    1.177632              0.409965   \nmin      0.000000            1.000000    0.000000              1.000000   \n25%      0.000000            1.000000    0.000000              1.000000   \n50%      0.500000            1.500000    0.000000              1.000000   \n75%      1.000000            2.000000    0.000000              1.000000   \nmax      2.000000            3.000000   18.000000              3.000000   \n\n        frequency  origWordsBetween  targetWordsBetween  \ncount  504.000000        504.000000          504.000000  \nmean     0.129307          0.013889            0.113095  \nstd      0.098672          0.117146            1.019252  \nmin      0.001984          0.000000            0.000000  \n25%      0.043651          0.000000            0.000000  \n50%      0.079365          0.000000            0.000000  \n75%      0.273810          0.000000            0.000000  \nmax      0.273810          1.000000           17.000000  ",
      "text/html": "<div>\n<style scoped>\n    .dataframe tbody tr th:only-of-type {\n        vertical-align: middle;\n    }\n\n    .dataframe tbody tr th {\n        vertical-align: top;\n    }\n\n    .dataframe thead th {\n        text-align: right;\n    }\n</style>\n<table border=\"1\" class=\"dataframe\">\n  <thead>\n    <tr style=\"text-align: right;\">\n      <th></th>\n      <th>origSpan</th>\n      <th>alignmentOrigWords</th>\n      <th>targetSpan</th>\n      <th>alignmentTargetWords</th>\n      <th>frequency</th>\n      <th>origWordsBetween</th>\n      <th>targetWordsBetween</th>\n    </tr>\n  </thead>\n  <tbody>\n    <tr>\n      <th>count</th>\n      <td>504.000000</td>\n      <td>504.000000</td>\n      <td>504.000000</td>\n      <td>504.000000</td>\n      <td>504.000000</td>\n      <td>504.000000</td>\n      <td>504.000000</td>\n    </tr>\n    <tr>\n      <th>mean</th>\n      <td>0.517857</td>\n      <td>1.503968</td>\n      <td>0.319444</td>\n      <td>1.206349</td>\n      <td>0.129307</td>\n      <td>0.013889</td>\n      <td>0.113095</td>\n    </tr>\n    <tr>\n      <th>std</th>\n      <td>0.534755</td>\n      <td>0.508364</td>\n      <td>1.177632</td>\n      <td>0.409965</td>\n      <td>0.098672</td>\n      <td>0.117146</td>\n      <td>1.019252</td>\n    </tr>\n    <tr>\n      <th>min</th>\n      <td>0.000000</td>\n      <td>1.000000</td>\n      <td>0.000000</td>\n      <td>1.000000</td>\n      <td>0.001984</td>\n      <td>0.000000</td>\n      <td>0.000000</td>\n    </tr>\n    <tr>\n      <th>25%</th>\n      <td>0.000000</td>\n      <td>1.000000</td>\n      <td>0.000000</td>\n      <td>1.000000</td>\n      <td>0.043651</td>\n      <td>0.000000</td>\n      <td>0.000000</td>\n    </tr>\n    <tr>\n      <th>50%</th>\n      <td>0.500000</td>\n      <td>1.500000</td>\n      <td>0.000000</td>\n      <td>1.000000</td>\n      <td>0.079365</td>\n      <td>0.000000</td>\n      <td>0.000000</td>\n    </tr>\n    <tr>\n      <th>75%</th>\n      <td>1.000000</td>\n      <td>2.000000</td>\n      <td>0.000000</td>\n      <td>1.000000</td>\n      <td>0.273810</td>\n      <td>0.000000</td>\n      <td>0.000000</td>\n    </tr>\n    <tr>\n      <th>max</th>\n      <td>2.000000</td>\n      <td>3.000000</td>\n      <td>18.000000</td>\n      <td>3.000000</td>\n      <td>0.273810</td>\n      <td>1.000000</td>\n      <td>17.000000</td>\n    </tr>\n  </tbody>\n</table>\n</div>"
     },
     "execution_count": 6,
     "metadata": {},
     "output_type": "execute_result"
    }
   ],
   "source": [
    "godAlignments.describe()"
   ]
  },
  {
   "cell_type": "code",
   "execution_count": 7,
   "metadata": {},
   "outputs": [
    {
     "data": {
      "text/plain": "Θεοῦ = God                                 138\nὁ Θεὸς = God                                80\nΘεοῦ = of God                               40\nτοῦ Θεοῦ = God                              39\nτὸν Θεόν = God                              37\nτοῦ Θεοῦ = of God                           34\nτὸν Θεὸν = God                              22\nΘεῷ = God                                   21\nΘεὸς = God                                  18\nτῷ Θεῷ = God                                14\nὁ Θεός = God                                12\nΘεὸν = God                                   9\nτῷ Θεῷ = to God                              6\nΘεὸς = the God                               3\nΘεὸν = the God                               2\nΘεόν = God                                   2\nτοῦ Θεοῦ = God s                             2\nΘεῷ = the God                                2\nὁ Θεός = God is                              1\nὁ = God                                      1\nΘεός = God                                   1\nλατρεῦον = as they worship God               1\nΘεῷ = with God                               1\nἐξέχεεν = God poured                         1\nθεομάχοι = you are fighting against God      1\nΘεὸν = a God                                 1\nαὐτοῦ = God s                                1\nὅτι ὁ Θεὸς = God                             1\nαὐτῷ = God                                   1\nαὐτὸν = God                                  1\nΘεῷ = to God                                 1\nμετῴκισεν = God brought                      1\nὁ Θεὸς = but God                             1\nὁ δὲ Θεός = But God                          1\nΘεοῦ = God s                                 1\nΘεοῦ = by God                                1\nΘεῷ = an God                                 1\nαὐτὸς = God                                  1\nτοῦ Θεοῦ = for God                           1\nδώσει = God will give                        1\nΘεοῦ = between God                           1\nἔδωκεν = God gave                            1\nσεβομένοις = worshiped God                   1\nθεοῦ = God                                   1\nἄθεοι = without God                          1\nName: alignmentTxt, dtype: int64"
     },
     "execution_count": 7,
     "metadata": {},
     "output_type": "execute_result"
    }
   ],
   "source": [
    "# find exact word 'God' in target language\n",
    "godAlignments = db.findAlignmentsForWord(connection, 'God', searchTarget)\n",
    "# frequency of alignments\n",
    "frequency = godAlignments['alignmentTxt'].value_counts()\n",
    "frequency"
   ]
  },
  {
   "cell_type": "code",
   "execution_count": 8,
   "metadata": {},
   "outputs": [
    {
     "data": {
      "text/plain": "         origSpan  alignmentOrigWords  targetSpan  alignmentTargetWords  \\\ncount  508.000000          508.000000  508.000000            508.000000   \nmean     0.511811            1.498031    0.344488              1.226378   \nstd      0.534655            0.508310    1.205440              0.463599   \nmin      0.000000            1.000000    0.000000              1.000000   \n25%      0.000000            1.000000    0.000000              1.000000   \n50%      0.000000            1.000000    0.000000              1.000000   \n75%      1.000000            2.000000    0.000000              1.000000   \nmax      2.000000            3.000000   18.000000              5.000000   \n\n        frequency  origWordsBetween  targetWordsBetween  \ncount  508.000000         508.00000          508.000000  \nmean     0.127286           0.01378            0.118110  \nstd      0.098157           0.11669            1.017513  \nmin      0.001969           0.00000            0.000000  \n25%      0.043307           0.00000            0.000000  \n50%      0.078740           0.00000            0.000000  \n75%      0.271654           0.00000            0.000000  \nmax      0.271654           1.00000           17.000000  ",
      "text/html": "<div>\n<style scoped>\n    .dataframe tbody tr th:only-of-type {\n        vertical-align: middle;\n    }\n\n    .dataframe tbody tr th {\n        vertical-align: top;\n    }\n\n    .dataframe thead th {\n        text-align: right;\n    }\n</style>\n<table border=\"1\" class=\"dataframe\">\n  <thead>\n    <tr style=\"text-align: right;\">\n      <th></th>\n      <th>origSpan</th>\n      <th>alignmentOrigWords</th>\n      <th>targetSpan</th>\n      <th>alignmentTargetWords</th>\n      <th>frequency</th>\n      <th>origWordsBetween</th>\n      <th>targetWordsBetween</th>\n    </tr>\n  </thead>\n  <tbody>\n    <tr>\n      <th>count</th>\n      <td>508.000000</td>\n      <td>508.000000</td>\n      <td>508.000000</td>\n      <td>508.000000</td>\n      <td>508.000000</td>\n      <td>508.00000</td>\n      <td>508.000000</td>\n    </tr>\n    <tr>\n      <th>mean</th>\n      <td>0.511811</td>\n      <td>1.498031</td>\n      <td>0.344488</td>\n      <td>1.226378</td>\n      <td>0.127286</td>\n      <td>0.01378</td>\n      <td>0.118110</td>\n    </tr>\n    <tr>\n      <th>std</th>\n      <td>0.534655</td>\n      <td>0.508310</td>\n      <td>1.205440</td>\n      <td>0.463599</td>\n      <td>0.098157</td>\n      <td>0.11669</td>\n      <td>1.017513</td>\n    </tr>\n    <tr>\n      <th>min</th>\n      <td>0.000000</td>\n      <td>1.000000</td>\n      <td>0.000000</td>\n      <td>1.000000</td>\n      <td>0.001969</td>\n      <td>0.00000</td>\n      <td>0.000000</td>\n    </tr>\n    <tr>\n      <th>25%</th>\n      <td>0.000000</td>\n      <td>1.000000</td>\n      <td>0.000000</td>\n      <td>1.000000</td>\n      <td>0.043307</td>\n      <td>0.00000</td>\n      <td>0.000000</td>\n    </tr>\n    <tr>\n      <th>50%</th>\n      <td>0.000000</td>\n      <td>1.000000</td>\n      <td>0.000000</td>\n      <td>1.000000</td>\n      <td>0.078740</td>\n      <td>0.00000</td>\n      <td>0.000000</td>\n    </tr>\n    <tr>\n      <th>75%</th>\n      <td>1.000000</td>\n      <td>2.000000</td>\n      <td>0.000000</td>\n      <td>1.000000</td>\n      <td>0.271654</td>\n      <td>0.00000</td>\n      <td>0.000000</td>\n    </tr>\n    <tr>\n      <th>max</th>\n      <td>2.000000</td>\n      <td>3.000000</td>\n      <td>18.000000</td>\n      <td>5.000000</td>\n      <td>0.271654</td>\n      <td>1.00000</td>\n      <td>17.000000</td>\n    </tr>\n  </tbody>\n</table>\n</div>"
     },
     "execution_count": 8,
     "metadata": {},
     "output_type": "execute_result"
    }
   ],
   "source": [
    "godAlignments.describe()"
   ]
  },
  {
   "cell_type": "code",
   "execution_count": 9,
   "metadata": {},
   "outputs": [
    {
     "data": {
      "text/plain": "Θεοῦ = God                                 138\nὁ Θεὸς = God                                80\nΘεοῦ = of God                               40\nτοῦ Θεοῦ = God                              39\nτὸν Θεόν = God                              37\nτοῦ Θεοῦ = of God                           34\nτὸν Θεὸν = God                              22\nΘεῷ = God                                   21\nΘεὸς = God                                  18\nτῷ Θεῷ = God                                14\nὁ Θεός = God                                12\nΘεὸν = God                                   9\nτῷ Θεῷ = to God                              6\nΘεὸς = the God                               3\nΘεὸν = the God                               2\nΘεόν = God                                   2\nτοῦ Θεοῦ = God s                             2\nΘεῷ = the God                                2\nαὐτὸν = God                                  1\nὁ = God                                      1\nΘεός = God                                   1\nλατρεῦον = as they worship God               1\nΘεῷ = with God                               1\nθεόν = a god                                 1\nθεομάχοι = you are fighting against God      1\nΘεὸν = a God                                 1\nαὐτοῦ = God s                                1\nὁ Θεὸς = god is                              1\nὁ Θεός = God is                              1\nαὐτῷ = God                                   1\nΘεοῦ = God s                                 1\nΘεῷ = to God                                 1\nμετῴκισεν = God brought                      1\nθεοῦ = God                                   1\nθεοῦ = god                                   1\nσεβομένοις = worshiped God                   1\nἔδωκεν = God gave                            1\nΘεοῦ = between God                           1\nδώσει = God will give                        1\nτοῦ Θεοῦ = for God                           1\nΘεοῦ = of a god                              1\nἐξέχεεν = God poured                         1\nαὐτὸς = God                                  1\nΘεῷ = an God                                 1\nΘεοῦ = by God                                1\nὁ δὲ Θεός = But God                          1\nὅτι ὁ Θεὸς = God                             1\nὁ Θεὸς = but God                             1\nἄθεοι = without God                          1\nName: alignmentTxt, dtype: int64"
     },
     "execution_count": 9,
     "metadata": {},
     "output_type": "execute_result"
    }
   ],
   "source": [
    "# find word (ignore case) in target language\n",
    "godAlignments = db.findAlignmentsForWord(connection, 'God', searchTarget, False, caseInsensitive)\n",
    "frequency = godAlignments['alignmentTxt'].value_counts()\n",
    "frequency"
   ]
  },
  {
   "cell_type": "code",
   "execution_count": 10,
   "metadata": {},
   "outputs": [
    {
     "data": {
      "text/plain": "False"
     },
     "execution_count": 10,
     "metadata": {},
     "output_type": "execute_result"
    }
   ],
   "source": [
    "godAlignments.isnull().values.any()"
   ]
  },
  {
   "cell_type": "code",
   "execution_count": 11,
   "metadata": {},
   "outputs": [
    {
     "data": {
      "text/plain": "         origSpan  alignmentOrigWords  targetSpan  alignmentTargetWords  \\\ncount  512.000000          512.000000  512.000000            512.000000   \nmean     0.509766            1.496094    0.349609              1.232422   \nstd      0.534433            0.508234    1.203729              0.470961   \nmin      0.000000            1.000000    0.000000              1.000000   \n25%      0.000000            1.000000    0.000000              1.000000   \n50%      0.000000            1.000000    0.000000              1.000000   \n75%      1.000000            2.000000    0.000000              1.000000   \nmax      2.000000            3.000000   18.000000              5.000000   \n\n        frequency  origWordsBetween  targetWordsBetween  \ncount  512.000000        512.000000          512.000000  \nmean     0.125320          0.013672            0.117188  \nstd      0.097625          0.116238            1.013576  \nmin      0.001953          0.000000            0.000000  \n25%      0.042969          0.000000            0.000000  \n50%      0.078125          0.000000            0.000000  \n75%      0.269531          0.000000            0.000000  \nmax      0.269531          1.000000           17.000000  ",
      "text/html": "<div>\n<style scoped>\n    .dataframe tbody tr th:only-of-type {\n        vertical-align: middle;\n    }\n\n    .dataframe tbody tr th {\n        vertical-align: top;\n    }\n\n    .dataframe thead th {\n        text-align: right;\n    }\n</style>\n<table border=\"1\" class=\"dataframe\">\n  <thead>\n    <tr style=\"text-align: right;\">\n      <th></th>\n      <th>origSpan</th>\n      <th>alignmentOrigWords</th>\n      <th>targetSpan</th>\n      <th>alignmentTargetWords</th>\n      <th>frequency</th>\n      <th>origWordsBetween</th>\n      <th>targetWordsBetween</th>\n    </tr>\n  </thead>\n  <tbody>\n    <tr>\n      <th>count</th>\n      <td>512.000000</td>\n      <td>512.000000</td>\n      <td>512.000000</td>\n      <td>512.000000</td>\n      <td>512.000000</td>\n      <td>512.000000</td>\n      <td>512.000000</td>\n    </tr>\n    <tr>\n      <th>mean</th>\n      <td>0.509766</td>\n      <td>1.496094</td>\n      <td>0.349609</td>\n      <td>1.232422</td>\n      <td>0.125320</td>\n      <td>0.013672</td>\n      <td>0.117188</td>\n    </tr>\n    <tr>\n      <th>std</th>\n      <td>0.534433</td>\n      <td>0.508234</td>\n      <td>1.203729</td>\n      <td>0.470961</td>\n      <td>0.097625</td>\n      <td>0.116238</td>\n      <td>1.013576</td>\n    </tr>\n    <tr>\n      <th>min</th>\n      <td>0.000000</td>\n      <td>1.000000</td>\n      <td>0.000000</td>\n      <td>1.000000</td>\n      <td>0.001953</td>\n      <td>0.000000</td>\n      <td>0.000000</td>\n    </tr>\n    <tr>\n      <th>25%</th>\n      <td>0.000000</td>\n      <td>1.000000</td>\n      <td>0.000000</td>\n      <td>1.000000</td>\n      <td>0.042969</td>\n      <td>0.000000</td>\n      <td>0.000000</td>\n    </tr>\n    <tr>\n      <th>50%</th>\n      <td>0.000000</td>\n      <td>1.000000</td>\n      <td>0.000000</td>\n      <td>1.000000</td>\n      <td>0.078125</td>\n      <td>0.000000</td>\n      <td>0.000000</td>\n    </tr>\n    <tr>\n      <th>75%</th>\n      <td>1.000000</td>\n      <td>2.000000</td>\n      <td>0.000000</td>\n      <td>1.000000</td>\n      <td>0.269531</td>\n      <td>0.000000</td>\n      <td>0.000000</td>\n    </tr>\n    <tr>\n      <th>max</th>\n      <td>2.000000</td>\n      <td>3.000000</td>\n      <td>18.000000</td>\n      <td>5.000000</td>\n      <td>0.269531</td>\n      <td>1.000000</td>\n      <td>17.000000</td>\n    </tr>\n  </tbody>\n</table>\n</div>"
     },
     "execution_count": 11,
     "metadata": {},
     "output_type": "execute_result"
    }
   ],
   "source": [
    "godAlignments.describe()"
   ]
  },
  {
   "cell_type": "code",
   "execution_count": 12,
   "metadata": {},
   "outputs": [
    {
     "data": {
      "text/plain": "         id book_id chapter verse alignment_num  orig_lang_words  \\\n0    118054     luk       1     6             5  ,750353,750354,   \n1    118093     luk       1     8            12  ,750396,750397,   \n2    118206     luk       1    16             8  ,750517,750518,   \n3    118262     luk       1    19            11  ,750579,750580,   \n4    118382     luk       1    26            10  ,750709,750710,   \n..      ...     ...     ...   ...           ...              ...   \n507  165087     2jn       1     3             7         ,801721,   \n508  165188     2jn       1     9             9         ,801838,   \n509  165319     3jn       1     6            12         ,801998,   \n510  165396     3jn       1    11            11  ,802076,802077,   \n511  165402     3jn       1    11            17  ,802083,802084,   \n\n    target_lang_words  origSpan  \\\n0            ,727232,         1   \n1            ,727274,         1   \n2            ,727452,         1   \n3            ,727539,         1   \n4            ,727714,         1   \n..                ...       ...   \n507          ,796060,         0   \n508          ,796230,         0   \n509          ,796439,         0   \n510          ,796557,         1   \n511          ,796566,         1   \n\n                                             origWords origWordsTxt  \\\n0    [{'id': 750353, 'book_id': 'luk', 'chapter': '...     τοῦ Θεοῦ   \n1    [{'id': 750396, 'book_id': 'luk', 'chapter': '...     τοῦ Θεοῦ   \n2    [{'id': 750517, 'book_id': 'luk', 'chapter': '...     τὸν Θεὸν   \n3    [{'id': 750579, 'book_id': 'luk', 'chapter': '...     τοῦ Θεοῦ   \n4    [{'id': 750709, 'book_id': 'luk', 'chapter': '...     τοῦ Θεοῦ   \n..                                                 ...          ...   \n507  [{'id': 801721, 'book_id': '2jn', 'chapter': '...         Θεοῦ   \n508  [{'id': 801838, 'book_id': '2jn', 'chapter': '...         Θεὸν   \n509  [{'id': 801998, 'book_id': '3jn', 'chapter': '...         Θεοῦ   \n510  [{'id': 802076, 'book_id': '3jn', 'chapter': '...     τοῦ Θεοῦ   \n511  [{'id': 802083, 'book_id': '3jn', 'chapter': '...     τὸν Θεόν   \n\n     alignmentOrigWords  targetSpan  \\\n0                     2           0   \n1                     2           0   \n2                     2           0   \n3                     2           0   \n4                     2           0   \n..                  ...         ...   \n507                   1           0   \n508                   1           0   \n509                   1           0   \n510                   2           0   \n511                   2           0   \n\n                                           targetWords targetWordsTxt  \\\n0    [{'id': 727232, 'book_id': 'luk', 'chapter': '...            God   \n1    [{'id': 727274, 'book_id': 'luk', 'chapter': '...            God   \n2    [{'id': 727452, 'book_id': 'luk', 'chapter': '...            God   \n3    [{'id': 727539, 'book_id': 'luk', 'chapter': '...            God   \n4    [{'id': 727714, 'book_id': 'luk', 'chapter': '...            God   \n..                                                 ...            ...   \n507  [{'id': 796060, 'book_id': '2jn', 'chapter': '...            God   \n508  [{'id': 796230, 'book_id': '2jn', 'chapter': '...            God   \n509  [{'id': 796439, 'book_id': '3jn', 'chapter': '...            God   \n510  [{'id': 796557, 'book_id': '3jn', 'chapter': '...            God   \n511  [{'id': 796566, 'book_id': '3jn', 'chapter': '...            God   \n\n     alignmentTargetWords    alignmentTxt  frequency  origWordsBetween  \\\n0                       1  τοῦ Θεοῦ = God   0.076172                 0   \n1                       1  τοῦ Θεοῦ = God   0.076172                 0   \n2                       1  τὸν Θεὸν = God   0.042969                 0   \n3                       1  τοῦ Θεοῦ = God   0.076172                 0   \n4                       1  τοῦ Θεοῦ = God   0.076172                 0   \n..                    ...             ...        ...               ...   \n507                     1      Θεοῦ = God   0.269531                 0   \n508                     1      Θεὸν = God   0.017578                 0   \n509                     1      Θεοῦ = God   0.269531                 0   \n510                     1  τοῦ Θεοῦ = God   0.076172                 0   \n511                     1  τὸν Θεόν = God   0.072266                 0   \n\n     targetWordsBetween  \n0                     0  \n1                     0  \n2                     0  \n3                     0  \n4                     0  \n..                  ...  \n507                   0  \n508                   0  \n509                   0  \n510                   0  \n511                   0  \n\n[512 rows x 19 columns]",
      "text/html": "<div>\n<style scoped>\n    .dataframe tbody tr th:only-of-type {\n        vertical-align: middle;\n    }\n\n    .dataframe tbody tr th {\n        vertical-align: top;\n    }\n\n    .dataframe thead th {\n        text-align: right;\n    }\n</style>\n<table border=\"1\" class=\"dataframe\">\n  <thead>\n    <tr style=\"text-align: right;\">\n      <th></th>\n      <th>id</th>\n      <th>book_id</th>\n      <th>chapter</th>\n      <th>verse</th>\n      <th>alignment_num</th>\n      <th>orig_lang_words</th>\n      <th>target_lang_words</th>\n      <th>origSpan</th>\n      <th>origWords</th>\n      <th>origWordsTxt</th>\n      <th>alignmentOrigWords</th>\n      <th>targetSpan</th>\n      <th>targetWords</th>\n      <th>targetWordsTxt</th>\n      <th>alignmentTargetWords</th>\n      <th>alignmentTxt</th>\n      <th>frequency</th>\n      <th>origWordsBetween</th>\n      <th>targetWordsBetween</th>\n    </tr>\n  </thead>\n  <tbody>\n    <tr>\n      <th>0</th>\n      <td>118054</td>\n      <td>luk</td>\n      <td>1</td>\n      <td>6</td>\n      <td>5</td>\n      <td>,750353,750354,</td>\n      <td>,727232,</td>\n      <td>1</td>\n      <td>[{'id': 750353, 'book_id': 'luk', 'chapter': '...</td>\n      <td>τοῦ Θεοῦ</td>\n      <td>2</td>\n      <td>0</td>\n      <td>[{'id': 727232, 'book_id': 'luk', 'chapter': '...</td>\n      <td>God</td>\n      <td>1</td>\n      <td>τοῦ Θεοῦ = God</td>\n      <td>0.076172</td>\n      <td>0</td>\n      <td>0</td>\n    </tr>\n    <tr>\n      <th>1</th>\n      <td>118093</td>\n      <td>luk</td>\n      <td>1</td>\n      <td>8</td>\n      <td>12</td>\n      <td>,750396,750397,</td>\n      <td>,727274,</td>\n      <td>1</td>\n      <td>[{'id': 750396, 'book_id': 'luk', 'chapter': '...</td>\n      <td>τοῦ Θεοῦ</td>\n      <td>2</td>\n      <td>0</td>\n      <td>[{'id': 727274, 'book_id': 'luk', 'chapter': '...</td>\n      <td>God</td>\n      <td>1</td>\n      <td>τοῦ Θεοῦ = God</td>\n      <td>0.076172</td>\n      <td>0</td>\n      <td>0</td>\n    </tr>\n    <tr>\n      <th>2</th>\n      <td>118206</td>\n      <td>luk</td>\n      <td>1</td>\n      <td>16</td>\n      <td>8</td>\n      <td>,750517,750518,</td>\n      <td>,727452,</td>\n      <td>1</td>\n      <td>[{'id': 750517, 'book_id': 'luk', 'chapter': '...</td>\n      <td>τὸν Θεὸν</td>\n      <td>2</td>\n      <td>0</td>\n      <td>[{'id': 727452, 'book_id': 'luk', 'chapter': '...</td>\n      <td>God</td>\n      <td>1</td>\n      <td>τὸν Θεὸν = God</td>\n      <td>0.042969</td>\n      <td>0</td>\n      <td>0</td>\n    </tr>\n    <tr>\n      <th>3</th>\n      <td>118262</td>\n      <td>luk</td>\n      <td>1</td>\n      <td>19</td>\n      <td>11</td>\n      <td>,750579,750580,</td>\n      <td>,727539,</td>\n      <td>1</td>\n      <td>[{'id': 750579, 'book_id': 'luk', 'chapter': '...</td>\n      <td>τοῦ Θεοῦ</td>\n      <td>2</td>\n      <td>0</td>\n      <td>[{'id': 727539, 'book_id': 'luk', 'chapter': '...</td>\n      <td>God</td>\n      <td>1</td>\n      <td>τοῦ Θεοῦ = God</td>\n      <td>0.076172</td>\n      <td>0</td>\n      <td>0</td>\n    </tr>\n    <tr>\n      <th>4</th>\n      <td>118382</td>\n      <td>luk</td>\n      <td>1</td>\n      <td>26</td>\n      <td>10</td>\n      <td>,750709,750710,</td>\n      <td>,727714,</td>\n      <td>1</td>\n      <td>[{'id': 750709, 'book_id': 'luk', 'chapter': '...</td>\n      <td>τοῦ Θεοῦ</td>\n      <td>2</td>\n      <td>0</td>\n      <td>[{'id': 727714, 'book_id': 'luk', 'chapter': '...</td>\n      <td>God</td>\n      <td>1</td>\n      <td>τοῦ Θεοῦ = God</td>\n      <td>0.076172</td>\n      <td>0</td>\n      <td>0</td>\n    </tr>\n    <tr>\n      <th>...</th>\n      <td>...</td>\n      <td>...</td>\n      <td>...</td>\n      <td>...</td>\n      <td>...</td>\n      <td>...</td>\n      <td>...</td>\n      <td>...</td>\n      <td>...</td>\n      <td>...</td>\n      <td>...</td>\n      <td>...</td>\n      <td>...</td>\n      <td>...</td>\n      <td>...</td>\n      <td>...</td>\n      <td>...</td>\n      <td>...</td>\n      <td>...</td>\n    </tr>\n    <tr>\n      <th>507</th>\n      <td>165087</td>\n      <td>2jn</td>\n      <td>1</td>\n      <td>3</td>\n      <td>7</td>\n      <td>,801721,</td>\n      <td>,796060,</td>\n      <td>0</td>\n      <td>[{'id': 801721, 'book_id': '2jn', 'chapter': '...</td>\n      <td>Θεοῦ</td>\n      <td>1</td>\n      <td>0</td>\n      <td>[{'id': 796060, 'book_id': '2jn', 'chapter': '...</td>\n      <td>God</td>\n      <td>1</td>\n      <td>Θεοῦ = God</td>\n      <td>0.269531</td>\n      <td>0</td>\n      <td>0</td>\n    </tr>\n    <tr>\n      <th>508</th>\n      <td>165188</td>\n      <td>2jn</td>\n      <td>1</td>\n      <td>9</td>\n      <td>9</td>\n      <td>,801838,</td>\n      <td>,796230,</td>\n      <td>0</td>\n      <td>[{'id': 801838, 'book_id': '2jn', 'chapter': '...</td>\n      <td>Θεὸν</td>\n      <td>1</td>\n      <td>0</td>\n      <td>[{'id': 796230, 'book_id': '2jn', 'chapter': '...</td>\n      <td>God</td>\n      <td>1</td>\n      <td>Θεὸν = God</td>\n      <td>0.017578</td>\n      <td>0</td>\n      <td>0</td>\n    </tr>\n    <tr>\n      <th>509</th>\n      <td>165319</td>\n      <td>3jn</td>\n      <td>1</td>\n      <td>6</td>\n      <td>12</td>\n      <td>,801998,</td>\n      <td>,796439,</td>\n      <td>0</td>\n      <td>[{'id': 801998, 'book_id': '3jn', 'chapter': '...</td>\n      <td>Θεοῦ</td>\n      <td>1</td>\n      <td>0</td>\n      <td>[{'id': 796439, 'book_id': '3jn', 'chapter': '...</td>\n      <td>God</td>\n      <td>1</td>\n      <td>Θεοῦ = God</td>\n      <td>0.269531</td>\n      <td>0</td>\n      <td>0</td>\n    </tr>\n    <tr>\n      <th>510</th>\n      <td>165396</td>\n      <td>3jn</td>\n      <td>1</td>\n      <td>11</td>\n      <td>11</td>\n      <td>,802076,802077,</td>\n      <td>,796557,</td>\n      <td>1</td>\n      <td>[{'id': 802076, 'book_id': '3jn', 'chapter': '...</td>\n      <td>τοῦ Θεοῦ</td>\n      <td>2</td>\n      <td>0</td>\n      <td>[{'id': 796557, 'book_id': '3jn', 'chapter': '...</td>\n      <td>God</td>\n      <td>1</td>\n      <td>τοῦ Θεοῦ = God</td>\n      <td>0.076172</td>\n      <td>0</td>\n      <td>0</td>\n    </tr>\n    <tr>\n      <th>511</th>\n      <td>165402</td>\n      <td>3jn</td>\n      <td>1</td>\n      <td>11</td>\n      <td>17</td>\n      <td>,802083,802084,</td>\n      <td>,796566,</td>\n      <td>1</td>\n      <td>[{'id': 802083, 'book_id': '3jn', 'chapter': '...</td>\n      <td>τὸν Θεόν</td>\n      <td>2</td>\n      <td>0</td>\n      <td>[{'id': 796566, 'book_id': '3jn', 'chapter': '...</td>\n      <td>God</td>\n      <td>1</td>\n      <td>τὸν Θεόν = God</td>\n      <td>0.072266</td>\n      <td>0</td>\n      <td>0</td>\n    </tr>\n  </tbody>\n</table>\n<p>512 rows × 19 columns</p>\n</div>"
     },
     "execution_count": 12,
     "metadata": {},
     "output_type": "execute_result"
    }
   ],
   "source": [
    "godAlignments"
   ]
  },
  {
   "cell_type": "code",
   "execution_count": 13,
   "metadata": {},
   "outputs": [
    {
     "data": {
      "text/plain": "         origSpan  alignmentOrigWords  targetSpan  alignmentTargetWords  \\\ncount  512.000000          512.000000  512.000000            512.000000   \nmean     0.509766            1.496094    0.349609              1.232422   \nstd      0.534433            0.508234    1.203729              0.470961   \nmin      0.000000            1.000000    0.000000              1.000000   \n25%      0.000000            1.000000    0.000000              1.000000   \n50%      0.000000            1.000000    0.000000              1.000000   \n75%      1.000000            2.000000    0.000000              1.000000   \nmax      2.000000            3.000000   18.000000              5.000000   \n\n        frequency  origWordsBetween  targetWordsBetween  \ncount  512.000000        512.000000          512.000000  \nmean     0.125320          0.013672            0.117188  \nstd      0.097625          0.116238            1.013576  \nmin      0.001953          0.000000            0.000000  \n25%      0.042969          0.000000            0.000000  \n50%      0.078125          0.000000            0.000000  \n75%      0.269531          0.000000            0.000000  \nmax      0.269531          1.000000           17.000000  ",
      "text/html": "<div>\n<style scoped>\n    .dataframe tbody tr th:only-of-type {\n        vertical-align: middle;\n    }\n\n    .dataframe tbody tr th {\n        vertical-align: top;\n    }\n\n    .dataframe thead th {\n        text-align: right;\n    }\n</style>\n<table border=\"1\" class=\"dataframe\">\n  <thead>\n    <tr style=\"text-align: right;\">\n      <th></th>\n      <th>origSpan</th>\n      <th>alignmentOrigWords</th>\n      <th>targetSpan</th>\n      <th>alignmentTargetWords</th>\n      <th>frequency</th>\n      <th>origWordsBetween</th>\n      <th>targetWordsBetween</th>\n    </tr>\n  </thead>\n  <tbody>\n    <tr>\n      <th>count</th>\n      <td>512.000000</td>\n      <td>512.000000</td>\n      <td>512.000000</td>\n      <td>512.000000</td>\n      <td>512.000000</td>\n      <td>512.000000</td>\n      <td>512.000000</td>\n    </tr>\n    <tr>\n      <th>mean</th>\n      <td>0.509766</td>\n      <td>1.496094</td>\n      <td>0.349609</td>\n      <td>1.232422</td>\n      <td>0.125320</td>\n      <td>0.013672</td>\n      <td>0.117188</td>\n    </tr>\n    <tr>\n      <th>std</th>\n      <td>0.534433</td>\n      <td>0.508234</td>\n      <td>1.203729</td>\n      <td>0.470961</td>\n      <td>0.097625</td>\n      <td>0.116238</td>\n      <td>1.013576</td>\n    </tr>\n    <tr>\n      <th>min</th>\n      <td>0.000000</td>\n      <td>1.000000</td>\n      <td>0.000000</td>\n      <td>1.000000</td>\n      <td>0.001953</td>\n      <td>0.000000</td>\n      <td>0.000000</td>\n    </tr>\n    <tr>\n      <th>25%</th>\n      <td>0.000000</td>\n      <td>1.000000</td>\n      <td>0.000000</td>\n      <td>1.000000</td>\n      <td>0.042969</td>\n      <td>0.000000</td>\n      <td>0.000000</td>\n    </tr>\n    <tr>\n      <th>50%</th>\n      <td>0.000000</td>\n      <td>1.000000</td>\n      <td>0.000000</td>\n      <td>1.000000</td>\n      <td>0.078125</td>\n      <td>0.000000</td>\n      <td>0.000000</td>\n    </tr>\n    <tr>\n      <th>75%</th>\n      <td>1.000000</td>\n      <td>2.000000</td>\n      <td>0.000000</td>\n      <td>1.000000</td>\n      <td>0.269531</td>\n      <td>0.000000</td>\n      <td>0.000000</td>\n    </tr>\n    <tr>\n      <th>max</th>\n      <td>2.000000</td>\n      <td>3.000000</td>\n      <td>18.000000</td>\n      <td>5.000000</td>\n      <td>0.269531</td>\n      <td>1.000000</td>\n      <td>17.000000</td>\n    </tr>\n  </tbody>\n</table>\n</div>"
     },
     "execution_count": 13,
     "metadata": {},
     "output_type": "execute_result"
    }
   ],
   "source": [
    "trainingData = godAlignments.drop(columns=['id', 'alignment_num'])\n",
    "trainingData.describe()"
   ]
  },
  {
   "cell_type": "code",
   "execution_count": 14,
   "metadata": {},
   "outputs": [
    {
     "data": {
      "text/plain": "         origSpan  alignmentOrigWords  targetSpan  alignmentTargetWords  \\\ncount  512.000000          512.000000  512.000000            512.000000   \nmean     0.509766            1.496094    0.349609              1.232422   \nstd      0.534433            0.508234    1.203729              0.470961   \nmin      0.000000            1.000000    0.000000              1.000000   \n25%      0.000000            1.000000    0.000000              1.000000   \n50%      0.000000            1.000000    0.000000              1.000000   \n75%      1.000000            2.000000    0.000000              1.000000   \nmax      2.000000            3.000000   18.000000              5.000000   \n\n        frequency  origWordsBetween  targetWordsBetween  \ncount  512.000000        512.000000          512.000000  \nmean     0.125320          0.013672            0.117188  \nstd      0.097625          0.116238            1.013576  \nmin      0.001953          0.000000            0.000000  \n25%      0.042969          0.000000            0.000000  \n50%      0.078125          0.000000            0.000000  \n75%      0.269531          0.000000            0.000000  \nmax      0.269531          1.000000           17.000000  ",
      "text/html": "<div>\n<style scoped>\n    .dataframe tbody tr th:only-of-type {\n        vertical-align: middle;\n    }\n\n    .dataframe tbody tr th {\n        vertical-align: top;\n    }\n\n    .dataframe thead th {\n        text-align: right;\n    }\n</style>\n<table border=\"1\" class=\"dataframe\">\n  <thead>\n    <tr style=\"text-align: right;\">\n      <th></th>\n      <th>origSpan</th>\n      <th>alignmentOrigWords</th>\n      <th>targetSpan</th>\n      <th>alignmentTargetWords</th>\n      <th>frequency</th>\n      <th>origWordsBetween</th>\n      <th>targetWordsBetween</th>\n    </tr>\n  </thead>\n  <tbody>\n    <tr>\n      <th>count</th>\n      <td>512.000000</td>\n      <td>512.000000</td>\n      <td>512.000000</td>\n      <td>512.000000</td>\n      <td>512.000000</td>\n      <td>512.000000</td>\n      <td>512.000000</td>\n    </tr>\n    <tr>\n      <th>mean</th>\n      <td>0.509766</td>\n      <td>1.496094</td>\n      <td>0.349609</td>\n      <td>1.232422</td>\n      <td>0.125320</td>\n      <td>0.013672</td>\n      <td>0.117188</td>\n    </tr>\n    <tr>\n      <th>std</th>\n      <td>0.534433</td>\n      <td>0.508234</td>\n      <td>1.203729</td>\n      <td>0.470961</td>\n      <td>0.097625</td>\n      <td>0.116238</td>\n      <td>1.013576</td>\n    </tr>\n    <tr>\n      <th>min</th>\n      <td>0.000000</td>\n      <td>1.000000</td>\n      <td>0.000000</td>\n      <td>1.000000</td>\n      <td>0.001953</td>\n      <td>0.000000</td>\n      <td>0.000000</td>\n    </tr>\n    <tr>\n      <th>25%</th>\n      <td>0.000000</td>\n      <td>1.000000</td>\n      <td>0.000000</td>\n      <td>1.000000</td>\n      <td>0.042969</td>\n      <td>0.000000</td>\n      <td>0.000000</td>\n    </tr>\n    <tr>\n      <th>50%</th>\n      <td>0.000000</td>\n      <td>1.000000</td>\n      <td>0.000000</td>\n      <td>1.000000</td>\n      <td>0.078125</td>\n      <td>0.000000</td>\n      <td>0.000000</td>\n    </tr>\n    <tr>\n      <th>75%</th>\n      <td>1.000000</td>\n      <td>2.000000</td>\n      <td>0.000000</td>\n      <td>1.000000</td>\n      <td>0.269531</td>\n      <td>0.000000</td>\n      <td>0.000000</td>\n    </tr>\n    <tr>\n      <th>max</th>\n      <td>2.000000</td>\n      <td>3.000000</td>\n      <td>18.000000</td>\n      <td>5.000000</td>\n      <td>0.269531</td>\n      <td>1.000000</td>\n      <td>17.000000</td>\n    </tr>\n  </tbody>\n</table>\n</div>"
     },
     "execution_count": 14,
     "metadata": {},
     "output_type": "execute_result"
    }
   ],
   "source": [
    "newAlignments = godAlignments.copy()\n",
    "newAlignments['alignment_num'] = newAlignments['alignment_num'].apply(str)\n",
    "newAlignments['id'] = newAlignments['id'].apply(str)\n",
    "newAlignments.describe()"
   ]
  },
  {
   "cell_type": "code",
   "execution_count": 15,
   "metadata": {},
   "outputs": [
    {
     "data": {
      "text/plain": "Index(['id', 'book_id', 'chapter', 'verse', 'alignment_num', 'orig_lang_words',\n       'target_lang_words', 'origSpan', 'origWords', 'origWordsTxt',\n       'alignmentOrigWords', 'targetSpan', 'targetWords', 'targetWordsTxt',\n       'alignmentTargetWords', 'alignmentTxt', 'frequency', 'origWordsBetween',\n       'targetWordsBetween'],\n      dtype='object')"
     },
     "execution_count": 15,
     "metadata": {},
     "output_type": "execute_result"
    }
   ],
   "source": [
    "newAlignments.keys()\n"
   ]
  },
  {
   "cell_type": "code",
   "execution_count": 16,
   "metadata": {
    "pycharm": {
     "name": "#%%\n"
    }
   },
   "outputs": [
    {
     "data": {
      "text/plain": "         id book_id chapter verse alignment_num  orig_lang_words  \\\n0    118054     luk       1     6             5  ,750353,750354,   \n1    118093     luk       1     8            12  ,750396,750397,   \n2    118206     luk       1    16             8  ,750517,750518,   \n3    118262     luk       1    19            11  ,750579,750580,   \n4    118382     luk       1    26            10  ,750709,750710,   \n..      ...     ...     ...   ...           ...              ...   \n507  165087     2jn       1     3             7         ,801721,   \n508  165188     2jn       1     9             9         ,801838,   \n509  165319     3jn       1     6            12         ,801998,   \n510  165396     3jn       1    11            11  ,802076,802077,   \n511  165402     3jn       1    11            17  ,802083,802084,   \n\n    target_lang_words  origSpan  \\\n0            ,727232,         1   \n1            ,727274,         1   \n2            ,727452,         1   \n3            ,727539,         1   \n4            ,727714,         1   \n..                ...       ...   \n507          ,796060,         0   \n508          ,796230,         0   \n509          ,796439,         0   \n510          ,796557,         1   \n511          ,796566,         1   \n\n                                             origWords origWordsTxt  \\\n0    [{'id': 750353, 'book_id': 'luk', 'chapter': '...     τοῦ Θεοῦ   \n1    [{'id': 750396, 'book_id': 'luk', 'chapter': '...     τοῦ Θεοῦ   \n2    [{'id': 750517, 'book_id': 'luk', 'chapter': '...     τὸν Θεὸν   \n3    [{'id': 750579, 'book_id': 'luk', 'chapter': '...     τοῦ Θεοῦ   \n4    [{'id': 750709, 'book_id': 'luk', 'chapter': '...     τοῦ Θεοῦ   \n..                                                 ...          ...   \n507  [{'id': 801721, 'book_id': '2jn', 'chapter': '...         Θεοῦ   \n508  [{'id': 801838, 'book_id': '2jn', 'chapter': '...         Θεὸν   \n509  [{'id': 801998, 'book_id': '3jn', 'chapter': '...         Θεοῦ   \n510  [{'id': 802076, 'book_id': '3jn', 'chapter': '...     τοῦ Θεοῦ   \n511  [{'id': 802083, 'book_id': '3jn', 'chapter': '...     τὸν Θεόν   \n\n     alignmentOrigWords  targetSpan  \\\n0                     2           0   \n1                     2           0   \n2                     2           0   \n3                     2           0   \n4                     2           0   \n..                  ...         ...   \n507                   1           0   \n508                   1           0   \n509                   1           0   \n510                   2           0   \n511                   2           0   \n\n                                           targetWords targetWordsTxt  \\\n0    [{'id': 727232, 'book_id': 'luk', 'chapter': '...            God   \n1    [{'id': 727274, 'book_id': 'luk', 'chapter': '...            God   \n2    [{'id': 727452, 'book_id': 'luk', 'chapter': '...            God   \n3    [{'id': 727539, 'book_id': 'luk', 'chapter': '...            God   \n4    [{'id': 727714, 'book_id': 'luk', 'chapter': '...            God   \n..                                                 ...            ...   \n507  [{'id': 796060, 'book_id': '2jn', 'chapter': '...            God   \n508  [{'id': 796230, 'book_id': '2jn', 'chapter': '...            God   \n509  [{'id': 796439, 'book_id': '3jn', 'chapter': '...            God   \n510  [{'id': 796557, 'book_id': '3jn', 'chapter': '...            God   \n511  [{'id': 796566, 'book_id': '3jn', 'chapter': '...            God   \n\n     alignmentTargetWords    alignmentTxt  frequency  origWordsBetween  \\\n0                       1  τοῦ Θεοῦ = God   0.076172                 0   \n1                       1  τοῦ Θεοῦ = God   0.076172                 0   \n2                       1  τὸν Θεὸν = God   0.042969                 0   \n3                       1  τοῦ Θεοῦ = God   0.076172                 0   \n4                       1  τοῦ Θεοῦ = God   0.076172                 0   \n..                    ...             ...        ...               ...   \n507                     1      Θεοῦ = God   0.269531                 0   \n508                     1      Θεὸν = God   0.017578                 0   \n509                     1      Θεοῦ = God   0.269531                 0   \n510                     1  τοῦ Θεοῦ = God   0.076172                 0   \n511                     1  τὸν Θεόν = God   0.072266                 0   \n\n     targetWordsBetween  \n0                     0  \n1                     0  \n2                     0  \n3                     0  \n4                     0  \n..                  ...  \n507                   0  \n508                   0  \n509                   0  \n510                   0  \n511                   0  \n\n[512 rows x 19 columns]",
      "text/html": "<div>\n<style scoped>\n    .dataframe tbody tr th:only-of-type {\n        vertical-align: middle;\n    }\n\n    .dataframe tbody tr th {\n        vertical-align: top;\n    }\n\n    .dataframe thead th {\n        text-align: right;\n    }\n</style>\n<table border=\"1\" class=\"dataframe\">\n  <thead>\n    <tr style=\"text-align: right;\">\n      <th></th>\n      <th>id</th>\n      <th>book_id</th>\n      <th>chapter</th>\n      <th>verse</th>\n      <th>alignment_num</th>\n      <th>orig_lang_words</th>\n      <th>target_lang_words</th>\n      <th>origSpan</th>\n      <th>origWords</th>\n      <th>origWordsTxt</th>\n      <th>alignmentOrigWords</th>\n      <th>targetSpan</th>\n      <th>targetWords</th>\n      <th>targetWordsTxt</th>\n      <th>alignmentTargetWords</th>\n      <th>alignmentTxt</th>\n      <th>frequency</th>\n      <th>origWordsBetween</th>\n      <th>targetWordsBetween</th>\n    </tr>\n  </thead>\n  <tbody>\n    <tr>\n      <th>0</th>\n      <td>118054</td>\n      <td>luk</td>\n      <td>1</td>\n      <td>6</td>\n      <td>5</td>\n      <td>,750353,750354,</td>\n      <td>,727232,</td>\n      <td>1</td>\n      <td>[{'id': 750353, 'book_id': 'luk', 'chapter': '...</td>\n      <td>τοῦ Θεοῦ</td>\n      <td>2</td>\n      <td>0</td>\n      <td>[{'id': 727232, 'book_id': 'luk', 'chapter': '...</td>\n      <td>God</td>\n      <td>1</td>\n      <td>τοῦ Θεοῦ = God</td>\n      <td>0.076172</td>\n      <td>0</td>\n      <td>0</td>\n    </tr>\n    <tr>\n      <th>1</th>\n      <td>118093</td>\n      <td>luk</td>\n      <td>1</td>\n      <td>8</td>\n      <td>12</td>\n      <td>,750396,750397,</td>\n      <td>,727274,</td>\n      <td>1</td>\n      <td>[{'id': 750396, 'book_id': 'luk', 'chapter': '...</td>\n      <td>τοῦ Θεοῦ</td>\n      <td>2</td>\n      <td>0</td>\n      <td>[{'id': 727274, 'book_id': 'luk', 'chapter': '...</td>\n      <td>God</td>\n      <td>1</td>\n      <td>τοῦ Θεοῦ = God</td>\n      <td>0.076172</td>\n      <td>0</td>\n      <td>0</td>\n    </tr>\n    <tr>\n      <th>2</th>\n      <td>118206</td>\n      <td>luk</td>\n      <td>1</td>\n      <td>16</td>\n      <td>8</td>\n      <td>,750517,750518,</td>\n      <td>,727452,</td>\n      <td>1</td>\n      <td>[{'id': 750517, 'book_id': 'luk', 'chapter': '...</td>\n      <td>τὸν Θεὸν</td>\n      <td>2</td>\n      <td>0</td>\n      <td>[{'id': 727452, 'book_id': 'luk', 'chapter': '...</td>\n      <td>God</td>\n      <td>1</td>\n      <td>τὸν Θεὸν = God</td>\n      <td>0.042969</td>\n      <td>0</td>\n      <td>0</td>\n    </tr>\n    <tr>\n      <th>3</th>\n      <td>118262</td>\n      <td>luk</td>\n      <td>1</td>\n      <td>19</td>\n      <td>11</td>\n      <td>,750579,750580,</td>\n      <td>,727539,</td>\n      <td>1</td>\n      <td>[{'id': 750579, 'book_id': 'luk', 'chapter': '...</td>\n      <td>τοῦ Θεοῦ</td>\n      <td>2</td>\n      <td>0</td>\n      <td>[{'id': 727539, 'book_id': 'luk', 'chapter': '...</td>\n      <td>God</td>\n      <td>1</td>\n      <td>τοῦ Θεοῦ = God</td>\n      <td>0.076172</td>\n      <td>0</td>\n      <td>0</td>\n    </tr>\n    <tr>\n      <th>4</th>\n      <td>118382</td>\n      <td>luk</td>\n      <td>1</td>\n      <td>26</td>\n      <td>10</td>\n      <td>,750709,750710,</td>\n      <td>,727714,</td>\n      <td>1</td>\n      <td>[{'id': 750709, 'book_id': 'luk', 'chapter': '...</td>\n      <td>τοῦ Θεοῦ</td>\n      <td>2</td>\n      <td>0</td>\n      <td>[{'id': 727714, 'book_id': 'luk', 'chapter': '...</td>\n      <td>God</td>\n      <td>1</td>\n      <td>τοῦ Θεοῦ = God</td>\n      <td>0.076172</td>\n      <td>0</td>\n      <td>0</td>\n    </tr>\n    <tr>\n      <th>...</th>\n      <td>...</td>\n      <td>...</td>\n      <td>...</td>\n      <td>...</td>\n      <td>...</td>\n      <td>...</td>\n      <td>...</td>\n      <td>...</td>\n      <td>...</td>\n      <td>...</td>\n      <td>...</td>\n      <td>...</td>\n      <td>...</td>\n      <td>...</td>\n      <td>...</td>\n      <td>...</td>\n      <td>...</td>\n      <td>...</td>\n      <td>...</td>\n    </tr>\n    <tr>\n      <th>507</th>\n      <td>165087</td>\n      <td>2jn</td>\n      <td>1</td>\n      <td>3</td>\n      <td>7</td>\n      <td>,801721,</td>\n      <td>,796060,</td>\n      <td>0</td>\n      <td>[{'id': 801721, 'book_id': '2jn', 'chapter': '...</td>\n      <td>Θεοῦ</td>\n      <td>1</td>\n      <td>0</td>\n      <td>[{'id': 796060, 'book_id': '2jn', 'chapter': '...</td>\n      <td>God</td>\n      <td>1</td>\n      <td>Θεοῦ = God</td>\n      <td>0.269531</td>\n      <td>0</td>\n      <td>0</td>\n    </tr>\n    <tr>\n      <th>508</th>\n      <td>165188</td>\n      <td>2jn</td>\n      <td>1</td>\n      <td>9</td>\n      <td>9</td>\n      <td>,801838,</td>\n      <td>,796230,</td>\n      <td>0</td>\n      <td>[{'id': 801838, 'book_id': '2jn', 'chapter': '...</td>\n      <td>Θεὸν</td>\n      <td>1</td>\n      <td>0</td>\n      <td>[{'id': 796230, 'book_id': '2jn', 'chapter': '...</td>\n      <td>God</td>\n      <td>1</td>\n      <td>Θεὸν = God</td>\n      <td>0.017578</td>\n      <td>0</td>\n      <td>0</td>\n    </tr>\n    <tr>\n      <th>509</th>\n      <td>165319</td>\n      <td>3jn</td>\n      <td>1</td>\n      <td>6</td>\n      <td>12</td>\n      <td>,801998,</td>\n      <td>,796439,</td>\n      <td>0</td>\n      <td>[{'id': 801998, 'book_id': '3jn', 'chapter': '...</td>\n      <td>Θεοῦ</td>\n      <td>1</td>\n      <td>0</td>\n      <td>[{'id': 796439, 'book_id': '3jn', 'chapter': '...</td>\n      <td>God</td>\n      <td>1</td>\n      <td>Θεοῦ = God</td>\n      <td>0.269531</td>\n      <td>0</td>\n      <td>0</td>\n    </tr>\n    <tr>\n      <th>510</th>\n      <td>165396</td>\n      <td>3jn</td>\n      <td>1</td>\n      <td>11</td>\n      <td>11</td>\n      <td>,802076,802077,</td>\n      <td>,796557,</td>\n      <td>1</td>\n      <td>[{'id': 802076, 'book_id': '3jn', 'chapter': '...</td>\n      <td>τοῦ Θεοῦ</td>\n      <td>2</td>\n      <td>0</td>\n      <td>[{'id': 796557, 'book_id': '3jn', 'chapter': '...</td>\n      <td>God</td>\n      <td>1</td>\n      <td>τοῦ Θεοῦ = God</td>\n      <td>0.076172</td>\n      <td>0</td>\n      <td>0</td>\n    </tr>\n    <tr>\n      <th>511</th>\n      <td>165402</td>\n      <td>3jn</td>\n      <td>1</td>\n      <td>11</td>\n      <td>17</td>\n      <td>,802083,802084,</td>\n      <td>,796566,</td>\n      <td>1</td>\n      <td>[{'id': 802083, 'book_id': '3jn', 'chapter': '...</td>\n      <td>τὸν Θεόν</td>\n      <td>2</td>\n      <td>0</td>\n      <td>[{'id': 796566, 'book_id': '3jn', 'chapter': '...</td>\n      <td>God</td>\n      <td>1</td>\n      <td>τὸν Θεόν = God</td>\n      <td>0.072266</td>\n      <td>0</td>\n      <td>0</td>\n    </tr>\n  </tbody>\n</table>\n<p>512 rows × 19 columns</p>\n</div>"
     },
     "execution_count": 16,
     "metadata": {},
     "output_type": "execute_result"
    }
   ],
   "source": [
    "newAlignments"
   ]
  },
  {
   "cell_type": "code",
   "execution_count": 3,
   "outputs": [],
   "source": [
    "lemma = 'θεός'\n",
    "lemmaPath = f'data/TrainingData/{lemma}.json'\n",
    "alignments = file.readJsonFile(lemmaPath)\n",
    "alignmentsList = db.splitLemmasAndAddData(alignments, lemma)\n"
   ],
   "metadata": {
    "collapsed": false,
    "pycharm": {
     "name": "#%%\n"
    }
   }
  },
  {
   "cell_type": "code",
   "execution_count": null,
   "outputs": [],
   "source": [],
   "metadata": {
    "collapsed": false,
    "pycharm": {
     "name": "#%%\n"
    }
   }
  }
 ],
 "metadata": {
  "kernelspec": {
   "display_name": "Python 3",
   "language": "python",
   "name": "python3"
  },
  "language_info": {
   "codemirror_mode": {
    "name": "ipython",
    "version": 3
   },
   "file_extension": ".py",
   "mimetype": "text/x-python",
   "name": "python",
   "nbconvert_exporter": "python",
   "pygments_lexer": "ipython3",
   "version": "3.7.1-final"
  }
 },
 "nbformat": 4,
 "nbformat_minor": 4
}