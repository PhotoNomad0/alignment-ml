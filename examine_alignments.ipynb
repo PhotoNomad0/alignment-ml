{
 "cells": [
  {
   "cell_type": "code",
   "execution_count": 1,
   "metadata": {},
   "outputs": [
    {
     "name": "stdout",
     "output_type": "stream",
     "text": [
      "Connection to SQLite DB successful\n",
      "69050 items in target_words_table\n",
      "48892 items in alignment_table\n",
      "51861 items in original_words_table\n"
     ]
    }
   ],
   "source": [
    "import pandas as pd\n",
    "import utils.db_utils as db\n",
    "import utils.file_utils as file\n",
    "import utils.bible_utils as bible\n",
    "\n",
    "original_words_table = db.original_words_table\n",
    "target_words_table = db.target_words_table\n",
    "alignment_table = db.alignment_table\n",
    "dbPath = './data/alignmentData.sqlite'\n",
    "origLangPathGreek = './data/OrigLangJson/ugnt/v0.14'\n",
    "origLangPathHebrew = './data/OrigLangJson/uhb/v2.1.15'\n",
    "\n",
    "connection = db.initAlignmentDB(dbPath)\n",
    "\n",
    "items_target = db.fetchRecords(connection, target_words_table, '')\n",
    "print (f\"{len(items_target)} items in target_words_table\")\n",
    "\n",
    "items_align = db.fetchRecords(connection, alignment_table, '')\n",
    "print (f\"{len(items_align)} items in alignment_table\")\n",
    "\n",
    "items_orig = db.fetchRecords(connection, original_words_table, '')\n",
    "print (f\"{len(items_orig)} items in original_words_table\")\n",
    "\n",
    "# 69050 items in target_words_table\n",
    "# 48892 items in alignment_table\n",
    "# 52996 items in original_words_table\n",
    "\n",
    "searchOriginal = True\n",
    "searchTarget = False\n",
    "searchLemma = True\n",
    "caseInsensitive = True"
   ]
  },
  {
   "cell_type": "code",
   "execution_count": 2,
   "metadata": {},
   "outputs": [
    {
     "name": "stdout",
     "output_type": "stream",
     "text": [
      "262 items in search\n"
     ]
    },
    {
     "data": {
      "text/plain": [
       "Θεοῦ = God             138\n",
       "Θεοῦ = of God           40\n",
       "τοῦ Θεοῦ = God          39\n",
       "τοῦ Θεοῦ = of God       37\n",
       "τοῦ Θεοῦ = God s         2\n",
       "Θεοῦ = by God            1\n",
       "τοῦ Θεοῦ = from God      1\n",
       "τοῦ Θεοῦ = for God       1\n",
       "Θεοῦ = between God       1\n",
       "Θεοῦ = God s             1\n",
       "Θεοῦ = of a god          1\n",
       "Name: alignmentTxt, dtype: int64"
      ]
     },
     "execution_count": 2,
     "metadata": {},
     "output_type": "execute_result"
    }
   ],
   "source": [
    "# find exact word Θεοῦ in original language\n",
    "godAlignments = db.findAlignmentsForWord(connection, 'Θεοῦ', searchOriginal)\n",
    "# frequency of alignments\n",
    "frequency = godAlignments['alignmentTxt'].value_counts()\n",
    "frequency"
   ]
  },
  {
   "cell_type": "code",
   "execution_count": 3,
   "metadata": {},
   "outputs": [
    {
     "name": "stdout",
     "output_type": "stream",
     "text": [
      "509 items in search\n"
     ]
    },
    {
     "data": {
      "text/plain": [
       "Θεοῦ = God             138\n",
       "ὁ Θεὸς = God            80\n",
       "Θεοῦ = of God           40\n",
       "τοῦ Θεοῦ = God          39\n",
       "τὸν Θεόν = God          37\n",
       "τοῦ Θεοῦ = of God       37\n",
       "τὸν Θεὸν = God          22\n",
       "Θεῷ = God               21\n",
       "Θεὸς = God              18\n",
       "τῷ Θεῷ = God            14\n",
       "ὁ Θεός = God            12\n",
       "Θεὸν = God               9\n",
       "τῷ Θεῷ = to God          6\n",
       "Θεὸς = the God           3\n",
       "Θεὸν = the God           2\n",
       "Θεῷ = the God            2\n",
       "Θεῷ = to God             2\n",
       "τοῦ Θεοῦ = God s         2\n",
       "Θεόν = God               2\n",
       "θεοὶ = gods              2\n",
       "τοῦ Θεοῦ = for God       1\n",
       "ὁ δὲ Θεός = But God      1\n",
       "θεοῦ = God               1\n",
       "ὁ Θεὸς = god is          1\n",
       "ὁ Θεός = God is          1\n",
       "ὅτι ὁ Θεὸς = God         1\n",
       "θεὸν = goddess           1\n",
       "Θεῷ = with God           1\n",
       "Θεῷ = an God             1\n",
       "θεοῦ = god               1\n",
       "ὁ Θεὸς = but God         1\n",
       "Θεὸν = a God             1\n",
       "Θεοῦ = by God            1\n",
       "Θεοῦ = God s             1\n",
       "Θεοῦ = between God       1\n",
       "Θεός = God               1\n",
       "θεόν = a god             1\n",
       "τοῦ Θεοῦ = from God      1\n",
       "θεοῖς = gods             1\n",
       "θεοὺς = gods             1\n",
       "Θεοῦ = of a god          1\n",
       "Name: alignmentTxt, dtype: int64"
      ]
     },
     "execution_count": 3,
     "metadata": {},
     "output_type": "execute_result"
    }
   ],
   "source": [
    "# find all forms of θεός in original language by lemma\n",
    "godAlignments = db.findAlignmentsForWord(connection, 'θεός', searchOriginal, searchLemma)\n",
    "# frequency of alignments\n",
    "frequency = godAlignments['alignmentTxt'].value_counts()\n",
    "frequency"
   ]
  },
  {
   "cell_type": "code",
   "execution_count": 4,
   "metadata": {},
   "outputs": [
    {
     "name": "stdout",
     "output_type": "stream",
     "text": [
      "515 items in search\n"
     ]
    },
    {
     "data": {
      "text/plain": [
       "Θεοῦ = God                                 138\n",
       "ὁ Θεὸς = God                                80\n",
       "Θεοῦ = of God                               40\n",
       "τοῦ Θεοῦ = God                              39\n",
       "τὸν Θεόν = God                              37\n",
       "τοῦ Θεοῦ = of God                           37\n",
       "τὸν Θεὸν = God                              22\n",
       "Θεῷ = God                                   21\n",
       "Θεὸς = God                                  18\n",
       "τῷ Θεῷ = God                                14\n",
       "ὁ Θεός = God                                12\n",
       "Θεὸν = God                                   9\n",
       "τῷ Θεῷ = to God                              6\n",
       "Θεὸς = the God                               3\n",
       "Θεῷ = the God                                2\n",
       "Θεὸν = the God                               2\n",
       "Θεῷ = to God                                 2\n",
       "τοῦ Θεοῦ = God s                             2\n",
       "Θεόν = God                                   2\n",
       "δώσει = God will give                        1\n",
       "θεοῦ = God                                   1\n",
       "ἄθεοι = without God                          1\n",
       "ὁ δὲ Θεός = But God                          1\n",
       "Θεῷ = with God                               1\n",
       "ὁ Θεός = God is                              1\n",
       "τοῦ Θεοῦ = for God                           1\n",
       "φιλόθεοι = God loving                        1\n",
       "μετῴκισεν = God brought                      1\n",
       "ὅτι ὁ Θεὸς = God                             1\n",
       "θεομάχοι = you are fighting against God      1\n",
       "ὁ Θεὸς = but God                             1\n",
       "αὐτὸς = God                                  1\n",
       "Θεοῦ = between God                           1\n",
       "Θεοῦ = by God                                1\n",
       "ἔδωκεν = God gave                            1\n",
       "ὁ = God                                      1\n",
       "τοῦ Θεοῦ = from God                          1\n",
       "Θεός = God                                   1\n",
       "αὐτοῦ = God s                                1\n",
       "Θεοῦ = God s                                 1\n",
       "λατρεῦον = as they worship God               1\n",
       "θεόπνευστος = is God breathed                1\n",
       "αὐτῷ = God                                   1\n",
       "Θεῷ = an God                                 1\n",
       "Θεὸν = a God                                 1\n",
       "σεβομένοις = worshiped God                   1\n",
       "ἐξέχεεν = God poured                         1\n",
       "αὐτὸν = God                                  1\n",
       "Name: alignmentTxt, dtype: int64"
      ]
     },
     "execution_count": 4,
     "metadata": {},
     "output_type": "execute_result"
    }
   ],
   "source": [
    "# find exact word 'God' in target language\n",
    "godAlignments = db.findAlignmentsForWord(connection, 'God', searchTarget)\n",
    "# frequency of alignments\n",
    "frequency = godAlignments['alignmentTxt'].value_counts()\n",
    "frequency"
   ]
  },
  {
   "cell_type": "code",
   "execution_count": 5,
   "metadata": {},
   "outputs": [
    {
     "name": "stdout",
     "output_type": "stream",
     "text": [
      "519 items in search\n"
     ]
    },
    {
     "data": {
      "text/plain": [
       "Θεοῦ = God                                 138\n",
       "ὁ Θεὸς = God                                80\n",
       "Θεοῦ = of God                               40\n",
       "τοῦ Θεοῦ = God                              39\n",
       "τοῦ Θεοῦ = of God                           37\n",
       "τὸν Θεόν = God                              37\n",
       "τὸν Θεὸν = God                              22\n",
       "Θεῷ = God                                   21\n",
       "Θεὸς = God                                  18\n",
       "τῷ Θεῷ = God                                14\n",
       "ὁ Θεός = God                                12\n",
       "Θεὸν = God                                   9\n",
       "τῷ Θεῷ = to God                              6\n",
       "Θεὸς = the God                               3\n",
       "Θεὸν = the God                               2\n",
       "Θεῷ = the God                                2\n",
       "τοῦ Θεοῦ = God s                             2\n",
       "Θεόν = God                                   2\n",
       "Θεῷ = to God                                 2\n",
       "ὁ Θεὸς = god is                              1\n",
       "Θεός = God                                   1\n",
       "θεοῦ = God                                   1\n",
       "θεοῦ = god                                   1\n",
       "δώσει = God will give                        1\n",
       "ἔδωκεν = God gave                            1\n",
       "λατρεῦον = as they worship God               1\n",
       "ἐξέχεεν = God poured                         1\n",
       "Θεὸν = a God                                 1\n",
       "ὁ = God                                      1\n",
       "Θεοῦ = of a god                              1\n",
       "Θεοῦ = between God                           1\n",
       "τοῦ Θεοῦ = from God                          1\n",
       "θεόπνευστος = is God breathed                1\n",
       "αὐτοῦ = God s                                1\n",
       "θεόν = a god                                 1\n",
       "Θεοῦ = God s                                 1\n",
       "ὁ Θεὸς = but God                             1\n",
       "θεομάχοι = you are fighting against God      1\n",
       "σεβομένοις = worshiped God                   1\n",
       "αὐτὸν = God                                  1\n",
       "ὅτι ὁ Θεὸς = God                             1\n",
       "αὐτὸς = God                                  1\n",
       "μετῴκισεν = God brought                      1\n",
       "ὁ δὲ Θεός = But God                          1\n",
       "ὁ Θεός = God is                              1\n",
       "Θεοῦ = by God                                1\n",
       "αὐτῷ = God                                   1\n",
       "ἄθεοι = without God                          1\n",
       "φιλόθεοι = God loving                        1\n",
       "Θεῷ = an God                                 1\n",
       "τοῦ Θεοῦ = for God                           1\n",
       "Θεῷ = with God                               1\n",
       "Name: alignmentTxt, dtype: int64"
      ]
     },
     "execution_count": 5,
     "metadata": {},
     "output_type": "execute_result"
    }
   ],
   "source": [
    "# find word (ignore case) in target language\n",
    "godAlignments = db.findAlignmentsForWord(connection, 'God', searchTarget, False, caseInsensitive)\n",
    "frequency = godAlignments['alignmentTxt'].value_counts()\n",
    "frequency"
   ]
  },
  {
   "cell_type": "code",
   "execution_count": null,
   "metadata": {},
   "outputs": [],
   "source": []
  }
 ],
 "metadata": {
  "kernelspec": {
   "display_name": "Python 3",
   "language": "python",
   "name": "python3"
  },
  "language_info": {
   "codemirror_mode": {
    "name": "ipython",
    "version": 3
   },
   "file_extension": ".py",
   "mimetype": "text/x-python",
   "name": "python",
   "nbconvert_exporter": "python",
   "pygments_lexer": "ipython3",
   "version": "3.8.5"
  }
 },
 "nbformat": 4,
 "nbformat_minor": 4
}
