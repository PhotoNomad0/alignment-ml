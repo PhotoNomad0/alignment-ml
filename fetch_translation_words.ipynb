{
 "cells": [
  {
   "cell_type": "code",
   "execution_count": 1,
   "metadata": {},
   "outputs": [
    {
     "name": "stdout",
     "output_type": "stream",
     "text": [
      "Connection to SQLite DB successful\n"
     ]
    }
   ],
   "source": [
    "# search alignments\n",
    "\n",
    "import os\n",
    "import json\n",
    "import pandas as pd\n",
    "import utils.db_utils as db\n",
    "import utils.file_utils as file\n",
    "import utils.bible_utils as bible\n",
    "import time\n",
    "from datetime import timedelta\n",
    "\n",
    "original_words_table = db.original_words_table\n",
    "target_words_table = db.target_words_table\n",
    "alignment_table = db.alignment_table\n",
    "dbPath = './data/alignmentsData.sqlite'\n",
    "keyTermsPath = 'data/keyTerms.json'\n",
    "alignmentTrainingDataPath = './data/TrainingData'\n",
    "origLangPathGreek = './data/OrigLangJson/ugnt/v0.14'\n",
    "origLangPathHebrew = './data/OrigLangJson/uhb/v2.1.15'\n",
    "targetLangPathEn = './data/TargetLangJson/ult/v14'\n",
    "targetLang = 'en'\n",
    "tWordsTargetPath = f'/Users/blm/translationCore/resources/{targetLang}/translationHelps/translationWords/v16'\n",
    "tWordsTypeList = ['kt', 'names', 'others']\n",
    "tWordsGreekPath = '/Users/blm/translationCore/resources/el-x-koine/translationHelps/translationWords/v0.14'\n",
    "\n",
    "connection = db.initAlignmentDB(dbPath)\n",
    "\n",
    "bibleType = 'en_ult'\n",
    "testament = 1\n",
    "dataFolder = './data/AlignmentsFromProjects'\n",
    "bookId = 'tit'"
   ]
  },
  {
   "cell_type": "code",
   "execution_count": 2,
   "metadata": {
    "pycharm": {
     "name": "#%%\n"
    }
   },
   "outputs": [],
   "source": [
    "# tWordsType = 'kt'\n",
    "# bible.getTwordsQuotes(tWordsGreekPath, tWordsTargetPath, tWordsType)\n",
    "#\n",
    "#\n",
    "# word = 'apostle'\n",
    "# tWordsPath = f\"{tWordsGreekPath}/{tWordsType}/groups/{bookId}\"\n",
    "# tWordPath = f\"{tWordsPath}/{word}.json\"\n",
    "\n",
    "# fileList_ = file.listFolder(tWordsPath)\n",
    "# fileList = list(filter(lambda word: (word.find('.json') >= 0), fileList_))\n",
    "# fileList.sort()\n",
    "\n",
    "\n",
    "tWordsTypes = ['kt', 'names', 'other']\n",
    "newTestament = True\n",
    "outputFolder = './data'\n",
    "for type_ in tWordsTypes:\n",
    "    bible.saveTwordsQuotes(outputFolder, tWordsGreekPath, tWordsTargetPath, type_, targetLang, newTestament)"
   ]
  },
  {
   "cell_type": "code",
   "execution_count": 1,
   "outputs": [
    {
     "name": "stdout",
     "output_type": "stream",
     "text": [
      "for βδέλυγμα found βδέλυγμα\n"
     ]
    }
   ],
   "source": [
    "quotesPath = './data/kt_en_NT_quotes.json'\n",
    "lemmasPath = './data/kt_en_NT_lemmas.json'\n",
    "db.findLemmasForQuotes(connection, quotesPath, lemmasPath)"
   ],
   "metadata": {
    "collapsed": false,
    "pycharm": {
     "name": "#%%\n"
    }
   }
  },
  {
   "cell_type": "code",
   "execution_count": null,
   "outputs": [],
   "source": [],
   "metadata": {
    "collapsed": false,
    "pycharm": {
     "name": "#%%\n"
    }
   }
  }
 ],
 "metadata": {
  "kernelspec": {
   "display_name": "Python 3",
   "language": "python",
   "name": "python3"
  },
  "language_info": {
   "codemirror_mode": {
    "name": "ipython",
    "version": 3
   },
   "file_extension": ".py",
   "mimetype": "text/x-python",
   "name": "python",
   "nbconvert_exporter": "python",
   "pygments_lexer": "ipython3",
   "version": "3.7.1-final"
  }
 },
 "nbformat": 4,
 "nbformat_minor": 4
}